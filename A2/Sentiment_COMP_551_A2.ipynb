{
  "cells": [
    {
      "cell_type": "markdown",
      "metadata": {
        "id": "LziEosN-I1_s"
      },
      "source": [
        "# Comp551 Mini-Project 2 - Sentiment Dataset"
      ]
    },
    {
      "cell_type": "markdown",
      "metadata": {
        "id": "JesF-Hi0I8UB"
      },
      "source": [
        "# **1. Acquire, preprocess, and analyze the data**"
      ]
    },
    {
      "cell_type": "code",
      "execution_count": 4,
      "metadata": {
        "id": "lD_OylPhDQP7"
      },
      "outputs": [],
      "source": [
        "import pandas as pd\n",
        "import numpy as np\n",
        "# Set the seed for reproducibility (initializes the random number generator)\n",
        "np.random.seed(500)"
      ]
    },
    {
      "cell_type": "markdown",
      "metadata": {
        "id": "2S1p8DJlJAaQ"
      },
      "source": [
        "### **1.1 Prep work: Downloading necessary files and remove unneeded columns**\n"
      ]
    },
    {
      "cell_type": "markdown",
      "metadata": {
        "id": "KnmJXhdnd2or"
      },
      "source": [
        "#### **1.1.1 Download and import data**"
      ]
    },
    {
      "cell_type": "markdown",
      "metadata": {
        "id": "i10WhR64FW3D"
      },
      "source": [
        "Before we get started, we need to download all of the data we'll be using.\n",
        "* **training.1600000.processed.noemoticon.csv:** raw data from Sentiment140 - 1.6[link text](https:// [link text](https://)) million tweets tagged for sentiment, no column headers, nothing cleaned up"
      ]
    },
    {
      "cell_type": "code",
      "execution_count": 5,
      "metadata": {
        "colab": {
          "base_uri": "https://localhost:8080/"
        },
        "id": "L8Qrfo8RSVBA",
        "outputId": "e8adf85e-33be-4f3d-e03a-4492e008cf79"
      },
      "outputs": [
        {
          "output_type": "stream",
          "name": "stdout",
          "text": [
            "--2022-03-09 16:53:32--  http://cs.stanford.edu/people/alecmgo/trainingandtestdata.zip\n",
            "Resolving cs.stanford.edu (cs.stanford.edu)... 171.64.64.64\n",
            "Connecting to cs.stanford.edu (cs.stanford.edu)|171.64.64.64|:80... connected.\n",
            "HTTP request sent, awaiting response... 301 Moved Permanently\n",
            "Location: https://cs.stanford.edu/people/alecmgo/trainingandtestdata.zip [following]\n",
            "--2022-03-09 16:53:32--  https://cs.stanford.edu/people/alecmgo/trainingandtestdata.zip\n",
            "Connecting to cs.stanford.edu (cs.stanford.edu)|171.64.64.64|:443... connected.\n",
            "HTTP request sent, awaiting response... 200 OK\n",
            "Length: 81363704 (78M) [application/zip]\n",
            "Saving to: ‘data/trainingandtestdata.zip’\n",
            "\n",
            "trainingandtestdata 100%[===================>]  77.59M  20.8MB/s    in 4.5s    \n",
            "\n",
            "2022-03-09 16:53:37 (17.1 MB/s) - ‘data/trainingandtestdata.zip’ saved [81363704/81363704]\n",
            "\n",
            "Archive:  data/trainingandtestdata.zip\n",
            "  inflating: data/testdata.manual.2009.06.14.csv  \n",
            "  inflating: data/training.1600000.processed.noemoticon.csv  \n"
          ]
        }
      ],
      "source": [
        "!mkdir -p data\n",
        "!wget -nc http://cs.stanford.edu/people/alecmgo/trainingandtestdata.zip -P data\n",
        "!unzip -n -d data data/trainingandtestdata.zip\n",
        "\n",
        "sentiment_train = pd.read_csv(\"data/training.1600000.processed.noemoticon.csv\",\n",
        "                names=['polarity', 'id', 'date', 'query', 'user', 'text'],\n",
        "                encoding='latin-1')\n",
        "\n",
        "sentiment_test = pd.read_csv(\"data/testdata.manual.2009.06.14.csv\",\n",
        "                names=['polarity', 'id', 'date', 'query', 'user', 'text'],\n",
        "                encoding='latin-1')"
      ]
    },
    {
      "cell_type": "code",
      "execution_count": 6,
      "metadata": {
        "colab": {
          "base_uri": "https://localhost:8080/",
          "height": 0
        },
        "id": "LK40B15qKbBd",
        "outputId": "35fd19a6-f1c2-458a-d107-d117904878a0"
      },
      "outputs": [
        {
          "output_type": "execute_result",
          "data": {
            "text/html": [
              "\n",
              "  <div id=\"df-2ee371b1-bab1-4b70-a67c-8eae9e7d2f59\">\n",
              "    <div class=\"colab-df-container\">\n",
              "      <div>\n",
              "<style scoped>\n",
              "    .dataframe tbody tr th:only-of-type {\n",
              "        vertical-align: middle;\n",
              "    }\n",
              "\n",
              "    .dataframe tbody tr th {\n",
              "        vertical-align: top;\n",
              "    }\n",
              "\n",
              "    .dataframe thead th {\n",
              "        text-align: right;\n",
              "    }\n",
              "</style>\n",
              "<table border=\"1\" class=\"dataframe\">\n",
              "  <thead>\n",
              "    <tr style=\"text-align: right;\">\n",
              "      <th></th>\n",
              "      <th>polarity</th>\n",
              "      <th>id</th>\n",
              "      <th>date</th>\n",
              "      <th>query</th>\n",
              "      <th>user</th>\n",
              "      <th>text</th>\n",
              "    </tr>\n",
              "  </thead>\n",
              "  <tbody>\n",
              "    <tr>\n",
              "      <th>0</th>\n",
              "      <td>4</td>\n",
              "      <td>3</td>\n",
              "      <td>Mon May 11 03:17:40 UTC 2009</td>\n",
              "      <td>kindle2</td>\n",
              "      <td>tpryan</td>\n",
              "      <td>@stellargirl I loooooooovvvvvveee my Kindle2. ...</td>\n",
              "    </tr>\n",
              "    <tr>\n",
              "      <th>1</th>\n",
              "      <td>4</td>\n",
              "      <td>4</td>\n",
              "      <td>Mon May 11 03:18:03 UTC 2009</td>\n",
              "      <td>kindle2</td>\n",
              "      <td>vcu451</td>\n",
              "      <td>Reading my kindle2...  Love it... Lee childs i...</td>\n",
              "    </tr>\n",
              "    <tr>\n",
              "      <th>2</th>\n",
              "      <td>4</td>\n",
              "      <td>5</td>\n",
              "      <td>Mon May 11 03:18:54 UTC 2009</td>\n",
              "      <td>kindle2</td>\n",
              "      <td>chadfu</td>\n",
              "      <td>Ok, first assesment of the #kindle2 ...it fuck...</td>\n",
              "    </tr>\n",
              "    <tr>\n",
              "      <th>3</th>\n",
              "      <td>4</td>\n",
              "      <td>6</td>\n",
              "      <td>Mon May 11 03:19:04 UTC 2009</td>\n",
              "      <td>kindle2</td>\n",
              "      <td>SIX15</td>\n",
              "      <td>@kenburbary You'll love your Kindle2. I've had...</td>\n",
              "    </tr>\n",
              "    <tr>\n",
              "      <th>4</th>\n",
              "      <td>4</td>\n",
              "      <td>7</td>\n",
              "      <td>Mon May 11 03:21:41 UTC 2009</td>\n",
              "      <td>kindle2</td>\n",
              "      <td>yamarama</td>\n",
              "      <td>@mikefish  Fair enough. But i have the Kindle2...</td>\n",
              "    </tr>\n",
              "  </tbody>\n",
              "</table>\n",
              "</div>\n",
              "      <button class=\"colab-df-convert\" onclick=\"convertToInteractive('df-2ee371b1-bab1-4b70-a67c-8eae9e7d2f59')\"\n",
              "              title=\"Convert this dataframe to an interactive table.\"\n",
              "              style=\"display:none;\">\n",
              "        \n",
              "  <svg xmlns=\"http://www.w3.org/2000/svg\" height=\"24px\"viewBox=\"0 0 24 24\"\n",
              "       width=\"24px\">\n",
              "    <path d=\"M0 0h24v24H0V0z\" fill=\"none\"/>\n",
              "    <path d=\"M18.56 5.44l.94 2.06.94-2.06 2.06-.94-2.06-.94-.94-2.06-.94 2.06-2.06.94zm-11 1L8.5 8.5l.94-2.06 2.06-.94-2.06-.94L8.5 2.5l-.94 2.06-2.06.94zm10 10l.94 2.06.94-2.06 2.06-.94-2.06-.94-.94-2.06-.94 2.06-2.06.94z\"/><path d=\"M17.41 7.96l-1.37-1.37c-.4-.4-.92-.59-1.43-.59-.52 0-1.04.2-1.43.59L10.3 9.45l-7.72 7.72c-.78.78-.78 2.05 0 2.83L4 21.41c.39.39.9.59 1.41.59.51 0 1.02-.2 1.41-.59l7.78-7.78 2.81-2.81c.8-.78.8-2.07 0-2.86zM5.41 20L4 18.59l7.72-7.72 1.47 1.35L5.41 20z\"/>\n",
              "  </svg>\n",
              "      </button>\n",
              "      \n",
              "  <style>\n",
              "    .colab-df-container {\n",
              "      display:flex;\n",
              "      flex-wrap:wrap;\n",
              "      gap: 12px;\n",
              "    }\n",
              "\n",
              "    .colab-df-convert {\n",
              "      background-color: #E8F0FE;\n",
              "      border: none;\n",
              "      border-radius: 50%;\n",
              "      cursor: pointer;\n",
              "      display: none;\n",
              "      fill: #1967D2;\n",
              "      height: 32px;\n",
              "      padding: 0 0 0 0;\n",
              "      width: 32px;\n",
              "    }\n",
              "\n",
              "    .colab-df-convert:hover {\n",
              "      background-color: #E2EBFA;\n",
              "      box-shadow: 0px 1px 2px rgba(60, 64, 67, 0.3), 0px 1px 3px 1px rgba(60, 64, 67, 0.15);\n",
              "      fill: #174EA6;\n",
              "    }\n",
              "\n",
              "    [theme=dark] .colab-df-convert {\n",
              "      background-color: #3B4455;\n",
              "      fill: #D2E3FC;\n",
              "    }\n",
              "\n",
              "    [theme=dark] .colab-df-convert:hover {\n",
              "      background-color: #434B5C;\n",
              "      box-shadow: 0px 1px 3px 1px rgba(0, 0, 0, 0.15);\n",
              "      filter: drop-shadow(0px 1px 2px rgba(0, 0, 0, 0.3));\n",
              "      fill: #FFFFFF;\n",
              "    }\n",
              "  </style>\n",
              "\n",
              "      <script>\n",
              "        const buttonEl =\n",
              "          document.querySelector('#df-2ee371b1-bab1-4b70-a67c-8eae9e7d2f59 button.colab-df-convert');\n",
              "        buttonEl.style.display =\n",
              "          google.colab.kernel.accessAllowed ? 'block' : 'none';\n",
              "\n",
              "        async function convertToInteractive(key) {\n",
              "          const element = document.querySelector('#df-2ee371b1-bab1-4b70-a67c-8eae9e7d2f59');\n",
              "          const dataTable =\n",
              "            await google.colab.kernel.invokeFunction('convertToInteractive',\n",
              "                                                     [key], {});\n",
              "          if (!dataTable) return;\n",
              "\n",
              "          const docLinkHtml = 'Like what you see? Visit the ' +\n",
              "            '<a target=\"_blank\" href=https://colab.research.google.com/notebooks/data_table.ipynb>data table notebook</a>'\n",
              "            + ' to learn more about interactive tables.';\n",
              "          element.innerHTML = '';\n",
              "          dataTable['output_type'] = 'display_data';\n",
              "          await google.colab.output.renderOutput(dataTable, element);\n",
              "          const docLink = document.createElement('div');\n",
              "          docLink.innerHTML = docLinkHtml;\n",
              "          element.appendChild(docLink);\n",
              "        }\n",
              "      </script>\n",
              "    </div>\n",
              "  </div>\n",
              "  "
            ],
            "text/plain": [
              "   polarity  id                          date    query      user  \\\n",
              "0         4   3  Mon May 11 03:17:40 UTC 2009  kindle2    tpryan   \n",
              "1         4   4  Mon May 11 03:18:03 UTC 2009  kindle2    vcu451   \n",
              "2         4   5  Mon May 11 03:18:54 UTC 2009  kindle2    chadfu   \n",
              "3         4   6  Mon May 11 03:19:04 UTC 2009  kindle2     SIX15   \n",
              "4         4   7  Mon May 11 03:21:41 UTC 2009  kindle2  yamarama   \n",
              "\n",
              "                                                text  \n",
              "0  @stellargirl I loooooooovvvvvveee my Kindle2. ...  \n",
              "1  Reading my kindle2...  Love it... Lee childs i...  \n",
              "2  Ok, first assesment of the #kindle2 ...it fuck...  \n",
              "3  @kenburbary You'll love your Kindle2. I've had...  \n",
              "4  @mikefish  Fair enough. But i have the Kindle2...  "
            ]
          },
          "metadata": {},
          "execution_count": 6
        }
      ],
      "source": [
        "sentiment_test.head()"
      ]
    },
    {
      "cell_type": "markdown",
      "metadata": {
        "id": "YxV6Rp4teOQJ"
      },
      "source": [
        "#### **1.1.2 Update polarity column**"
      ]
    },
    {
      "cell_type": "code",
      "execution_count": 7,
      "metadata": {
        "colab": {
          "base_uri": "https://localhost:8080/"
        },
        "id": "-CsDnLwMfbXF",
        "outputId": "aaf43b82-aa30-4eb9-eb53-c13a3be756b6"
      },
      "outputs": [
        {
          "output_type": "execute_result",
          "data": {
            "text/plain": [
              "139"
            ]
          },
          "metadata": {},
          "execution_count": 7
        }
      ],
      "source": [
        "sentiment_test[sentiment_test['polarity']==2].shape[0]"
      ]
    },
    {
      "cell_type": "markdown",
      "metadata": {
        "id": "t8CkEQP6VKXR"
      },
      "source": [
        "Right now the `polarity` column is `0` for negative, `4` for positive. Let's change that to `0` and `1` to make things a little more reasonably readable."
      ]
    },
    {
      "cell_type": "code",
      "execution_count": 8,
      "metadata": {
        "colab": {
          "base_uri": "https://localhost:8080/"
        },
        "id": "zqWnu0gAU0yG",
        "outputId": "21b99979-197f-42da-e47b-99c8b2145016"
      },
      "outputs": [
        {
          "output_type": "stream",
          "name": "stdout",
          "text": [
            "TRAIN: Sentiment140 polarity count\n"
          ]
        },
        {
          "output_type": "execute_result",
          "data": {
            "text/plain": [
              "0    800000\n",
              "1    800000\n",
              "Name: polarity, dtype: int64"
            ]
          },
          "metadata": {},
          "execution_count": 8
        }
      ],
      "source": [
        "sentiment_train.polarity = sentiment_train.polarity.replace({0: 0, 4: 1})\n",
        "print(\"TRAIN: Sentiment140 polarity count\")\n",
        "sentiment_train.polarity.value_counts()"
      ]
    },
    {
      "cell_type": "code",
      "execution_count": 9,
      "metadata": {
        "colab": {
          "base_uri": "https://localhost:8080/"
        },
        "id": "S-ZsmoEIXkAx",
        "outputId": "18d38011-7948-43e2-f110-65511c06ab1f"
      },
      "outputs": [
        {
          "output_type": "stream",
          "name": "stdout",
          "text": [
            "TEST: Sentiment140 polarity count\n"
          ]
        },
        {
          "output_type": "execute_result",
          "data": {
            "text/plain": [
              "1    182\n",
              "0    177\n",
              "Name: polarity, dtype: int64"
            ]
          },
          "metadata": {},
          "execution_count": 9
        }
      ],
      "source": [
        "# Drop the columns with neutral\n",
        "sentiment_test = sentiment_test.drop(sentiment_test[sentiment_test.polarity == 2].index)\n",
        "sentiment_test.polarity = sentiment_test.polarity.replace({0: 0, 4: 1})\n",
        "print(\"TEST: Sentiment140 polarity count\")\n",
        "sentiment_test.polarity.value_counts()"
      ]
    },
    {
      "cell_type": "markdown",
      "metadata": {
        "id": "DgWR4L6fVXWo"
      },
      "source": [
        "#### **1.1.3 Remove unneeded columns**\n",
        "\n",
        "We don't need all those columns! Let's get rid of the ones that won't affect the sentiment."
      ]
    },
    {
      "cell_type": "code",
      "execution_count": 10,
      "metadata": {
        "id": "9M4VTGkDVRg8"
      },
      "outputs": [],
      "source": [
        "sentiment_train = sentiment_train.drop(columns=['id', 'date', 'query', 'user'])\n",
        "sentiment_train.rename(columns = {'polarity' : 'label'}, inplace = True)"
      ]
    },
    {
      "cell_type": "code",
      "execution_count": 11,
      "metadata": {
        "id": "ecU7jk4HX3AG"
      },
      "outputs": [],
      "source": [
        "sentiment_test = sentiment_test.drop(columns=['id', 'date', 'query', 'user'])\n",
        "sentiment_test.rename(columns = {'polarity' : 'label'}, inplace = True)"
      ]
    },
    {
      "cell_type": "markdown",
      "metadata": {
        "id": "k5shD7y8ebA0"
      },
      "source": [
        "#### **1.1.4 Sample tweets**"
      ]
    },
    {
      "cell_type": "markdown",
      "metadata": {
        "id": "XeztdptnVd4l"
      },
      "source": [
        "To make the size of the file smaller to incease execution time, we sample only 500,000 tweets.\n",
        "\n",
        "Now we have a dataframe with 500,000 tweets where we labelled the positive and negative tweets as 1 and 0 respectively."
      ]
    },
    {
      "cell_type": "code",
      "execution_count": 12,
      "metadata": {
        "id": "WwyieEUYVuEO"
      },
      "outputs": [],
      "source": [
        "sentiment_train = sentiment_train.sample(n=20000)\n",
        "\n",
        "# Liyun - size of the test is smaller than 500,000\n",
        "#sentiment_test = sentiment_test.sample(n=500000)"
      ]
    },
    {
      "cell_type": "markdown",
      "metadata": {
        "id": "5W2cA-aYYl-c"
      },
      "source": [
        "### **1.2 Data Preprocessing**"
      ]
    },
    {
      "cell_type": "markdown",
      "metadata": {
        "id": "h7Dmc1QRfxDX"
      },
      "source": [
        "#### **1.2.1 Import relevant packages**"
      ]
    },
    {
      "cell_type": "code",
      "execution_count": 13,
      "metadata": {
        "colab": {
          "base_uri": "https://localhost:8080/"
        },
        "id": "gtiu4bjtYwUe",
        "outputId": "ef2ad733-416c-4081-c6c0-f709181142ef"
      },
      "outputs": [
        {
          "output_type": "stream",
          "name": "stdout",
          "text": [
            "[nltk_data] Downloading package stopwords to /root/nltk_data...\n",
            "[nltk_data]   Unzipping corpora/stopwords.zip.\n",
            "[nltk_data] Downloading package wordnet to /root/nltk_data...\n",
            "[nltk_data]   Unzipping corpora/wordnet.zip.\n",
            "[nltk_data] Downloading package averaged_perceptron_tagger to\n",
            "[nltk_data]     /root/nltk_data...\n",
            "[nltk_data]   Unzipping taggers/averaged_perceptron_tagger.zip.\n"
          ]
        },
        {
          "output_type": "execute_result",
          "data": {
            "text/plain": [
              "True"
            ]
          },
          "metadata": {},
          "execution_count": 13
        }
      ],
      "source": [
        "from nltk import pos_tag, word_tokenize          \n",
        "from nltk.corpus import stopwords\n",
        "from nltk.stem import PorterStemmer, WordNetLemmatizer\n",
        "from nltk.tokenize import RegexpTokenizer\n",
        "import nltk\n",
        "import seaborn as sns\n",
        "import matplotlib.pyplot as plt\n",
        "\n",
        "nltk.download('stopwords')\n",
        "nltk.download('wordnet')\n",
        "nltk.download('averaged_perceptron_tagger')"
      ]
    },
    {
      "cell_type": "code",
      "execution_count": 14,
      "metadata": {
        "id": "qG9l6uiPY-Vc"
      },
      "outputs": [],
      "source": [
        "tokenizer = RegexpTokenizer(r'\\w+')\n",
        "lemmatizer = WordNetLemmatizer()\n",
        "stemmer = PorterStemmer()\n",
        "stop_words = stopwords.words('english')"
      ]
    },
    {
      "cell_type": "markdown",
      "metadata": {
        "id": "8W37Tv7vfsXJ"
      },
      "source": [
        "#### **1.2.2 Begin preprocessing data**"
      ]
    },
    {
      "cell_type": "code",
      "execution_count": 15,
      "metadata": {
        "colab": {
          "base_uri": "https://localhost:8080/"
        },
        "id": "iuIa6sQqcEZV",
        "outputId": "de7b3921-81a9-4503-965f-0c6492159079"
      },
      "outputs": [
        {
          "output_type": "execute_result",
          "data": {
            "text/plain": [
              "0      stellargirl I loooooooovvvvvveee my Kindle2 No...\n",
              "1      Reading my kindle2  Love it Lee childs is good...\n",
              "2      Ok first assesment of the kindle2 it fucking r...\n",
              "3      kenburbary Youll love your Kindle2 Ive had min...\n",
              "4      mikefish  Fair enough But i have the Kindle2 a...\n",
              "                             ...                        \n",
              "492    After using LaTeX a lot any other typeset math...\n",
              "494    On that note I hate Word I hate Pages I hate L...\n",
              "495    Ahhh back in a real text editing environment I...\n",
              "496    Trouble in Iran I see Hmm Iran Iran so far awa...\n",
              "497    Reading the tweets coming out of Iran The whol...\n",
              "Name: text, Length: 359, dtype: object"
            ]
          },
          "metadata": {},
          "execution_count": 15
        }
      ],
      "source": [
        "import re\n",
        "import string\n",
        "\n",
        "# Lemmatize and Tokenize\n",
        "def lemmatize_text(text):\n",
        "    return ' '.join([lemmatizer.lemmatize(word) for word in tokenizer.tokenize(text.lower())])\n",
        "\n",
        "# Remove stopwords\n",
        "def remove_stopwords(text):\n",
        "  return ' '.join([word for word in text.split() if word not in (stop_words)])\n",
        "\n",
        "# Remove numbers\n",
        "alphanumeric = lambda x: re.sub(r\"\"\"\\w*\\d\\w*\"\"\", ' ', x)\n",
        "strip = lambda x: \" \".join(str.rsplit(x))\n",
        "\n",
        "# Remove punctuations\n",
        "def remove_punctuations(text):\n",
        "    for punctuation in string.punctuation:\n",
        "        text = text.replace(punctuation, '')\n",
        "    return text\n",
        "\n",
        "sentiment_train['text'].apply(lemmatize_text)\n",
        "sentiment_train['text'].apply(remove_stopwords)\n",
        "sentiment_train.text.map(alphanumeric).map(strip)\n",
        "sentiment_train['text'].apply(remove_punctuations)\n",
        "\n",
        "sentiment_test['text'].apply(lemmatize_text)\n",
        "sentiment_test['text'].apply(remove_stopwords)\n",
        "sentiment_test.text.map(alphanumeric).map(strip)\n",
        "sentiment_test['text'].apply(remove_punctuations)\n"
      ]
    },
    {
      "cell_type": "markdown",
      "metadata": {
        "id": "ViW9u4W048Fy"
      },
      "source": [
        "### **1.3 Statistical Analysis**"
      ]
    },
    {
      "cell_type": "markdown",
      "metadata": {
        "id": "hh6-uG9ZeoEQ"
      },
      "source": [
        "#### **1.3.1 Positive + negative distributions**"
      ]
    },
    {
      "cell_type": "code",
      "execution_count": 16,
      "metadata": {
        "colab": {
          "base_uri": "https://localhost:8080/",
          "height": 0
        },
        "id": "-NglcuY6CICX",
        "outputId": "03642f7f-fc1c-4aa3-c28a-613ea5184169"
      },
      "outputs": [
        {
          "output_type": "display_data",
          "data": {
            "image/png": "[encoded data removed]",
            "text/plain": [
              "<Figure size 432x288 with 1 Axes>"
            ]
          },
          "metadata": {
            "needs_background": "light"
          }
        }
      ],
      "source": [
        "negative = sentiment_train[sentiment_train['label']==0].shape[0]\n",
        "positive = sentiment_train[sentiment_train['label']==1].shape[0]\n",
        "x = [\"0\", \"1\"]\n",
        "y = [negative, positive]\n",
        "plt.title(\"True Label distribution of Sentiment140 dataset\")\n",
        "plt.ylabel('label')\n",
        "plt.xlabel('count')\n",
        "colors = ['tab:blue','tab:orange']\n",
        "plt.barh(x, y, color = colors)\n",
        "\n",
        "for index, value in enumerate(y):\n",
        "    plt.text(value, index, str(value))"
      ]
    },
    {
      "cell_type": "code",
      "execution_count": 17,
      "metadata": {
        "colab": {
          "base_uri": "https://localhost:8080/",
          "height": 0
        },
        "id": "vg6UkZ514Hm6",
        "outputId": "9286ec89-a830-4226-faa0-a88ef2cb2973"
      },
      "outputs": [
        {
          "output_type": "display_data",
          "data": {
            "image/png": "[encoded data removed]",
            "text/plain": [
              "<Figure size 432x288 with 1 Axes>"
            ]
          },
          "metadata": {
            "needs_background": "light"
          }
        }
      ],
      "source": [
        "negative = sentiment_test[sentiment_test['label']==0].shape[0]\n",
        "positive = sentiment_test[sentiment_test['label']==1].shape[0]\n",
        "x = [\"0\", \"1\"]\n",
        "y = [negative,positive]\n",
        "plt.title(\"True Label distribution of Sentiment140 dataset\")\n",
        "plt.ylabel('label')\n",
        "plt.xlabel('count')\n",
        "colors = ['tab:blue','tab:orange']\n",
        "plt.barh(x, y, color = colors)\n",
        "\n",
        "for index, value in enumerate(y):\n",
        "    plt.text(value, index, str(value))"
      ]
    },
    {
      "cell_type": "code",
      "execution_count": 18,
      "metadata": {
        "id": "k-1tFewjyet0"
      },
      "outputs": [],
      "source": [
        "# dataset before feature extraction \n",
        "sentiment_trainC = sentiment_train.text\n",
        "sentiment_testC = sentiment_test.text\n",
        "yTrain_sentimentC = sentiment_train.label\n",
        "yTest_sentimentC = sentiment_test.label"
      ]
    },
    {
      "cell_type": "markdown",
      "metadata": {
        "id": "MOk2PDhSTgSS"
      },
      "source": [
        "### **1.4 Extracting Features**"
      ]
    },
    {
      "cell_type": "code",
      "execution_count": 19,
      "metadata": {
        "colab": {
          "base_uri": "https://localhost:8080/"
        },
        "id": "uLUi-IHtntNL",
        "outputId": "d175cd26-ec29-442f-c042-b3ce0d016d51"
      },
      "outputs": [
        {
          "output_type": "stream",
          "name": "stdout",
          "text": [
            "['00', '000', '02', '04', '06', '09', '10', '100', '1000', '100th', '10am', '10k', '10pm', '10th', '11', '11am', '12', '13', '14', '140', '14th', '15', '15th', '16', '17', '17th', '18', '182', '18th', '19', '19th', '1st', '20', '200', '2000', '2006', '2007', '2009', '2010', '20th', '21', '21st', '22', '22nd', '23', '24', '24th', '25', '26', '27', '28', '29', '2am', '2day', '2moro', '2morrow', '2moz', '2mrw', '2nd', '2night', '2nite', '2pm', '2x', '30', '300', '30am', '30pm', '30secondstomars', '31', '311', '32', '33', '330', '333', '3333', '34', '35', '350', '360', '37', '3am', '3d', '3g', '3hrs', '3pm', '3rd', '40', '400', '41', '42', '447', '45', '48', '4am', '4got', '4real', '4th', '4ward', '50', '500', '5am', '5pm', '5th', '5yr', '60', '600', '64', '67', '6am', '6pm', '6th', '70', '72', '75', '7am', '7th', '80', '80s', '8am', '8pm', '8th', '90', '90210', '90s', '95', '98', '99', '9am', '9pm', '9th', '__', 'aah', 'aaron', 'abc', 'ability', 'able', 'about', 'above', 'abs', 'absent', 'absolute', 'absolutely', 'abt', 'abuse', 'ac', 'accent', 'accents', 'accept', 'accepted', 'access', 'accident', 'accidentally', 'accomplished', 'according', 'account', 'accounts', 'acct', 'ace', 'ach', 'ache', 'aches', 'aching', 'ack', 'acoustic', 'across', 'act', 'actin', 'acting', 'action', 'active', 'activities', 'actress', 'acts', 'actual', 'actually', 'ad', 'adam', 'adams', 'add', 'added', 'addicted', 'addiction', 'addictive', 'adding', 'addition', 'address', 'admit', 'adopt', 'adorable', 'adore', 'ads', 'advance', 'advantage', 'adventure', 'advert', 'advertising', 'advice', 'affected', 'afford', 'afinefrenzy', 'afraid', 'africa', 'after', 'afternoon', 'afterwards', 'again', 'against', 'age', 'agenda', 'ages', 'agh', 'ago', 'agony', 'agree', 'agreed', 'agreeing', 'ah', 'aha', 'ahaha', 'ahahah', 'ahahaha', 'ahead', 'ahem', 'ahh', 'ahhh', 'ahhhh', 'ahhhhh', 'ai', 'aid', 'aim', 'ain', 'aint', 'air', 'airport', 'aj', 'aka', 'ako', 'al', 'alarm', 'alas', 'album', 'albums', 'alcohol', 'alcoholic', 'alex', 'alexalltimelow', 'alexis', 'alice', 'alien', 'alike', 'alive', 'all', 'allah', 'allen', 'allergic', 'allergies', 'allison', 'allow', 'allowed', 'almost', 'alone', 'along', 'alot', 'already', 'alright', 'alseep', 'also', 'alt', 'although', 'alumni', 'always', 'alyssa_milano', 'am', 'amanda', 'amandapalmer', 'amaze', 'amazed', 'amazing', 'amazingly', 'amazingphoebe', 'amazon', 'amber', 'amen', 'america', 'american', 'americans', 'among', 'amount', 'amounts', 'amp', 'amsterdam', 'amusing', 'amy', 'an', 'ana', 'analysis', 'and', 'andrew', 'andy', 'andyclemmensen', 'ang', 'angel', 'angels', 'angie', 'angry', 'animal', 'animals', 'animation', 'ankle', 'anna', 'anne', 'anniversary', 'annoy', 'annoyed', 'annoying', 'another', 'answer', 'answered', 'answering', 'answers', 'ant', 'anthem', 'anti', 'antonio', 'ants', 'anxiety', 'any', 'any1', 'anybody', 'anymore', 'anyone', 'anything', 'anytime', 'anyway', 'anyways', 'anywhere', 'apart', 'apartment', 'aplusk', 'app', 'apparently', 'appear', 'appears', 'appetite', 'apple', 'application', 'applied', 'apply', 'appointment', 'appreciate', 'appreciated', 'apprentice', 'approaching', 'appropriate', 'approve', 'approved', 'apps', 'apt', 'ar', 'ara', 'architeuth1s', 'are', 'area', 'aren', 'arent', 'argh', 'arghh', 'arm', 'arms', 'army', 'around', 'arrange', 'arrive', 'arrived', 'arrives', 'arse', 'art', 'article', 'articles', 'artist', 'arts', 'as', 'asap', 'ash', 'ashamed', 'ashes', 'ashley', 'ashton', 'asia', 'asian', 'ask', 'asked', 'asking', 'asleep', 'asot400', 'ass', 'assed', 'assignment', 'assignments', 'assistant', 'assume', 'asthma', 'aswell', 'at', 'ate', 'athletic', 'atl', 'atlanta', 'atlantic', 'atleast', 'atm', 'attached', 'attack', 'attacked', 'attempt', 'attempted', 'attempting', 'attend', 'attention', 'attics', 'attitude', 'au', 'auch', 'auction', 'audio', 'audition', 'auditions', 'audrey', 'aug', 'august', 'aunt', 'auntie', 'aus', 'aussie', 'austin', 'australia', 'australian', 'author', 'auto', 'autotune', 'available', 'avatar', 'ave', 'avoid', 'avoiding', 'aw', 'awake', 'award', 'awards', 'awareness', 'away', 'awe', 'awesome', 'awesomeness', 'awful', 'awh', 'awhile', 'awkward', 'awsome', 'aww', 'awwh', 'awww', 'awwww', 'awwwww', 'ay', 'aye', 'az', 'b4', 'baaad', 'babe', 'babes', 'babies', 'baby', 'babysit', 'babysitting', 'babyyy', 'bac', 'back', 'backed', 'background', 'backing', 'backk', 'backup', 'backyard', 'bacon', 'bad', 'badass', 'badge', 'badly', 'bag', 'bags', 'bah', 'bahahaha', 'bail', 'bailey', 'bak', 'baka', 'bake', 'baked', 'baking', 'balance', 'bali', 'ball', 'balloon', 'balls', 'bam', 'banana', 'band', 'bands', 'bang', 'bangalore', 'bangs', 'bank', 'banned', 'banner', 'bar', 'barber', 'barcelona', 'barely', 'barrel', 'barry', 'bars', 'base', 'baseball', 'based', 'basement', 'bash', 'basically', 'basketball', 'bass', 'bastard', 'bastards', 'bat', 'batch', 'bath', 'bathroom', 'batman', 'batt', 'battery', 'battle', 'battlefield', 'bay', 'bb', 'bbc', 'bbq', 'bby', 'bc', 'bcoz', 'bcuz', 'bday', 'be', 'bea', 'beach', 'bean', 'beans', 'bear', 'bearable', 'bears', 'beast', 'beat', 'beating', 'beats', 'beautiful', 'beauty', 'bebo', 'became', 'because', 'become', 'becoming', 'bed', 'beddy', 'bedroom', 'bedtime', 'bee', 'beef', 'been', 'beer', 'beers', 'beetle', 'before', 'beg', 'begin', 'beginning', 'beginnings', 'begins', 'begun', 'behalf', 'behind', 'bein', 'being', 'believe', 'belive', 'bell', 'bella', 'belly', 'belong', 'beloved', 'ben', 'bend', 'berry', 'beside', 'besides', 'best', 'bestest', 'bestfriend', 'bestie', 'besties', 'bet', 'beta', 'better', 'betty', 'between', 'beyonce', 'beyond', 'bf', 'bff', 'bg', 'bgt', 'bi', 'big', 'bigger', 'biggest', 'biggie', 'bike', 'bikes', 'biking', 'bikini', 'bill', 'billbeckett', 'bills', 'billy', 'bin', 'bing', 'bio', 'biology', 'bird', 'birds', 'birmingham', 'birth', 'birthday', 'birthdays', 'bit', 'bitch', 'bitches', 'bite', 'bites', 'bits', 'bitter', 'biz', 'bk', 'bkite', 'black', 'blackberry', 'blades', 'blah', 'blame', 'blank', 'blanket', 'blankets', 'blast', 'blasting', 'bleach', 'bleed', 'bleh', 'bless', 'blessed', 'blessing', 'blessings', 'blind', 'blink', 'blip', 'bliss', 'blister', 'block', 'blockbuster', 'blocked', 'blocking', 'blocks', 'blog', 'blogger', 'bloggers', 'blogs', 'blogspot', 'blonde', 'blood', 'bloody', 'blow', 'blown', 'blows', 'blu', 'blue', 'blues', 'bmw', 'bn', 'bnp', 'board', 'boat', 'boating', 'bob', 'bobby', 'body', 'bof', 'bolt', 'bom', 'bomb', 'bon', 'bond', 'bone', 'bones', 'bonus', 'boo', 'boobs', 'book', 'bookbag', 'booked', 'booking', 'books', 'boom', 'booo', 'boooo', 'booooo', 'booster', 'boot', 'booth', 'boots', 'booty', 'booze', 'bord', 'borders', 'bored', 'boreddd', 'boredom', 'boring', 'born', 'borrow', 'boss', 'boston', 'both', 'bother', 'bothered', 'bottle', 'bottom', 'bought', 'bout', 'bow', 'bowl', 'bowling', 'bowwow614', 'box', 'boxes', 'boy', 'boy_kill_boy', 'boyf', 'boyfriend', 'boyle', 'boys', 'bracelet', 'braces', 'brad', 'bradiewebbstack', 'brain', 'brains', 'brand', 'brandon', 'brazil', 'brb', 'bread', 'break', 'breakfast', 'breakin', 'breaking', 'breaks', 'breath', 'breathe', 'breeze', 'brian', 'brick', 'bridal', 'bride', 'bridge', 'bright', 'brighton', 'brilliant', 'bring', 'brings', 'brisbane', 'britains', 'british', 'britney', 'britneyspears', 'britt', 'brittany', 'bro', 'broadband', 'broke', 'broken', 'brooke', 'brooklyn', 'brooks', 'bros', 'brother', 'brothers', 'brought', 'brown', 'brownies', 'browser', 'bruised', 'brunch', 'bruno', 'brush', 'bsb', 'bt', 'btw', 'bubble', 'bucket', 'bucks', 'bud', 'buddy', 'budget', 'buds', 'bueno', 'buffet', 'bug', 'bugging', 'bugs', 'build', 'building', 'built', 'bull', 'bullshit', 'bully', 'bum', 'bummed', 'bummer', 'bunch', 'bunny', 'burger', 'burgers', 'burn', 'burned', 'burning', 'burns', 'burnt', 'burrito', 'burst', 'burt', 'bus', 'business', 'bust', 'busted', 'buster', 'busy', 'but', 'butt', 'butter', 'button', 'buy', 'buying', 'buzz', 'by', 'bye', 'byee', 'ca', 'cab', 'cable', 'cafe', 'caffeine', 'cake', 'cakes', 'calendar', 'cali', 'california', 'californian', 'call', 'called', 'caller', 'calling', 'calls', 'calm', 'calories', 'cam', 'came', 'camera', 'camp', 'camping', 'campus', 'can', 'canada', 'canadian', 'cancel', 'canceled', 'cancelled', 'cancer', 'candy', 'cannot', 'cant', 'cape', 'capital', 'capped', 'caps', 'captain', 'car', 'card', 'cards', 'care', 'careful', 'cares', 'cari_tx', 'carl', 'carolina', 'carpet', 'carrot', 'carry', 'carrying', 'cars', 'casa', 'case', 'cash', 'casino', 'cassie', 'castle', 'cat', 'catch', 'catching', 'catep36', 'cats', 'caught', 'cause', 'causing', 'cavs', 'cba', 'cc', 'cd', 'cds', 'ce', 'celebrate', 'celebrating', 'celebration', 'celebrations', 'celebrity', 'cell', 'celtics', 'center', 'central', 'centre', 'cereal', 'certain', 'certainly', 'cf', 'ch', 'chai', 'chair', 'chairs', 'champ', 'champagne', 'champions', 'chance', 'chances', 'change', 'changed', 'changes', 'changing', 'channel', 'channels', 'chapter', 'chapters', 'character', 'characters', 'charge', 'charger', 'charging', 'charity', 'charleston', 'charlie', 'charlotte', 'chase', 'chat', 'chatted', 'chatting', 'cheap', 'cheaper', 'cheated', 'cheating', 'check', 'checked', 'checkin', 'checking', 'cheer', 'cheers', 'cheese', 'cheesecake', 'cheesy', 'chelsea', 'chemistry', 'cherry', 'chest', 'chesterday', 'chi', 'chicago', 'chick', 'chicken', 'child', 'children', 'chill', 'chillax', 'chillaxin', 'chillin', 'chilling', 'chills', 'chilly', 'china', 'chinese', 'chip', 'chips', 'chirping', 'cho', 'chocolate', 'chocolates', 'choice', 'choices', 'choose', 'chopped', 'chores', 'chose', 'chosen', 'chow', 'chris', 'christian', 'christina', 'christmas', 'chrome', 'chuck', 'chuffed', 'church', 'ciao', 'cider', 'cigarettes', 'cinema', 'cinemas', 'cities', 'city', 'ck', 'class', 'classes', 'classic', 'classics', 'classmate', 'clean', 'cleaned', 'cleaner', 'cleaning', 'clear', 'clearly', 'cleveland', 'clever', 'cli', 'click', 'client', 'climb', 'climbing', 'clip', 'clips', 'clock', 'close', 'closed', 'closer', 'closet', 'closing', 'clothes', 'clothing', 'cloud', 'clouds', 'cloudy', 'club', 'clue', 'cnn', 'cnt', 'co', 'coach', 'coast', 'coat', 'coca', 'cock', 'cocktails', 'coco', 'cocoa', 'code', 'coding', 'cody', 'coffe', 'coffee', 'coincidence', 'coke', 'cola', 'cold', 'coldplay', 'collect', 'collection', 'college', 'color', 'colorado', 'colors', 'colour', 'com', 'combination', 'combo', 'come', 'comedy', 'comedyqueen', 'comee', 'comes', 'comfort', 'comfortable', 'comfy', 'comic', 'comics', 'comin', 'coming', 'comment', 'commenting', 'comments', 'commercials', 'comming', 'commission', 'common', 'community', 'comp', 'companies', 'company', 'compare', 'compared', 'comparison', 'comparisons', 'competition', 'complain', 'complaints', 'complete', 'completed', 'completely', 'complicated', 'compliment', 'compliments', 'computer', 'computers', 'con', 'conan', 'concentrate', 'concept', 'concerned', 'concert', 'concerts', 'condo', 'cone', 'conference', 'confession', 'confirm', 'confirmation', 'confirmed', 'confused', 'confusing', 'congrats', 'congratulations', 'congratz', 'connect', 'connecting', 'connection', 'consider', 'considered', 'considering', 'consuming', 'contact', 'contain', 'contemplating', 'content', 'contest', 'continue', 'continues', 'contract', 'control', 'convention', 'conversation', 'convey', 'convince', 'convo', 'convos', 'cook', 'cooked', 'cookie', 'cookies', 'cooking', 'cool', 'coolest', 'coolness', 'cop', 'cope', 'copies', 'cops', 'copy', 'cord', 'core', 'corn', 'corner', 'corny', 'correct', 'correctly', 'cory', 'cos', 'cost', 'costa', 'costco', 'costume', 'cottage', 'couch', 'cough', 'could', 'coulda', 'couldn', 'couldnt', 'couldve', 'council', 'count', 'counting', 'countries', 'country', 'counts', 'county', 'couple', 'courage', 'course', 'coursework', 'cousin', 'cousins', 'cover', 'coverage', 'covered', 'cow', 'cowboys', 'coworkers', 'cows', 'coz', 'cozy', 'crack', 'cracked', 'cracking', 'craig', 'cramming', 'cramps', 'crank', 'cranky', 'crap', 'crappy', 'crash', 'crashed', 'crashes', 'craving', 'crazy', 'cream', 'create', 'created', 'creating', 'creative', 'credit', 'credits', 'creepy', 'crew', 'cricket', 'cried', 'cries', 'crime', 'crisis', 'crocs', 'cross', 'crossed', 'crowd', 'cruel', 'cruise', 'crunch', 'crunchy', 'crush', 'crushed', 'cruz', 'cry', 'crying', 'crystal', 'cs', 'cubs', 'cud', 'cuddle', 'cuddling', 'cullen', 'cup', 'cupcakes', 'cups', 'cure', 'curious', 'curl', 'current', 'currently', 'curry', 'cursed', 'curve', 'cus', 'custom', 'customer', 'customers', 'cut', 'cute', 'cuter', 'cutest', 'cutie', 'cuts', 'cuttin', 'cutting', 'cuz', 'cycling', 'cyrus', 'cz', 'da', 'dad', 'daddy', 'dads', 'daily', 'daisy', 'dallas', 'dam', 'damage', 'damaged', 'dammit', 'damn', 'damnit', 'damp', 'dan', 'dance', 'dancer', 'dancing', 'dane', 'dang', 'daniel', 'danny', 'dannygokey', 'dannymcfly', 'dannywood', 'dare', 'dark', 'darker', 'darling', 'darn', 'dat', 'data', 'date', 'dates', 'dating', 'dats', 'daughter', 'dave', 'david', 'david_henrie', 'davidarchie', 'daw', 'dawn', 'dawnrichard', 'day', 'daylight', 'days', 'dayy', 'dayyy', 'dc', 'dd', 'ddlovato', 'ddub', 'de', 'dead', 'deadline', 'deadlines', 'deal', 'dealing', 'dean', 'dear', 'dearest', 'death', 'debate', 'debbiefletcher', 'debut', 'decent', 'decide', 'decided', 'decides', 'decision', 'deck', 'deed', 'deep', 'deeply', 'def', 'definately', 'definatly', 'definitely', 'degree', 'degrees', 'del', 'delay', 'delayed', 'delete', 'deleted', 'deleting', 'delhi', 'delicious', 'delish', 'delivery', 'dell', 'dem', 'demi', 'demo', 'demons', 'den', 'dennys', 'dentist', 'department', 'depends', 'depressed', 'depressing', 'depression', 'derek', 'describe', 'deserve', 'deserved', 'deserves', 'design', 'designed', 'designer', 'designers', 'desk', 'desktop', 'desperate', 'desperately', 'despite', 'destination', 'destroyed', 'details', 'determination', 'determined', 'detroit', 'dev', 'devastated', 'developed', 'developing', 'development', 'device', 'devil', 'dew', 'dexter', 'dh', 'di', 'dial', 'diary', 'dick', 'did', 'didn', 'didnt', 'die', 'died', 'diego', 'dies', 'diet', 'diff', 'difference', 'different', 'differently', 'difficult', 'dig', 'digg', 'diggin', 'digging', 'digital', 'dilemma', 'din', 'dinner', 'dinners', 'dire', 'direct', 'direction', 'director', 'dirt', 'dirty', 'dirtydizco', 'dis', 'disabled', 'disappear', 'disappoint', 'disappointed', 'disappointing', 'disaster', 'disconnected', 'discovered', 'discovering', 'discovery', 'discuss', 'discussion', 'disease', 'disgusting', 'dish', 'dishes', 'dishwasher', 'dislike', 'disney', 'disneyland', 'display', 'distance', 'distant', 'district', 'disturbing', 'ditto', 'diversity', 'dizzy', 'dj', 'djing', 'dm', 'dms', 'dmv', 'dnt', 'do', 'doc', 'doctor', 'doctors', 'does', 'doesn', 'doesnt', 'dog', 'dog_crazy', 'doggie', 'doggy', 'dogs', 'doin', 'doing', 'dollar', 'dollars', 'dominican', 'don', 'donation', 'done', 'donnie', 'donniewahlberg', 'dont', 'dontyouhate', 'donuts', 'door', 'doors', 'dope', 'dork', 'dorm', 'dos', 'dose', 'dot', 'double', 'doubt', 'douche', 'dough', 'dougie', 'dougiemcfly', 'down', 'download', 'downloaded', 'downloading', 'downs', 'downside', 'downstairs', 'downtown', 'dr', 'draft', 'drag', 'drama', 'dramas', 'drank', 'draw', 'drawing', 'dreading', 'dreads', 'dream', 'dreaming', 'dreams', 'dress', 'dressed', 'dresses', 'dressing', 'drew', 'drink', 'drinkin', 'drinking', 'drinks', 'drive', 'driver', 'drivers', 'drives', 'driving', 'drop', 'dropped', 'dropping', 'drops', 'drove', 'drowned', 'drug', 'drum', 'drummer', 'drunk', 'drunken', 'drupal', 'dry', 'ds', 'du', 'dub', 'dublin', 'duck', 'dude', 'dudes', 'due', 'duh', 'duke', 'dull', 'dumb', 'dun', 'dunno', 'duno', 'during', 'dust', 'dusty', 'dutch', 'duty', 'dvd', 'dvds', 'dvr', 'dwighthoward', 'dwn', 'dye', 'dying', 'e3', 'ea', 'each', 'eachother', 'ear', 'earache', 'earlier', 'early', 'earn', 'earned', 'ears', 'earth', 'earthquake', 'easier', 'easily', 'east', 'easter', 'eastern', 'easy', 'eat', 'eaten', 'eatin', 'eating', 'eats', 'ebay', 'econ', 'economy', 'ed', 'eden', 'edge', 'edinburgh', 'edit', 'editing', 'edition', 'editor', 'edward', 'eeek', 'eek', 'effect', 'effects', 'effin', 'effort', 'egg', 'eggs', 'eh', 'either', 'el', 'election', 'elections', 'electric', 'electricity', 'element', 'elephant', 'ellen', 'else', 'em', 'email', 'emails', 'emergency', 'emily', 'emma', 'emo', 'emotional', 'employee', 'employment', 'empty', 'en', 'encouraging', 'end', 'ended', 'ending', 'endless', 'ends', 'energy', 'eng', 'engagement', 'england', 'english', 'enjoy', 'enjoyable', 'enjoyed', 'enjoying', 'enough', 'ensemble', 'enter', 'entered', 'entering', 'entertain', 'entertained', 'entertaining', 'entire', 'entrance', 'entry', 'envy', 'ep', 'epic', 'epiphany', 'episode', 'episodes', 'equal', 'equally', 'er', 'era', 'ergh', 'eric', 'erm', 'errands', 'error', 'ers', 'es', 'escape', 'esp', 'especially', 'essay', 'essays', 'est', 'et', 'etc', 'etsy', 'eu', 'eu09', 'euro', 'europe', 'european', 'eve', 'even', 'evening', 'event', 'eventually', 'ever', 'everton', 'every', 'every1', 'everybody', 'everyday', 'everyone', 'everyones', 'everything', 'everytime', 'everywhere', 'evidently', 'evil', 'ew', 'eww', 'ewww', 'ex', 'exact', 'exactly', 'exam', 'example', 'exams', 'excellent', 'except', 'exchange', 'excited', 'excitement', 'exciting', 'excuse', 'exercise', 'exercising', 'exhausted', 'exhausting', 'exist', 'existed', 'expect', 'expected', 'expecting', 'expensive', 'experience', 'experienced', 'explain', 'explode', 'exposure', 'express', 'expression', 'ext', 'extended', 'extra', 'extremely', 'eye', 'eyebrows', 'eyed', 'eyes', 'ez', 'f1', 'fa', 'fab', 'fabulous', 'face', 'facebook', 'faces', 'facial', 'fact', 'factor', 'factory', 'fade', 'fading', 'fail', 'failed', 'failing', 'fails', 'failure', 'fair', 'fairly', 'fairy', 'faith', 'fake', 'fall', 'fallen', 'falling', 'falls', 'false', 'fam', 'families', 'family', 'famous', 'fan', 'fancy', 'fans', 'fantastic', 'fantasy', 'far', 'farmers', 'farrah', 'fart', 'fashion', 'fast', 'faster', 'fat', 'father', 'fathers', 'fault', 'fav', 'fave', 'faves', 'favorite', 'favorites', 'favourite', 'fawcett', 'fb', 'fck', 'fear', 'fearnecotton', 'feature', 'featured', 'features', 'featuring', 'fed', 'federer', 'fee', 'feed', 'feedback', 'feeds', 'feel', 'feelin', 'feeling', 'feelings', 'feels', 'feet', 'feliciaday', 'feliz', 'fell', 'fella', 'fellas', 'fellow', 'felt', 'female', 'fer', 'ferris', 'ferry', 'fest', 'festival', 'fever', 'few', 'fewer', 'ff', 'fi', 'fic', 'field', 'fields', 'fifty', 'fight', 'fighter', 'fighting', 'fights', 'figure', 'figured', 'file', 'files', 'filipino', 'fill', 'filled', 'film', 'filming', 'films', 'filter', 'final', 'finale', 'finally', 'finals', 'financial', 'find', 'finding', 'fine', 'finger', 'fingers', 'finish', 'finished', 'finishing', 'fire', 'firefox', 'fireworks', 'firmware', 'first', 'fish', 'fishing', 'fishy', 'fit', 'five', 'fix', 'fixed', 'fixing', 'fl', 'flags', 'flame', 'flash', 'flat', 'flatley', 'flew', 'flickr', 'flies', 'flight', 'flights', 'flip', 'flood', 'flooding', 'floor', 'floors', 'flops', 'florida', 'flow', 'flower', 'flowers', 'flu', 'flush', 'flushed', 'fly', 'flying', 'fm', 'fml', 'focus', 'foggy', 'folk', 'folks', 'follow', 'followed', 'follower', 'followers', 'followfriday', 'followin', 'following', 'follows', 'fond', 'fone', 'font', 'food', 'foods', 'fool', 'foot', 'football', 'footy', 'for', 'forced', 'forces', 'forecast', 'forever', 'forget', 'forgetting', 'forgive', 'forgot', 'forgotten', 'form', 'formal', 'format', 'forms', 'formula', 'fort', 'fortunately', 'fortune', 'forum', 'forums', 'forward', 'found', 'fountain', 'four', 'fourth', 'fox', 'fragile', 'fran', 'france', 'frank', 'frankiethesats', 'freak', 'freaked', 'freakin', 'freaking', 'freaks', 'freckles', 'fred', 'freddy', 'free', 'freedom', 'freeway', 'freeze', 'freezing', 'french', 'frenzy', 'fresh', 'fri', 'friday', 'fridays', 'fridge', 'fried', 'friend', 'friendly', 'friends', 'friendship', 'fries', 'friggin', 'frm', 'frog', 'from', 'front', 'frost', 'frozen', 'fruit', 'fruits', 'frustrated', 'frustrating', 'fry', 'ft', 'ftl', 'ftp', 'ftw', 'fuck', 'fucked', 'fucken', 'fucker', 'fuckin', 'fucking', 'fudge', 'full', 'fully', 'fun', 'funds', 'funeral', 'funhouse', 'funk', 'funky', 'funn', 'funniest', 'funny', 'fur', 'furious', 'furniture', 'further', 'fusion', 'fussy', 'future', 'fuzzy', 'fwd', 'fyi', 'gaga', 'gah', 'gahh', 'gain', 'gained', 'gal', 'gallery', 'gals', 'game', 'gamer', 'games', 'gang', 'gap', 'garage', 'garden', 'gardening', 'gardens', 'gary', 'gas', 'gashead', 'gav', 'gave', 'gawd', 'gay', 'gb', 'gcse', 'gd', 'gear', 'gee', 'geek', 'geeks', 'geez', 'general', 'genius', 'geography', 'george', 'georgia', 'german', 'germany', 'get', 'gets', 'gettin', 'getting', 'gf', 'gfalcone601', 'ghost', 'ghosts', 'gi', 'giant', 'gift', 'gig', 'gigs', 'gilmore', 'gimme', 'ginger', 'girl', 'girlfriend', 'girlie', 'girlies', 'girls', 'girly', 'giro', 'give', 'given', 'gives', 'giving', 'glad', 'gladly', 'glasgow', 'glass', 'glasses', 'glasvegas', 'glimpse', 'global', 'gloomy', 'glorious', 'glory', 'glow', 'glowing', 'gm', 'gmail', 'gna', 'gnight', 'gnite', 'go', 'goal', 'god', 'gods', 'goes', 'goin', 'going', 'gold', 'golden', 'golf', 'gon', 'gone', 'gonna', 'good', 'goodbye', 'goodbyes', 'goodies', 'goodluck', 'goodmorning', 'goodness', 'goodnight', 'goodnite', 'google', 'goood', 'gooood', 'goooood', 'gorgeous', 'gosh', 'gossip', 'got', 'gots', 'gotta', 'gotten', 'gr8', 'grab', 'grace', 'grad', 'grade', 'grades', 'graduate', 'graduated', 'graduating', 'graduation', 'grammar', 'grand', 'grandma', 'grandmother', 'grandpa', 'grandparents', 'granny', 'grant', 'graphic', 'grass', 'grateful', 'gray', 'great', 'greatest', 'green', 'greet', 'greetings', 'greg', 'grew', 'grey', 'grill', 'grilled', 'grin', 'grind', 'grip', 'grocery', 'groove', 'gross', 'ground', 'grounded', 'group', 'groups', 'grove', 'grow', 'growing', 'grown', 'grr', 'grrr', 'grrrr', 'grrrrr', 'grumpy', 'gs', 'gt', 'gud', 'guess', 'guessing', 'guest', 'guilt', 'guilty', 'guitar', 'gum', 'gummi', 'guna', 'gunna', 'gurgaon', 'gurl', 'guru', 'gutted', 'guy', 'guys', 'gym', 'h1n1', 'ha', 'habit', 'hacked', 'hacking', 'had', 'hadn', 'hah', 'haha', 'hahah', 'hahaha', 'hahahah', 'hahahaha', 'hahahahaha', 'hail', 'hair', 'haircut', 'hairdresser', 'haley', 'half', 'halfway', 'hall', 'halo', 'hammer', 'hand', 'handed', 'handle', 'hands', 'handsome', 'handy', 'hang', 'hangin', 'hanging', 'hangout', 'hangover', 'hannah', 'happen', 'happend', 'happened', 'happening', 'happens', 'happier', 'happiest', 'happily', 'happiness', 'happy', 'hard', 'hardcore', 'harder', 'hardest', 'hardly', 'harry', 'has', 'hasn', 'hasnt', 'hat', 'hate', 'hated', 'haters', 'hates', 'hatin', 'hating', 'hats', 'hav', 'have', 'haven', 'havent', 'havin', 'having', 'havnt', 'hawaii', 'hawks', 'hawt', 'hay', 'hayfever', 'hayley', 'haz', 'hbo', 'hd', 'he', 'head', 'headache', 'headaches', 'headed', 'heading', 'headphones', 'heads', 'heal', 'healthy', 'heap', 'hear', 'heard', 'hearing', 'heart', 'hearts', 'heat', 'heater', 'heaven', 'heavens', 'heavy', 'heck', 'hee', 'heels', 'heh', 'hehe', 'heheh', 'hehehe', 'heidi', 'held', 'hell', 'hella', 'hello', 'helmet', 'help', 'helped', 'helpful', 'helping', 'helps', 'hen4', 'hence', 'henry', 'her', 'herbal', 'here', 'heres', 'hero', 'herself', 'hes', 'hey', 'heyy', 'hi', 'hiccups', 'hid', 'hide', 'high', 'higher', 'highland', 'highly', 'hiiii', 'hike', 'hiking', 'hilarious', 'hill', 'hills', 'him', 'himself', 'himym', 'hint', 'hip', 'hips', 'hire', 'his', 'history', 'hit', 'hitting', 'hiya', 'hm', 'hmm', 'hmmm', 'hmmmm', 'ho', 'hockey', 'hoe', 'hol', 'hola', 'hold', 'holds', 'hole', 'holiday', 'holidays', 'holla', 'hollie', 'holly', 'hollywood', 'hols', 'holy', 'home', 'homee', 'homemade', 'homesick', 'hometown', 'homework', 'homeworks', 'homie', 'hon', 'honestly', 'honey', 'honor', 'honored', 'hoo', 'hood', 'hook', 'hooked', 'hooray', 'hoover', 'hop', 'hope', 'hopefully', 'hopeless', 'hopes', 'hoping', 'hoppus', 'horn', 'horrible', 'horribly', 'horror', 'horse', 'horses', 'hospital', 'host', 'hostel', 'hosting', 'hot', 'hotel', 'hotmail', 'hott', 'hottie', 'hour', 'hours', 'house', 'household', 'housewives', 'housework', 'houston', 'how', 'however', 'hows', 'howz', 'hr', 'hrs', 'hs', 'html', 'http', 'hub', 'hubby', 'hug', 'huge', 'hugh', 'hugs', 'huh', 'huhu', 'huhuhu', 'human', 'humans', 'humid', 'humor', 'hun', 'hung', 'hungover', 'hungry', 'hunnie', 'hunny', 'hunt', 'hunter', 'hunting', 'hurricane', 'hurry', 'hurt', 'hurtin', 'hurting', 'hurts', 'husband', 'hv', 'hve', 'hw', 'hype', 'iamjonathancook', 'iamsoannoyed', 'ian', 'ibiza', 'ice', 'icecream', 'iced', 'ick', 'icklesal', 'icon', 'id', 'idea', 'ideas', 'idiot', 'idk', 'idol', 'ie', 'if', 'ignore', 'ignoring', 'ihop', 'ii', 'ijustine', 'ikea', 'il', 'ill', 'iloveyou', 'ily', 'im', 'ima', 'imac', 'image', 'images', 'imagine', 'imax', 'imma', 'important', 'impossible', 'impressed', 'impressive', 'improved', 'in', 'ina', 'incase', 'inches', 'included', 'including', 'increase', 'incredible', 'incredibly', 'indeed', 'index', 'india', 'indian', 'indiana', 'indians', 'indoors', 'infamous', 'infection', 'info', 'information', 'informed', 'infront', 'ing', 'injured', 'injury', 'ink', 'inn', 'innocent', 'insane', 'inside', 'insomnia', 'inspiration', 'inspired', 'install', 'installed', 'installing', 'instead', 'instructions', 'instrument', 'insurance', 'intended', 'intense', 'interest', 'interested', 'interesting', 'internet', 'internets', 'internship', 'interrupted', 'intervention', 'interview', 'into', 'introduce', 'investment', 'invite', 'invited', 'involved', 'iphone', 'ipod', 'iran', 'iranelection', 'ireland', 'iremember', 'irish', 'irl', 'iron', 'irvine', 'is', 'ish', 'island', 'isn', 'isnt', 'isolated', 'israel', 'issue', 'issues', 'ist', 'it', 'italian', 'italy', 'itchy', 'items', 'its', 'itself', 'ittt', 'itunes', 'itv', 'itz', 'iv', 'ive', 'iz', 'iâ', 'iï', 'jack', 'jackalltimelow', 'jacket', 'jackie', 'jackson', 'jacob', 'jade', 'jail', 'jailbreak', 'jakarta', 'jake', 'jam', 'jamba', 'james', 'jamie', 'jamming', 'jane', 'japan', 'japanese', 'jar', 'jared', 'jason', 'jasonbradbury', 'jasper', 'java', 'jaw', 'jay', 'jayde_nicole', 'jazz', 'jazzy', 'jb', 'jealous', 'jean', 'jeans', 'jeez', 'jeff', 'jelly', 'jen', 'jenn', 'jennettemccurdy', 'jensen', 'jeremy', 'jerry', 'jersey', 'jess', 'jesse', 'jessemccartney', 'jessica', 'jessie', 'jesus', 'jet', 'jim', 'jimmy', 'jj', 'jk', 'jls', 'jo', 'joannaangel', 'job', 'jobless', 'jobs', 'joe', 'joey', 'joeymcintyre', 'john', 'johncmayer', 'johnny', 'johns', 'join', 'joined', 'joining', 'joint', 'joke', 'jokes', 'joking', 'jolly', 'jon', 'jonas', 'jonasbrothers', 'jonathanrknight', 'jones', 'jordan', 'jordanknight', 'josh', 'journal', 'journey', 'jovi', 'joy', 'joys', 'jpg', 'jr', 'jshe', 'jst', 'judez_xo', 'judge', 'judgement', 'juice', 'julie', 'juliet', 'july', 'jump', 'jumped', 'jumps', 'jun', 'june', 'junior', 'junk', 'jury', 'jus', 'juss', 'just', 'justin', 'juz', 'ka', 'kalebnation', 'karen230683', 'karl', 'kasabian', 'kate', 'kathy', 'katie', 'katy', 'kay', 'kayla', 'keen', 'keep', 'keeping', 'keeps', 'keith', 'kelly', 'kenny', 'kept', 'keri', 'ketchup', 'kevin', 'key', 'keyboard', 'keys', 'kick', 'kicked', 'kickin', 'kicking', 'kicks', 'kid', 'kiddies', 'kiddin', 'kidding', 'kiddos', 'kids', 'kill', 'killed', 'killer', 'killers', 'killing', 'kills', 'kind', 'kinda', 'kinds', 'king', 'kings', 'kirstiealley', 'kiss', 'kisses', 'kitchen', 'kitten', 'kitties', 'kitty', 'kk', 'knackered', 'knee', 'knees', 'knew', 'knight', 'kno', 'knock', 'knocked', 'know', 'knowing', 'knowledge', 'known', 'knows', 'knoww', 'knowww', 'knw', 'ko', 'kobe', 'kool', 'korea', 'korean', 'kris', 'krist0ph3r', 'kristen', 'kristenjstewart', 'kristin', 'kudos', 'kuz', 'kyle', 'l0l', 'l8r', 'la', 'lab', 'label', 'lack', 'lacking', 'ladies', 'lady', 'ladymaryann', 'laguna', 'laid', 'lake', 'laker', 'lakers', 'lakes', 'lambert', 'lame', 'lance', 'land', 'landed', 'lang', 'language', 'lap', 'laps', 'laptop', 'large', 'larry', 'las', 'last', 'lasted', 'late', 'latee', 'lately', 'later', 'laters', 'latest', 'latte', 'laugh', 'laughed', 'laughing', 'laughs', 'launch', 'laundry', 'laura', 'lauren', 'laurie', 'law', 'lawn', 'lawyer', 'lay', 'layin', 'laying', 'layout', 'laziness', 'lazy', 'le', 'lead', 'leading', 'league', 'leaked', 'learn', 'learned', 'learning', 'least', 'leather', 'leave', 'leaves', 'leavin', 'leaving', 'lecture', 'lee', 'left', 'leg', 'legal', 'legend', 'legged', 'legit', 'lego', 'legs', 'lemme', 'lemon', 'lemonade', 'lemons', 'leno', 'lenses', 'leo', 'leon', 'leopard', 'less', 'lesson', 'lessons', 'let', 'lets', 'letter', 'letters', 'letting', 'level', 'levels', 'lg', 'library', 'license', 'lie', 'life', 'lifetime', 'lift', 'light', 'lightening', 'lighter', 'lighting', 'lightning', 'lights', 'like', 'liked', 'likely', 'likes', 'likey', 'liking', 'lil', 'lily', 'lilyroseallen', 'limit', 'lindsay', 'line', 'lines', 'link', 'links', 'lip', 'lips', 'liquid', 'lisa', 'list', 'listen', 'listened', 'listenin', 'listening', 'lit', 'literally', 'little', 'live', 'lived', 'livejournal', 'liverpool', 'lives', 'living', 'liz', 'll', 'lmao', 'lmaoo', 'lmfao', 'lmfaoo', 'lo', 'load', 'loaded', 'loads', 'lobster', 'local', 'location', 'lock', 'locker', 'log', 'logged', 'login', 'logo', 'lol', 'loll', 'lollies', 'lolol', 'lolz', 'london', 'lonely', 'loner', 'long', 'longer', 'longest', 'look', 'looked', 'lookin', 'looking', 'looks', 'lool', 'looong', 'looove', 'loop', 'loopt', 'loose', 'loosing', 'lord', 'lose', 'loser', 'losing', 'loss', 'lost', 'lot', 'lots', 'lotsa', 'loud', 'louis', 'lounge', 'lounging', 'lovato', 'love', 'loved', 'loveeee', 'lovely', 'lover', 'loves', 'lovin', 'loving', 'low', 'lower', 'lt', 'lucas', 'luck', 'luckily', 'lucky', 'luke', 'lulz', 'lunch', 'lunchtime', 'lungs', 'lush', 'luv', 'lv', 'lvatt', 'ly', 'lying', 'lyrics', 'lã', 'ma', 'mac', 'macbook', 'maccas', 'machine', 'mad', 'madd', 'made', 'madness', 'madrid', 'mag', 'magic', 'magically', 'mah', 'maid', 'mail', 'mails', 'main', 'maintenance', 'major', 'majority', 'make', 'maker', 'makes', 'makeup', 'makin', 'making', 'malaysia', 'male', 'mall', 'malta', 'mama', 'mamas', 'man', 'manage', 'managed', 'management', 'manager', 'manda', 'mandy', 'mango', 'manila', 'mannn', 'manual', 'many', 'maps', 'marathon', 'march', 'mariahcarey', 'mario', 'marissa', 'mark', 'market', 'marketing', 'marking', 'marks', 'marley', 'marriage', 'married', 'marry', 'mars', 'mart', 'martin', 'mary', 'mask', 'mass', 'massage', 'massive', 'master', 'match', 'mate', 'material', 'mates', 'math', 'maths', 'matt', 'matter', 'matters', 'matthews', 'matts', 'max', 'may', 'maybe', 'mb', 'mc', 'mcdonalds', 'mcfly', 'mcmahon', 'mcr', 'me', 'meal', 'mean', 'meaning', 'means', 'meant', 'meantime', 'meat', 'med', 'media', 'medicine', 'medieval', 'medium', 'meds', 'mee', 'meee', 'meeee', 'meet', 'meeting', 'meetings', 'mega', 'megan', 'meghan', 'meh', 'mehh', 'mel', 'melaniefresh27', 'melbourne', 'melt', 'member', 'members', 'memorial', 'memories', 'memory', 'men', 'mental', 'mention', 'mentioned', 'menu', 'merry', 'mess', 'message', 'messages', 'messed', 'met', 'metro', 'mexican', 'mexico', 'mi', 'mia', 'miami', 'michael', 'microsoft', 'mid', 'middle', 'midnight', 'might', 'mighty', 'migraine', 'mike', 'mikey', 'mil', 'milan', 'miles', 'miley', 'mileycyrus', 'milk', 'milkshake', 'million', 'mimi', 'min', 'mind', 'minds', 'mine', 'mini', 'ministry', 'mins', 'mint', 'minus', 'minute', 'minutes', 'miracle', 'mirror', 'mis', 'miserable', 'miserably', 'miss', 'missed', 'misses', 'missin', 'missing', 'mission', 'mistake', 'mistakes', 'mister', 'mitchel', 'mitchelmusso', 'mix', 'mixed', 'mj', 'mk', 'mm', 'mmitchelldaviss', 'mmm', 'mmmm', 'mmmmm', 'mo', 'mobile', 'mobypicture', 'mocha', 'mode', 'model', 'modeling', 'models', 'molly', 'mom', 'moment', 'moments', 'momma', 'mommy', 'moms', 'mon', 'monday', 'mondays', 'money', 'monica', 'monies', 'monitor', 'monkey', 'monopoly', 'monster', 'montana', 'month', 'monthly', 'months', 'mood', 'moon', 'moonfrye', 'more', 'morgan', 'morn', 'mornin', 'morning', 'mornings', 'morrison', 'mosquitoes', 'most', 'mostly', 'mother', 'motherfucker', 'mothers', 'motivation', 'motorcycle', 'mountain', 'mountains', 'mouse', 'mouth', 'move', 'moved', 'moves', 'movie', 'movies', 'movin', 'moving', 'mowing', 'mp3', 'mr', 'mrs', 'mrskutcher', 'mrtweet', 'ms', 'msg', 'msgs', 'msn', 'mtv', 'much', 'muffin', 'muffins', 'mullet', 'multi', 'multiple', 'mum', 'mumbai', 'mummy', 'mums', 'munch', 'munchies', 'murder', 'muscle', 'muse', 'museum', 'music', 'musical', 'musicmonday', 'musso', 'must', 'mute', 'muy', 'my', 'myloc', 'mypict', 'myself', 'myspace', 'mystery', 'myweakness', 'mã', 'n97', 'na', 'nadal', 'nag', 'nah', 'nail', 'nails', 'naked', 'naman', 'name', 'named', 'names', 'nan', 'nanny', 'nany710', 'nap', 'nashville', 'nasty', 'nat', 'nate', 'national', 'natural', 'nba', 'nbc', 'nc', 'nd', 'ne', 'near', 'nearby', 'nearest', 'nearly', 'necessary', 'neck', 'necklace', 'neda', 'need', 'needed', 'needing', 'needs', 'neighbor', 'neighborhood', 'neighbors', 'neighbours', 'neil', 'neither', 'nephew', 'nerd', 'nerds', 'nervous', 'nest', 'net', 'netball', 'network', 'networking', 'never', 'nevermind', 'new', 'newcastle', 'newest', 'news', 'next', 'ng', 'nh', 'ni', 'nice', 'nicely', 'nicholasbraun', 'nick', 'nick_carter', 'nicksantino', 'nicole', 'niece', 'nieces', 'nigga', 'niggas', 'night', 'nightclub', 'nighter', 'nightmare', 'nightmares', 'nights', 'nighty', 'niice', 'nikki', 'nine', 'nintendo', 'nite', 'nj', 'nkotb', 'nl', 'nm', 'no', 'no1', 'nobody', 'noe', 'noes', 'noise', 'nokia', 'non', 'none', 'nonsense', 'noo', 'noodles', 'noon', 'noone', 'nooo', 'noooo', 'nooooo', 'noooooo', 'nooooooo', 'nope', 'nor', 'normal', 'normally', 'north', 'northern', 'norway', 'nose', 'not', 'notch', 'note', 'notebook', 'notes', 'nothin', 'nothing', 'notice', 'noticed', 'novel', 'november', 'now', 'nowadays', 'nowhere', 'np', 'nt', 'nu', 'nuggets', 'number', 'numbers', 'nur', 'nut', 'nutella', 'nuthin', 'nuts', 'nw', 'nxt', 'ny', 'nyc', 'nz', 'o2', 'o_o', 'obama', 'object', 'obsessed', 'obvious', 'obviously', 'oc', 'occasion', 'ocean', 'october', 'odd', 'oddly', 'of', 'ofcourse', 'off', 'offence', 'offer', 'offered', 'office', 'officer', 'official', 'officialas', 'officialashleyg', 'officially', 'officialtila', 'offline', 'often', 'oh', 'ohh', 'ohhh', 'ohhhh', 'oil', 'ok', 'okay', 'okcupid', 'ol', 'old', 'older', 'oldest', 'olive', 'olivia', 'omfg', 'omg', 'on', 'once', 'one', 'ones', 'online', 'only', 'ontario', 'onto', 'ooh', 'oohh', 'ooo', 'oooh', 'oooo', 'ooooh', 'ooooo', 'oops', 'op', 'open', 'opened', 'opening', 'opens', 'opera', 'opinion', 'opportunity', 'opps', 'oprah', 'option', 'options', 'or', 'oral', 'orange', 'orangy68', 'order', 'ordered', 'ordering', 'orders', 'oreo', 'org', 'original', 'orlando', 'os', 'oth', 'other', 'others', 'otherwise', 'ottawa', 'ouch', 'our', 'ours', 'ourselves', 'out', 'outfit', 'outing', 'outlet', 'outlook', 'outs', 'outside', 'outta', 'oven', 'over', 'overall', 'overnight', 'overslept', 'ow', 'owe', 'owl', 'own', 'owned', 'owner', 'owt', 'owww', 'oxford', 'oz', 'p90x', 'pa', 'pacific', 'pack', 'package', 'packed', 'packing', 'pad', 'page', 'pages', 'paid', 'paige', 'pain', 'painful', 'pains', 'paint', 'painting', 'pair', 'pale', 'palm', 'pan', 'pancake', 'pancakes', 'panda', 'pandamayhem', 'pandora', 'panic', 'pants', 'papa', 'paper', 'papers', 'paperwork', 'parade', 'paradise', 'paramore', 'paranoid', 'parent', 'parents', 'paris', 'park', 'parking', 'part', 'particular', 'partied', 'parties', 'partner', 'parts', 'party', 'partying', 'pass', 'passed', 'passes', 'passing', 'passion', 'passport', 'password', 'past', 'pasta', 'paste', 'pastor', 'pat', 'patch', 'pathetic', 'patience', 'patients', 'patrick', 'patrol', 'pattern', 'paul', 'paula', 'pay', 'paying', 'pb', 'pc', 'peace', 'peaceful', 'peach', 'peak', 'peanut', 'pearl', 'pedi', 'pee', 'peeps', 'pen', 'penguins', 'penis', 'pens', 'people', 'peoples', 'pepsi', 'per', 'perezhilton', 'perfect', 'perfectly', 'perform', 'performance', 'performing', 'perhaps', 'period', 'perry', 'person', 'personal', 'personally', 'perth', 'pet', 'pete', 'peter', 'peterfacinelli', 'petewentz', 'pets', 'pff', 'phase', 'phew', 'phil', 'philippines', 'philly', 'phone', 'phones', 'photo', 'photobucket', 'photog', 'photography', 'photos', 'photoshoot', 'photoshop', 'phrase', 'physically', 'physics', 'piano', 'pic', 'pick', 'picked', 'picking', 'pickle', 'picnic', 'pics', 'picture', 'pictures', 'pie', 'piece', 'pieces', 'pierced', 'pig', 'pile', 'pill', 'pillow', 'pills', 'pimp', 'pineapple', 'pink', 'pinkelephant73', 'pinky', 'pint', 'pirate', 'pirates', 'piss', 'pissed', 'pissing', 'pit', 'pitch', 'pity', 'pix', 'pizza', 'pj', 'pl', 'place', 'places', 'plain', 'plan', 'plane', 'planet', 'planned', 'planning', 'plans', 'plant', 'plastic', 'plate', 'play', 'playa', 'played', 'player', 'playin', 'playing', 'playoff', 'plays', 'pleasant', 'please', 'pleased', 'pleasure', 'plenty', 'pls', 'plug', 'plugged', 'plurk', 'plus', 'plz', 'pm', 'pmsl', 'pocket', 'podcast', 'point', 'points', 'poison', 'pokemon', 'poker', 'police', 'polish', 'politics', 'pond', 'poo', 'pool', 'poop', 'pooped', 'poor', 'poorly', 'pop', 'popcorn', 'pops', 'popsicle', 'popular', 'por', 'porn', 'porridge', 'portrait', 'portugal', 'portuguese', 'pose', 'positive', 'possible', 'possibly', 'post', 'posted', 'posting', 'posts', 'pot', 'potato', 'potatoes', 'potter', 'pounding', 'pounds', 'pouring', 'power', 'powerful', 'powers', 'ppl', 'pr', 'practical', 'practically', 'practice', 'praise', 'pray', 'prayer', 'prayers', 'prayin', 'praying', 'pre', 'preach', 'precious', 'predicted', 'prefer', 'pregnancy', 'pregnant', 'premiere', 'premium', 'prep', 'prepare', 'preparing', 'presence', 'present', 'presentation', 'presents', 'president', 'pressing', 'pressure', 'pretend', 'pretty', 'preview', 'previous', 'price', 'prices', 'pride', 'primeval', 'prince', 'princesammie', 'princess', 'print', 'printed', 'printer', 'prior', 'prison', 'private', 'prize', 'prizes', 'pro', 'prob', 'probably', 'problem', 'problems', 'probs', 'process', 'productive', 'products', 'professional', 'profile', 'profiles', 'program', 'programme', 'programming', 'progress', 'project', 'projects', 'prolly', 'prom', 'promise', 'promised', 'proof', 'proper', 'properly', 'proposal', 'props', 'protected', 'protein', 'proud', 'prove', 'proves', 'ps', 'ps3', 'pt', 'pub', 'public', 'pudding', 'pull', 'pulled', 'pulling', 'pumped', 'pun', 'punch', 'punishment', 'punk', 'puppies', 'puppy', 'pups', 'purchase', 'purchases', 'pure', 'purple', 'purpose', 'push', 'pushed', 'pushing', 'put', 'puts', 'putting', 'python', 'qandq', 'quality', 'quarter', 'que', 'queen', 'question', 'questions', 'quick', 'quickly', 'quiet', 'quietly', 'quit', 'quite', 'quiz', 'quot', 'quote', 'quotes', 'race', 'races', 'rachel', 'racing', 'radio', 'rage', 'rails', 'rain', 'rainbow', 'rained', 'raining', 'rains', 'rainy', 'raise', 'raised', 'ramen', 'ran', 'random', 'rangers', 'rap', 'rape', 'rare', 'rarely', 'rat', 'rate', 'rather', 'ratings', 'rats', 'raw', 'ray', 'rays', 're', 'reach', 'reached', 'reaction', 'read', 'reader', 'reading', 'ready', 'real', 'realise', 'realised', 'reality', 'realize', 'realized', 'realizes', 'realizing', 'really', 'realy', 'reason', 'reasons', 'rebel', 'rec', 'receive', 'received', 'recent', 'recently', 'reception', 'recession', 'recipe', 'recital', 'reckon', 'recognize', 'recommend', 'recommendation', 'recommended', 'record', 'recorded', 'recording', 'recover', 'recovered', 'recovering', 'red', 'redbull', 'redo', 'reference', 'referral', 'refreshed', 'refuse', 'refuses', 'refusing', 'regardless', 'regents', 'reggae', 'region', 'register', 'registered', 'regret', 'regular', 'regularly', 'rehearsal', 'rehearsing', 'rejects', 'relate', 'relationship', 'relax', 'relaxing', 'release', 'released', 'relegated', 'relief', 'remain', 'remaining', 'remains', 'remember', 'remembered', 'remembering', 'remembers', 'remind', 'reminded', 'reminds', 'reminiscing', 'remix', 'remote', 'removed', 'rent', 'renting', 'rents', 'rep', 'repairing', 'repeat', 'replace', 'replaced', 'replied', 'replies', 'reply', 'replying', 'report', 'reports', 'request', 'rescue', 'rescued', 'research', 'researching', 'reset', 'resist', 'resources', 'respect', 'respond', 'responded', 'response', 'rest', 'restaurant', 'rested', 'resting', 'restless', 'restore', 'result', 'results', 'resume', 'retarded', 'retrorewind', 'return', 'returns', 'retweet', 'retweeting', 'reunion', 'rev', 'review', 'reviews', 'revise', 'revising', 'revision', 'revolution', 'reward', 'rice', 'rich', 'richmond', 'ricky', 'rid', 'ride', 'rides', 'ridiculous', 'ridiculously', 'riding', 'right', 'riley', 'ring', 'ringing', 'rings', 'rio', 'rip', 'rise', 'risk', 'riskybusinessmb', 'rite', 'river', 'rly', 'road', 'roar', 'roast', 'roasted', 'rob', 'robert', 'robin', 'robo', 'robot', 'rock', 'rocked', 'rockin', 'rocking', 'rocks', 'rockstar', 'rocky', 'rofl', 'roflmao', 'roger', 'role', 'roll', 'roller', 'rolling', 'rolls', 'rome', 'romeo', 'ron', 'roof', 'room', 'roommate', 'roots', 'rose', 'rouge', 'rough', 'round', 'route', 'routine', 'row', 'royal', 'rpg', 'rt', 'rub', 'rubbing', 'rubbish', 'rude', 'rue', 'rugby', 'ruin', 'ruined', 'ruining', 'ruins', 'rule', 'rules', 'rumor', 'run', 'runner', 'running', 'runs', 'runway', 'rush', 'russell', 'ryan', 's1', 'sa', 'sack', 'sacrifice', 'sad', 'saddened', 'saddest', 'sadly', 'sadness', 'safe', 'said', 'sailing', 'sake', 'salad', 'sale', 'sales', 'sally', 'salmon', 'sam', 'same', 'samples', 'san', 'sand', 'sandwich', 'sane', 'sang', 'santa', 'sara', 'sarah', 'sat', 'satisfied', 'saturday', 'saturdays', 'sauce', 'sausages', 'save', 'saved', 'saving', 'saw', 'say', 'sayin', 'saying', 'says', 'sc', 'scale', 'scare', 'scared', 'scaring', 'scarred', 'scary', 'scene', 'scent', 'sched', 'schedule', 'scheduled', 'schofe', 'school', 'science', 'score', 'scored', 'scores', 'scotland', 'scott', 'scratch', 'scream', 'screaming', 'screams', 'screen', 'screw', 'screwed', 'script', 'scrub', 'scrubs', 'scum', 'sd', 'se', 'sea', 'sean', 'search', 'searching', 'season', 'seat', 'seats', 'seattle', 'sec', 'second', 'seconds', 'secret', 'section', 'security', 'see', 'seeing', 'seem', 'seemed', 'seems', 'seen', 'select', 'selection', 'selena', 'selenagomez', 'self', 'sell', 'selling', 'semester', 'semi', 'send', 'sending', 'senior', 'seniors', 'sense', 'sent', 'sentence', 'separate', 'september', 'series', 'serious', 'seriously', 'serve', 'served', 'server', 'servers', 'service', 'services', 'session', 'sessions', 'set', 'setting', 'setup', 'seven', 'several', 'severe', 'sewing', 'sex', 'sexy', 'sf', 'sg', 'sh', 'shades', 'shadow', 'shake', 'shakes', 'shakespeare', 'shaking', 'shall', 'shame', 'shanedawson', 'shannon', 'shape', 'share', 'sharing', 'shaun', 'shaundiviney', 'shaunjumpnow', 'shave', 'she', 'shedding', 'sheesh', 'sheet', 'shelby', 'shell', 'shelves', 'sherrieshepherd', 'shes', 'shhhh', 'shift', 'shifts', 'shine', 'shining', 'shiny', 'ship', 'shipping', 'shirt', 'shirts', 'shit', 'shitt', 'shitty', 'shock', 'shocked', 'shoe', 'shoes', 'shontelle_layne', 'shoot', 'shooting', 'shop', 'shoppin', 'shopping', 'shops', 'short', 'shorter', 'shortly', 'shorts', 'shot', 'shots', 'should', 'shoulder', 'shoulders', 'shouldn', 'shouldnt', 'shout', 'shoutout', 'show', 'showed', 'shower', 'showers', 'showing', 'shown', 'shows', 'shucks', 'shud', 'shut', 'shutting', 'shuttle', 'si', 'sick', 'sickness', 'side', 'sigh', 'sighs', 'sight', 'sign', 'signal', 'signed', 'signing', 'signs', 'sike', 'silence', 'silent', 'silly', 'silver', 'silverstone', 'similar', 'simple', 'simply', 'simpsons', 'sims', 'sin', 'since', 'sing', 'singapore', 'singer', 'singing', 'single', 'sings', 'sink', 'sipping', 'sir', 'sis', 'sister', 'sisters', 'sit', 'site', 'sites', 'sittin', 'sitting', 'situation', 'six', 'size', 'skate', 'skin', 'skinny', 'skins', 'skip', 'skipping', 'skool', 'sky', 'skype', 'slack', 'slammed', 'slap', 'slash', 'slave', 'sleep', 'sleeping', 'sleepless', 'sleepover', 'sleeps', 'sleepy', 'slept', 'sliced', 'slight', 'slightly', 'slow', 'slowly', 'slut', 'smack', 'small', 'smaller', 'smart', 'smash', 'smell', 'smelling', 'smells', 'smh', 'smile', 'smiles', 'smiling', 'smoke', 'smoking', 'smooth', 'smoothie', 'snack', 'sneak', 'sneezing', 'sniff', 'snl', 'snooze', 'snow', 'snowing', 'snuck', 'snuggle', 'snuggles', 'so', 'soak', 'soaked', 'sob', 'soccer', 'social', 'socks', 'soda', 'sofa', 'soft', 'softball', 'software', 'sold', 'solid', 'solo', 'solution', 'solving', 'some', 'somebody', 'someday', 'somehow', 'someone', 'somersetbob', 'somethin', 'something', 'sometime', 'sometimes', 'somewhat', 'somewhere', 'son', 'song', 'songs', 'songzyuuup', 'sonic', 'sonny', 'sony', 'soo', 'soon', 'sooner', 'sooo', 'soooo', 'soooon', 'sooooo', 'soooooo', 'sooooooo', 'sooooooooo', 'sore', 'soreness', 'sorry', 'sort', 'sorted', 'sorting', 'soul', 'sound', 'sounded', 'sounds', 'soup', 'sour', 'source', 'sources', 'south', 'southern', 'sp', 'spa', 'space', 'spain', 'spam', 'spammers', 'spamming', 'spanish', 'spare', 'sparks', 'speak', 'speaker', 'speaking', 'special', 'spectacular', 'speech', 'speed', 'speeding', 'spell', 'spelling', 'spelt', 'spend', 'spending', 'spent', 'spicy', 'spider', 'spiderman', 'spiders', 'spin', 'spinning', 'spirit', 'split', 'spoiled', 'spoiler', 'spoke', 'spoken', 'spoon', 'sports', 'spot', 'spotify', 'sprained', 'spread', 'spring', 'springs', 'sprint', 'squad', 'square', 'squares', 'squarespace', 'squash', 'squirrel', 'srsly', 'sry', 'ss', 'st', 'stack', 'staff', 'stage', 'stairs', 'stalk', 'stalker', 'stand', 'standby', 'standing', 'stands', 'stanley', 'star', 'starbucks', 'staring', 'stars', 'start', 'started', 'starting', 'starts', 'starving', 'state', 'statement', 'states', 'station', 'stats', 'status', 'stavros', 'stay', 'stayed', 'staying', 'steak', 'steal', 'steam', 'steel', 'step', 'steph', 'stephen', 'stephenfry', 'stepped', 'stepping', 'steps', 'stereo', 'steve', 'steven', 'stick', 'sticking', 'sticks', 'sticky', 'still', 'stink', 'stinks', 'stitched', 'stock', 'stockholm', 'stoked', 'stole', 'stolen', 'stomach', 'stone', 'stop', 'stopped', 'stops', 'store', 'stores', 'stories', 'storm', 'storms', 'stormy', 'story', 'straight', 'straighten', 'strange', 'strangely', 'stranger', 'strawberries', 'strawberry', 'stream', 'streaming', 'streams', 'street', 'streets', 'stress', 'stressed', 'stressful', 'stressing', 'stretch', 'strike', 'stroke', 'strong', 'stronger', 'struggle', 'stuck', 'student', 'students', 'studies', 'studing', 'studio', 'study', 'studying', 'stuff', 'stuffed', 'stuffs', 'stunning', 'stupid', 'stupidity', 'style', 'su', 'subbing', 'subject', 'subscribers', 'subway', 'success', 'successful', 'such', 'sucha', 'suck', 'sucked', 'sucking', 'sucks', 'sucky', 'sudden', 'suddenly', 'suffer', 'suffering', 'sugar', 'suggest', 'suggestion', 'suggestions', 'suit', 'suitcase', 'sum', 'summer', 'summers', 'sun', 'sunburn', 'sunburnt', 'sunday', 'sundays', 'sunglasses', 'sunny', 'suns', 'sunscreen', 'sunshine', 'sup', 'super', 'superman', 'supernatural', 'supervisor', 'supply', 'support', 'supporting', 'supportive', 'suppose', 'supposed', 'suprise', 'sure', 'surely', 'surfing', 'surgery', 'surprise', 'surprised', 'surprisingly', 'survey', 'survive', 'survived', 'susan', 'sushi', 'suspect', 'suspended', 'sux', 'swallow', 'swamped', 'swap', 'swear', 'sweat', 'sweating', 'sweden', 'sweep', 'sweet', 'sweetest', 'sweetheart', 'sweetie', 'sweets', 'swell', 'swift', 'swim', 'swimming', 'swimsuit', 'swine', 'swing', 'swings', 'switch', 'switched', 'swollen', 'sydney', 'sync', 'syrup', 'system', 'ta', 'table', 'taco', 'tacos', 'tad', 'tag', 'take', 'taken', 'takes', 'takin', 'taking', 'talent', 'talented', 'talk', 'talked', 'talkin', 'talking', 'talks', 'tall', 'taller', 'tan', 'tank', 'tanning', 'tape', 'target', 'task', 'taste', 'tasted', 'tastes', 'tasty', 'tattoo', 'taught', 'tax', 'taxi', 'taylor', 'taylorswift13', 'tbh', 'tday', 'tea', 'teach', 'teacher', 'teachers', 'teaching', 'team', 'tear', 'tears', 'teary', 'teas', 'teaser', 'tech', 'technically', 'technology', 'teddy', 'tee', 'teehee', 'teen', 'teeth', 'teh', 'tell', 'telling', 'tells', 'telly', 'temp', 'temperature', 'temporary', 'temptation', 'tempted', 'ten', 'tend', 'tennessee', 'tennis', 'tense', 'term', 'terminator', 'terms', 'terrible', 'terribly', 'tesco', 'test', 'testing', 'tests', 'tetris', 'texas', 'text', 'texted', 'texting', 'texts', 'tg', 'tgif', 'th', 'tha', 'thai', 'thailand', 'than', 'thank', 'thankful', 'thankfully', 'thanks', 'thankyou', 'thanx', 'that', 'thats', 'the', 'the_real_shaq', 'theater', 'theaters', 'theatre', 'thedailydish', 'thedebbyryan', 'thee', 'theellenshow', 'theft', 'their', 'them', 'theme', 'themselves', 'then', 'theory', 'ther', 'there', 'theres', 'these', 'thesis', 'they', 'theyre', 'thi', 'thick', 'thin', 'thing', 'things', 'thingy', 'think', 'thinkin', 'thinking', 'thinks', 'third', 'this', 'thnx', 'tho', 'thomas', 'those', 'thou', 'though', 'thought', 'thoughtful', 'thoughts', 'thousand', 'threadless', 'three', 'threw', 'throat', 'through', 'throw', 'throwing', 'throws', 'thru', 'ths', 'tht', 'thugs', 'thumbs', 'thunder', 'thunderstorm', 'thunderstorms', 'thurs', 'thursday', 'thursdays', 'thus', 'thx', 'thï', 'ti', 'ticket', 'tickets', 'tied', 'tiger', 'tight', 'til', 'till', 'tim', 'time', 'timeline', 'times', 'timing', 'tinchystryder', 'tiny', 'tinyurl', 'tip', 'tips', 'tired', 'tiring', 'tis', 'titanic', 'title', 'tix', 'tlc', 'tmrw', 'tnx', 'to', 'toast', 'toasty', 'today', 'todays', 'todayy', 'toe', 'toes', 'together', 'toilet', 'tokyo', 'told', 'tom', 'tomato', 'tomatoes', 'tomfelton', 'tommcfly', 'tommorow', 'tommorrow', 'tomorow', 'tomorrow', 'tomorrows', 'tomoz', 'tomrw', 'ton', 'tone', 'tonfue', 'tongue', 'tonight', 'tonite', 'tons', 'tony', 'tonys', 'too', 'took', 'tool', 'tooo', 'toooo', 'tooooo', 'tooth', 'top', 'topic', 'topics', 'tori', 'torn', 'tornado', 'toronto', 'torrent', 'torrential', 'torture', 'toss', 'total', 'totally', 'touch', 'touching', 'tough', 'tour', 'touring', 'tournament', 'tow', 'towards', 'town', 'toy', 'toys', 'tr', 'trace', 'tracecyrus', 'track', 'tracked', 'trackle', 'tracks', 'tractor', 'trade', 'traffic', 'tragedy', 'tragic', 'trailer', 'train', 'training', 'transformers', 'translation', 'trap', 'trash', 'trashed', 'trashy', 'travel', 'travis', 'tray', 'treadmill', 'treasure', 'treat', 'treating', 'treats', 'tree', 'trees', 'trek', 'trend', 'trending', 'trey', 'trial', 'trick', 'tricks', 'tricky', 'tried', 'trip', 'trips', 'trouble', 'truck', 'true', 'truly', 'trunk', 'trust', 'trusted', 'truth', 'try', 'tryin', 'trying', 'tryouts', 'tshirt', 'tt', 'tu', 'tub', 'tube', 'tuesday', 'tuesdays', 'tumblr', 'tummy', 'tune', 'tuned', 'tunes', 'tunnel', 'turkey', 'turn', 'turned', 'turning', 'turns', 'turtle', 'tutoring', 'tv', 'twas', 'tweeple', 'tweeps', 'tweet', 'tweetdeck', 'tweeted', 'tweeter', 'tweeteradder', 'tweeterfollow', 'tweeters', 'tweetie', 'tweeties', 'tweeting', 'tweets', 'tweetup', 'twhirl', 'twice', 'twilight', 'twin', 'twins', 'twit', 'twitpic', 'twitter', 'twitterberry', 'twittered', 'twitterers', 'twitteriffic', 'twittering', 'twitterland', 'twitters', 'twitterverse', 'twitterville', 'twitterworld', 'two', 'twt', 'twurl', 'tx', 'txt', 'ty', 'tyler', 'type', 'typical', 'typically', 'typing', 'tyrese4real', 'uber', 'ubertwitter', 'ubuntu', 'ugh', 'ughh', 'ughhh', 'ugly', 'uh', 'uhh', 'uhhh', 'ui', 'uk', 'ull', 'ultimate', 'um', 'umbrella', 'umm', 'ummm', 'un', 'unable', 'uncle', 'under', 'underground', 'underneath', 'understand', 'understanding', 'understands', 'unfair', 'unfollowed', 'unfortunate', 'unfortunately', 'unfortunatly', 'unhappy', 'uni', 'uniform', 'union', 'unique', 'united', 'universe', 'university', 'unless', 'unlike', 'unproductive', 'until', 'up', 'update', 'updated', 'updates', 'updating', 'upgrade', 'upload', 'uploading', 'upon', 'upper', 'ups', 'upset', 'upsetting', 'upstairs', 'ur', 'urban', 'urge', 'urgent', 'urgh', 'url', 'us', 'usa', 'usb', 'use', 'used', 'useful', 'user', 'username', 'users', 'using', 'ustre', 'ustream', 'usual', 'usually', 'utah', 'va', 'vacation', 'vacations', 'valid', 'valley', 'value', 'vampire', 'van', 'vancouver', 'vanilla', 'vast', 'vat', 've', 'vegas', 'veggie', 'veggies', 'veronicas', 'version', 'very', 'vet', 'via', 'vibes', 'victor', 'victoria', 'vid', 'video', 'videos', 'vids', 'view', 'viewers', 'village', 'ville', 'vines', 'violence', 'vip', 'virgin', 'virtual', 'virus', 'vision', 'visit', 'visited', 'visiting', 'visits', 'viva', 'vlog', 'vocals', 'voice', 'voicemail', 'volleyball', 'vomit', 'vote', 'voted', 'votes', 'voting', 'vs', 'w00t', 'waaaay', 'wack', 'waffle', 'wah', 'wait', 'waited', 'waitin', 'waiting', 'wake', 'waking', 'wal', 'wales', 'walk', 'walked', 'walking', 'wall', 'walls', 'wan', 'wana', 'wanna', 'want', 'wanted', 'wanting', 'wants', 'war', 'warm', 'warmer', 'warned', 'warning', 'warped', 'wars', 'was', 'wash', 'washed', 'washing', 'wasn', 'wasnt', 'waste', 'wasted', 'wat', 'watch', 'watched', 'watches', 'watchin', 'watching', 'water', 'watermelon', 'wats', 'wave', 'waves', 'way', 'wayne', 'ways', 'we', 'weak', 'wear', 'wearing', 'wears', 'weather', 'web', 'webaddict', 'website', 'wed', 'wedding', 'wednesday', 'wee', 'week', 'weekend', 'weekends', 'weekly', 'weeks', 'weight', 'weird', 'welcome', 'well', 'wembley', 'wen', 'went', 'were', 'weren', 'wes', 'west', 'wet', 'whale', 'what', 'whatever', 'whats', 'wheel', 'wheels', 'when', 'whenever', 'where', 'wheres', 'whether', 'whew', 'which', 'while', 'whilst', 'whipped', 'white', 'who', 'whoa', 'whoever', 'whole', 'whoo', 'whooo', 'whoop', 'whoops', 'whore', 'whose', 'wht', 'why', 'wi', 'wicked', 'wid', 'wide', 'wierd', 'wif', 'wife', 'wifey', 'wiff', 'wifi', 'wii', 'wikipedia', 'wil', 'wild', 'will', 'willie', 'willing', 'wimbledon', 'win', 'win7', 'wind', 'window', 'windows', 'winds', 'windy', 'wine', 'wing', 'wings', 'winner', 'winners', 'winning', 'wins', 'winter', 'wiped', 'wireless', 'wisdom', 'wise', 'wish', 'wished', 'wishes', 'wishin', 'wishing', 'wit', 'with', 'within', 'without', 'witty', 'wiv', 'wk', 'wknd', 'wks', 'woah', 'woke', 'woken', 'wolverine', 'woman', 'women', 'won', 'wonder', 'wondered', 'wonderful', 'wondering', 'wonders', 'wont', 'woo', 'wood', 'woods', 'woohoo', 'wooo', 'wooohooo', 'woooo', 'woop', 'woot', 'word', 'wordpress', 'words', 'wore', 'work', 'worked', 'workin', 'working', 'workout', 'works', 'workshop', 'world', 'worlds', 'worried', 'worries', 'worry', 'worse', 'worship', 'worst', 'worth', 'worthy', 'wossy', 'wot', 'would', 'wouldn', 'wouldnt', 'wow', 'wp', 'wpf', 'wrist', 'write', 'writers', 'writes', 'writing', 'written', 'wrk', 'wrong', 'wrote', 'ws', 'wtf', 'wth', 'wud', 'wut', 'wwdc', 'www', 'xbox', 'xd', 'xo', 'xox', 'xoxo', 'xoxox', 'xoxoxo', 'xp', 'xsavedgex', 'xx', 'xxx', 'xxxx', 'ya', 'yaay', 'yah', 'yahh', 'yahoo', 'yall', 'yard', 'yarn', 'yawn', 'yay', 'yayy', 'yayyy', 'yayyyy', 'ye', 'yea', 'yeah', 'yeahh', 'yeahhh', 'yeahhhh', 'year', 'years', 'yeay', 'yeh', 'yell', 'yelled', 'yellow', 'yelyahwilliams', 'yep', 'yer', 'yes', 'yess', 'yesss', 'yessss', 'yest', 'yesterday', 'yet', 'yew', 'yey', 'yfrog', 'yikes', 'yo', 'yoga', 'yoghurt', 'yogurt', 'york', 'yorkshire', 'you', 'young', 'younger', 'youngest', 'youngq', 'your', 'youre', 'yours', 'yourself', 'youth', 'youtube', 'youu', 'yr', 'yrs', 'yt', 'yu', 'yuck', 'yucky', 'yum', 'yummy', 'yung', 'yup', 'yw', 'zac', 'zen', 'zero', 'zombie', 'zone', 'zones', 'zoo', '½c', '½m', '½n', '½ng', '½re', '½t', 'ð²', 'ð²ð', 'ð²ñ', 'ðµ', 'ðµð', 'ðµñ', 'ð¹', 'ðºð', 'ðºð¾ñ', 'ðºñ', 'ð¼ð', 'ð½ð', 'ð½ðµ', 'ð½ñ', 'ð¾', 'ð¾ð', 'ð¾ñ']\n",
            "['00', '000', '02', '04', '06', '09', '10', '100', '1000', '100th', '10am', '10k', '10pm', '10th', '11', '11am', '12', '13', '14', '140', '14th', '15', '15th', '16', '17', '17th', '18', '182', '18th', '19', '19th', '1st', '20', '200', '2000', '2006', '2007', '2009', '2010', '20th', '21', '21st', '22', '22nd', '23', '24', '24th', '25', '26', '27', '28', '29', '2am', '2day', '2moro', '2morrow', '2moz', '2mrw', '2nd', '2night', '2nite', '2pm', '2x', '30', '300', '30am', '30pm', '30secondstomars', '31', '311', '32', '33', '330', '333', '3333', '34', '35', '350', '360', '37', '3am', '3d', '3g', '3hrs', '3pm', '3rd', '40', '400', '41', '42', '447', '45', '48', '4am', '4got', '4real', '4th', '4ward', '50', '500', '5am', '5pm', '5th', '5yr', '60', '600', '64', '67', '6am', '6pm', '6th', '70', '72', '75', '7am', '7th', '80', '80s', '8am', '8pm', '8th', '90', '90210', '90s', '95', '98', '99', '9am', '9pm', '9th', '__', 'aah', 'aaron', 'abc', 'ability', 'able', 'about', 'above', 'abs', 'absent', 'absolute', 'absolutely', 'abt', 'abuse', 'ac', 'accent', 'accents', 'accept', 'accepted', 'access', 'accident', 'accidentally', 'accomplished', 'according', 'account', 'accounts', 'acct', 'ace', 'ach', 'ache', 'aches', 'aching', 'ack', 'acoustic', 'across', 'act', 'actin', 'acting', 'action', 'active', 'activities', 'actress', 'acts', 'actual', 'actually', 'ad', 'adam', 'adams', 'add', 'added', 'addicted', 'addiction', 'addictive', 'adding', 'addition', 'address', 'admit', 'adopt', 'adorable', 'adore', 'ads', 'advance', 'advantage', 'adventure', 'advert', 'advertising', 'advice', 'affected', 'afford', 'afinefrenzy', 'afraid', 'africa', 'after', 'afternoon', 'afterwards', 'again', 'against', 'age', 'agenda', 'ages', 'agh', 'ago', 'agony', 'agree', 'agreed', 'agreeing', 'ah', 'aha', 'ahaha', 'ahahah', 'ahahaha', 'ahead', 'ahem', 'ahh', 'ahhh', 'ahhhh', 'ahhhhh', 'ai', 'aid', 'aim', 'ain', 'aint', 'air', 'airport', 'aj', 'aka', 'ako', 'al', 'alarm', 'alas', 'album', 'albums', 'alcohol', 'alcoholic', 'alex', 'alexalltimelow', 'alexis', 'alice', 'alien', 'alike', 'alive', 'all', 'allah', 'allen', 'allergic', 'allergies', 'allison', 'allow', 'allowed', 'almost', 'alone', 'along', 'alot', 'already', 'alright', 'alseep', 'also', 'alt', 'although', 'alumni', 'always', 'alyssa_milano', 'am', 'amanda', 'amandapalmer', 'amaze', 'amazed', 'amazing', 'amazingly', 'amazingphoebe', 'amazon', 'amber', 'amen', 'america', 'american', 'americans', 'among', 'amount', 'amounts', 'amp', 'amsterdam', 'amusing', 'amy', 'an', 'ana', 'analysis', 'and', 'andrew', 'andy', 'andyclemmensen', 'ang', 'angel', 'angels', 'angie', 'angry', 'animal', 'animals', 'animation', 'ankle', 'anna', 'anne', 'anniversary', 'annoy', 'annoyed', 'annoying', 'another', 'answer', 'answered', 'answering', 'answers', 'ant', 'anthem', 'anti', 'antonio', 'ants', 'anxiety', 'any', 'any1', 'anybody', 'anymore', 'anyone', 'anything', 'anytime', 'anyway', 'anyways', 'anywhere', 'apart', 'apartment', 'aplusk', 'app', 'apparently', 'appear', 'appears', 'appetite', 'apple', 'application', 'applied', 'apply', 'appointment', 'appreciate', 'appreciated', 'apprentice', 'approaching', 'appropriate', 'approve', 'approved', 'apps', 'apt', 'ar', 'ara', 'architeuth1s', 'are', 'area', 'aren', 'arent', 'argh', 'arghh', 'arm', 'arms', 'army', 'around', 'arrange', 'arrive', 'arrived', 'arrives', 'arse', 'art', 'article', 'articles', 'artist', 'arts', 'as', 'asap', 'ash', 'ashamed', 'ashes', 'ashley', 'ashton', 'asia', 'asian', 'ask', 'asked', 'asking', 'asleep', 'asot400', 'ass', 'assed', 'assignment', 'assignments', 'assistant', 'assume', 'asthma', 'aswell', 'at', 'ate', 'athletic', 'atl', 'atlanta', 'atlantic', 'atleast', 'atm', 'attached', 'attack', 'attacked', 'attempt', 'attempted', 'attempting', 'attend', 'attention', 'attics', 'attitude', 'au', 'auch', 'auction', 'audio', 'audition', 'auditions', 'audrey', 'aug', 'august', 'aunt', 'auntie', 'aus', 'aussie', 'austin', 'australia', 'australian', 'author', 'auto', 'autotune', 'available', 'avatar', 'ave', 'avoid', 'avoiding', 'aw', 'awake', 'award', 'awards', 'awareness', 'away', 'awe', 'awesome', 'awesomeness', 'awful', 'awh', 'awhile', 'awkward', 'awsome', 'aww', 'awwh', 'awww', 'awwww', 'awwwww', 'ay', 'aye', 'az', 'b4', 'baaad', 'babe', 'babes', 'babies', 'baby', 'babysit', 'babysitting', 'babyyy', 'bac', 'back', 'backed', 'background', 'backing', 'backk', 'backup', 'backyard', 'bacon', 'bad', 'badass', 'badge', 'badly', 'bag', 'bags', 'bah', 'bahahaha', 'bail', 'bailey', 'bak', 'baka', 'bake', 'baked', 'baking', 'balance', 'bali', 'ball', 'balloon', 'balls', 'bam', 'banana', 'band', 'bands', 'bang', 'bangalore', 'bangs', 'bank', 'banned', 'banner', 'bar', 'barber', 'barcelona', 'barely', 'barrel', 'barry', 'bars', 'base', 'baseball', 'based', 'basement', 'bash', 'basically', 'basketball', 'bass', 'bastard', 'bastards', 'bat', 'batch', 'bath', 'bathroom', 'batman', 'batt', 'battery', 'battle', 'battlefield', 'bay', 'bb', 'bbc', 'bbq', 'bby', 'bc', 'bcoz', 'bcuz', 'bday', 'be', 'bea', 'beach', 'bean', 'beans', 'bear', 'bearable', 'bears', 'beast', 'beat', 'beating', 'beats', 'beautiful', 'beauty', 'bebo', 'became', 'because', 'become', 'becoming', 'bed', 'beddy', 'bedroom', 'bedtime', 'bee', 'beef', 'been', 'beer', 'beers', 'beetle', 'before', 'beg', 'begin', 'beginning', 'beginnings', 'begins', 'begun', 'behalf', 'behind', 'bein', 'being', 'believe', 'belive', 'bell', 'bella', 'belly', 'belong', 'beloved', 'ben', 'bend', 'berry', 'beside', 'besides', 'best', 'bestest', 'bestfriend', 'bestie', 'besties', 'bet', 'beta', 'better', 'betty', 'between', 'beyonce', 'beyond', 'bf', 'bff', 'bg', 'bgt', 'bi', 'big', 'bigger', 'biggest', 'biggie', 'bike', 'bikes', 'biking', 'bikini', 'bill', 'billbeckett', 'bills', 'billy', 'bin', 'bing', 'bio', 'biology', 'bird', 'birds', 'birmingham', 'birth', 'birthday', 'birthdays', 'bit', 'bitch', 'bitches', 'bite', 'bites', 'bits', 'bitter', 'biz', 'bk', 'bkite', 'black', 'blackberry', 'blades', 'blah', 'blame', 'blank', 'blanket', 'blankets', 'blast', 'blasting', 'bleach', 'bleed', 'bleh', 'bless', 'blessed', 'blessing', 'blessings', 'blind', 'blink', 'blip', 'bliss', 'blister', 'block', 'blockbuster', 'blocked', 'blocking', 'blocks', 'blog', 'blogger', 'bloggers', 'blogs', 'blogspot', 'blonde', 'blood', 'bloody', 'blow', 'blown', 'blows', 'blu', 'blue', 'blues', 'bmw', 'bn', 'bnp', 'board', 'boat', 'boating', 'bob', 'bobby', 'body', 'bof', 'bolt', 'bom', 'bomb', 'bon', 'bond', 'bone', 'bones', 'bonus', 'boo', 'boobs', 'book', 'bookbag', 'booked', 'booking', 'books', 'boom', 'booo', 'boooo', 'booooo', 'booster', 'boot', 'booth', 'boots', 'booty', 'booze', 'bord', 'borders', 'bored', 'boreddd', 'boredom', 'boring', 'born', 'borrow', 'boss', 'boston', 'both', 'bother', 'bothered', 'bottle', 'bottom', 'bought', 'bout', 'bow', 'bowl', 'bowling', 'bowwow614', 'box', 'boxes', 'boy', 'boy_kill_boy', 'boyf', 'boyfriend', 'boyle', 'boys', 'bracelet', 'braces', 'brad', 'bradiewebbstack', 'brain', 'brains', 'brand', 'brandon', 'brazil', 'brb', 'bread', 'break', 'breakfast', 'breakin', 'breaking', 'breaks', 'breath', 'breathe', 'breeze', 'brian', 'brick', 'bridal', 'bride', 'bridge', 'bright', 'brighton', 'brilliant', 'bring', 'brings', 'brisbane', 'britains', 'british', 'britney', 'britneyspears', 'britt', 'brittany', 'bro', 'broadband', 'broke', 'broken', 'brooke', 'brooklyn', 'brooks', 'bros', 'brother', 'brothers', 'brought', 'brown', 'brownies', 'browser', 'bruised', 'brunch', 'bruno', 'brush', 'bsb', 'bt', 'btw', 'bubble', 'bucket', 'bucks', 'bud', 'buddy', 'budget', 'buds', 'bueno', 'buffet', 'bug', 'bugging', 'bugs', 'build', 'building', 'built', 'bull', 'bullshit', 'bully', 'bum', 'bummed', 'bummer', 'bunch', 'bunny', 'burger', 'burgers', 'burn', 'burned', 'burning', 'burns', 'burnt', 'burrito', 'burst', 'burt', 'bus', 'business', 'bust', 'busted', 'buster', 'busy', 'but', 'butt', 'butter', 'button', 'buy', 'buying', 'buzz', 'by', 'bye', 'byee', 'ca', 'cab', 'cable', 'cafe', 'caffeine', 'cake', 'cakes', 'calendar', 'cali', 'california', 'californian', 'call', 'called', 'caller', 'calling', 'calls', 'calm', 'calories', 'cam', 'came', 'camera', 'camp', 'camping', 'campus', 'can', 'canada', 'canadian', 'cancel', 'canceled', 'cancelled', 'cancer', 'candy', 'cannot', 'cant', 'cape', 'capital', 'capped', 'caps', 'captain', 'car', 'card', 'cards', 'care', 'careful', 'cares', 'cari_tx', 'carl', 'carolina', 'carpet', 'carrot', 'carry', 'carrying', 'cars', 'casa', 'case', 'cash', 'casino', 'cassie', 'castle', 'cat', 'catch', 'catching', 'catep36', 'cats', 'caught', 'cause', 'causing', 'cavs', 'cba', 'cc', 'cd', 'cds', 'ce', 'celebrate', 'celebrating', 'celebration', 'celebrations', 'celebrity', 'cell', 'celtics', 'center', 'central', 'centre', 'cereal', 'certain', 'certainly', 'cf', 'ch', 'chai', 'chair', 'chairs', 'champ', 'champagne', 'champions', 'chance', 'chances', 'change', 'changed', 'changes', 'changing', 'channel', 'channels', 'chapter', 'chapters', 'character', 'characters', 'charge', 'charger', 'charging', 'charity', 'charleston', 'charlie', 'charlotte', 'chase', 'chat', 'chatted', 'chatting', 'cheap', 'cheaper', 'cheated', 'cheating', 'check', 'checked', 'checkin', 'checking', 'cheer', 'cheers', 'cheese', 'cheesecake', 'cheesy', 'chelsea', 'chemistry', 'cherry', 'chest', 'chesterday', 'chi', 'chicago', 'chick', 'chicken', 'child', 'children', 'chill', 'chillax', 'chillaxin', 'chillin', 'chilling', 'chills', 'chilly', 'china', 'chinese', 'chip', 'chips', 'chirping', 'cho', 'chocolate', 'chocolates', 'choice', 'choices', 'choose', 'chopped', 'chores', 'chose', 'chosen', 'chow', 'chris', 'christian', 'christina', 'christmas', 'chrome', 'chuck', 'chuffed', 'church', 'ciao', 'cider', 'cigarettes', 'cinema', 'cinemas', 'cities', 'city', 'ck', 'class', 'classes', 'classic', 'classics', 'classmate', 'clean', 'cleaned', 'cleaner', 'cleaning', 'clear', 'clearly', 'cleveland', 'clever', 'cli', 'click', 'client', 'climb', 'climbing', 'clip', 'clips', 'clock', 'close', 'closed', 'closer', 'closet', 'closing', 'clothes', 'clothing', 'cloud', 'clouds', 'cloudy', 'club', 'clue', 'cnn', 'cnt', 'co', 'coach', 'coast', 'coat', 'coca', 'cock', 'cocktails', 'coco', 'cocoa', 'code', 'coding', 'cody', 'coffe', 'coffee', 'coincidence', 'coke', 'cola', 'cold', 'coldplay', 'collect', 'collection', 'college', 'color', 'colorado', 'colors', 'colour', 'com', 'combination', 'combo', 'come', 'comedy', 'comedyqueen', 'comee', 'comes', 'comfort', 'comfortable', 'comfy', 'comic', 'comics', 'comin', 'coming', 'comment', 'commenting', 'comments', 'commercials', 'comming', 'commission', 'common', 'community', 'comp', 'companies', 'company', 'compare', 'compared', 'comparison', 'comparisons', 'competition', 'complain', 'complaints', 'complete', 'completed', 'completely', 'complicated', 'compliment', 'compliments', 'computer', 'computers', 'con', 'conan', 'concentrate', 'concept', 'concerned', 'concert', 'concerts', 'condo', 'cone', 'conference', 'confession', 'confirm', 'confirmation', 'confirmed', 'confused', 'confusing', 'congrats', 'congratulations', 'congratz', 'connect', 'connecting', 'connection', 'consider', 'considered', 'considering', 'consuming', 'contact', 'contain', 'contemplating', 'content', 'contest', 'continue', 'continues', 'contract', 'control', 'convention', 'conversation', 'convey', 'convince', 'convo', 'convos', 'cook', 'cooked', 'cookie', 'cookies', 'cooking', 'cool', 'coolest', 'coolness', 'cop', 'cope', 'copies', 'cops', 'copy', 'cord', 'core', 'corn', 'corner', 'corny', 'correct', 'correctly', 'cory', 'cos', 'cost', 'costa', 'costco', 'costume', 'cottage', 'couch', 'cough', 'could', 'coulda', 'couldn', 'couldnt', 'couldve', 'council', 'count', 'counting', 'countries', 'country', 'counts', 'county', 'couple', 'courage', 'course', 'coursework', 'cousin', 'cousins', 'cover', 'coverage', 'covered', 'cow', 'cowboys', 'coworkers', 'cows', 'coz', 'cozy', 'crack', 'cracked', 'cracking', 'craig', 'cramming', 'cramps', 'crank', 'cranky', 'crap', 'crappy', 'crash', 'crashed', 'crashes', 'craving', 'crazy', 'cream', 'create', 'created', 'creating', 'creative', 'credit', 'credits', 'creepy', 'crew', 'cricket', 'cried', 'cries', 'crime', 'crisis', 'crocs', 'cross', 'crossed', 'crowd', 'cruel', 'cruise', 'crunch', 'crunchy', 'crush', 'crushed', 'cruz', 'cry', 'crying', 'crystal', 'cs', 'cubs', 'cud', 'cuddle', 'cuddling', 'cullen', 'cup', 'cupcakes', 'cups', 'cure', 'curious', 'curl', 'current', 'currently', 'curry', 'cursed', 'curve', 'cus', 'custom', 'customer', 'customers', 'cut', 'cute', 'cuter', 'cutest', 'cutie', 'cuts', 'cuttin', 'cutting', 'cuz', 'cycling', 'cyrus', 'cz', 'da', 'dad', 'daddy', 'dads', 'daily', 'daisy', 'dallas', 'dam', 'damage', 'damaged', 'dammit', 'damn', 'damnit', 'damp', 'dan', 'dance', 'dancer', 'dancing', 'dane', 'dang', 'daniel', 'danny', 'dannygokey', 'dannymcfly', 'dannywood', 'dare', 'dark', 'darker', 'darling', 'darn', 'dat', 'data', 'date', 'dates', 'dating', 'dats', 'daughter', 'dave', 'david', 'david_henrie', 'davidarchie', 'daw', 'dawn', 'dawnrichard', 'day', 'daylight', 'days', 'dayy', 'dayyy', 'dc', 'dd', 'ddlovato', 'ddub', 'de', 'dead', 'deadline', 'deadlines', 'deal', 'dealing', 'dean', 'dear', 'dearest', 'death', 'debate', 'debbiefletcher', 'debut', 'decent', 'decide', 'decided', 'decides', 'decision', 'deck', 'deed', 'deep', 'deeply', 'def', 'definately', 'definatly', 'definitely', 'degree', 'degrees', 'del', 'delay', 'delayed', 'delete', 'deleted', 'deleting', 'delhi', 'delicious', 'delish', 'delivery', 'dell', 'dem', 'demi', 'demo', 'demons', 'den', 'dennys', 'dentist', 'department', 'depends', 'depressed', 'depressing', 'depression', 'derek', 'describe', 'deserve', 'deserved', 'deserves', 'design', 'designed', 'designer', 'designers', 'desk', 'desktop', 'desperate', 'desperately', 'despite', 'destination', 'destroyed', 'details', 'determination', 'determined', 'detroit', 'dev', 'devastated', 'developed', 'developing', 'development', 'device', 'devil', 'dew', 'dexter', 'dh', 'di', 'dial', 'diary', 'dick', 'did', 'didn', 'didnt', 'die', 'died', 'diego', 'dies', 'diet', 'diff', 'difference', 'different', 'differently', 'difficult', 'dig', 'digg', 'diggin', 'digging', 'digital', 'dilemma', 'din', 'dinner', 'dinners', 'dire', 'direct', 'direction', 'director', 'dirt', 'dirty', 'dirtydizco', 'dis', 'disabled', 'disappear', 'disappoint', 'disappointed', 'disappointing', 'disaster', 'disconnected', 'discovered', 'discovering', 'discovery', 'discuss', 'discussion', 'disease', 'disgusting', 'dish', 'dishes', 'dishwasher', 'dislike', 'disney', 'disneyland', 'display', 'distance', 'distant', 'district', 'disturbing', 'ditto', 'diversity', 'dizzy', 'dj', 'djing', 'dm', 'dms', 'dmv', 'dnt', 'do', 'doc', 'doctor', 'doctors', 'does', 'doesn', 'doesnt', 'dog', 'dog_crazy', 'doggie', 'doggy', 'dogs', 'doin', 'doing', 'dollar', 'dollars', 'dominican', 'don', 'donation', 'done', 'donnie', 'donniewahlberg', 'dont', 'dontyouhate', 'donuts', 'door', 'doors', 'dope', 'dork', 'dorm', 'dos', 'dose', 'dot', 'double', 'doubt', 'douche', 'dough', 'dougie', 'dougiemcfly', 'down', 'download', 'downloaded', 'downloading', 'downs', 'downside', 'downstairs', 'downtown', 'dr', 'draft', 'drag', 'drama', 'dramas', 'drank', 'draw', 'drawing', 'dreading', 'dreads', 'dream', 'dreaming', 'dreams', 'dress', 'dressed', 'dresses', 'dressing', 'drew', 'drink', 'drinkin', 'drinking', 'drinks', 'drive', 'driver', 'drivers', 'drives', 'driving', 'drop', 'dropped', 'dropping', 'drops', 'drove', 'drowned', 'drug', 'drum', 'drummer', 'drunk', 'drunken', 'drupal', 'dry', 'ds', 'du', 'dub', 'dublin', 'duck', 'dude', 'dudes', 'due', 'duh', 'duke', 'dull', 'dumb', 'dun', 'dunno', 'duno', 'during', 'dust', 'dusty', 'dutch', 'duty', 'dvd', 'dvds', 'dvr', 'dwighthoward', 'dwn', 'dye', 'dying', 'e3', 'ea', 'each', 'eachother', 'ear', 'earache', 'earlier', 'early', 'earn', 'earned', 'ears', 'earth', 'earthquake', 'easier', 'easily', 'east', 'easter', 'eastern', 'easy', 'eat', 'eaten', 'eatin', 'eating', 'eats', 'ebay', 'econ', 'economy', 'ed', 'eden', 'edge', 'edinburgh', 'edit', 'editing', 'edition', 'editor', 'edward', 'eeek', 'eek', 'effect', 'effects', 'effin', 'effort', 'egg', 'eggs', 'eh', 'either', 'el', 'election', 'elections', 'electric', 'electricity', 'element', 'elephant', 'ellen', 'else', 'em', 'email', 'emails', 'emergency', 'emily', 'emma', 'emo', 'emotional', 'employee', 'employment', 'empty', 'en', 'encouraging', 'end', 'ended', 'ending', 'endless', 'ends', 'energy', 'eng', 'engagement', 'england', 'english', 'enjoy', 'enjoyable', 'enjoyed', 'enjoying', 'enough', 'ensemble', 'enter', 'entered', 'entering', 'entertain', 'entertained', 'entertaining', 'entire', 'entrance', 'entry', 'envy', 'ep', 'epic', 'epiphany', 'episode', 'episodes', 'equal', 'equally', 'er', 'era', 'ergh', 'eric', 'erm', 'errands', 'error', 'ers', 'es', 'escape', 'esp', 'especially', 'essay', 'essays', 'est', 'et', 'etc', 'etsy', 'eu', 'eu09', 'euro', 'europe', 'european', 'eve', 'even', 'evening', 'event', 'eventually', 'ever', 'everton', 'every', 'every1', 'everybody', 'everyday', 'everyone', 'everyones', 'everything', 'everytime', 'everywhere', 'evidently', 'evil', 'ew', 'eww', 'ewww', 'ex', 'exact', 'exactly', 'exam', 'example', 'exams', 'excellent', 'except', 'exchange', 'excited', 'excitement', 'exciting', 'excuse', 'exercise', 'exercising', 'exhausted', 'exhausting', 'exist', 'existed', 'expect', 'expected', 'expecting', 'expensive', 'experience', 'experienced', 'explain', 'explode', 'exposure', 'express', 'expression', 'ext', 'extended', 'extra', 'extremely', 'eye', 'eyebrows', 'eyed', 'eyes', 'ez', 'f1', 'fa', 'fab', 'fabulous', 'face', 'facebook', 'faces', 'facial', 'fact', 'factor', 'factory', 'fade', 'fading', 'fail', 'failed', 'failing', 'fails', 'failure', 'fair', 'fairly', 'fairy', 'faith', 'fake', 'fall', 'fallen', 'falling', 'falls', 'false', 'fam', 'families', 'family', 'famous', 'fan', 'fancy', 'fans', 'fantastic', 'fantasy', 'far', 'farmers', 'farrah', 'fart', 'fashion', 'fast', 'faster', 'fat', 'father', 'fathers', 'fault', 'fav', 'fave', 'faves', 'favorite', 'favorites', 'favourite', 'fawcett', 'fb', 'fck', 'fear', 'fearnecotton', 'feature', 'featured', 'features', 'featuring', 'fed', 'federer', 'fee', 'feed', 'feedback', 'feeds', 'feel', 'feelin', 'feeling', 'feelings', 'feels', 'feet', 'feliciaday', 'feliz', 'fell', 'fella', 'fellas', 'fellow', 'felt', 'female', 'fer', 'ferris', 'ferry', 'fest', 'festival', 'fever', 'few', 'fewer', 'ff', 'fi', 'fic', 'field', 'fields', 'fifty', 'fight', 'fighter', 'fighting', 'fights', 'figure', 'figured', 'file', 'files', 'filipino', 'fill', 'filled', 'film', 'filming', 'films', 'filter', 'final', 'finale', 'finally', 'finals', 'financial', 'find', 'finding', 'fine', 'finger', 'fingers', 'finish', 'finished', 'finishing', 'fire', 'firefox', 'fireworks', 'firmware', 'first', 'fish', 'fishing', 'fishy', 'fit', 'five', 'fix', 'fixed', 'fixing', 'fl', 'flags', 'flame', 'flash', 'flat', 'flatley', 'flew', 'flickr', 'flies', 'flight', 'flights', 'flip', 'flood', 'flooding', 'floor', 'floors', 'flops', 'florida', 'flow', 'flower', 'flowers', 'flu', 'flush', 'flushed', 'fly', 'flying', 'fm', 'fml', 'focus', 'foggy', 'folk', 'folks', 'follow', 'followed', 'follower', 'followers', 'followfriday', 'followin', 'following', 'follows', 'fond', 'fone', 'font', 'food', 'foods', 'fool', 'foot', 'football', 'footy', 'for', 'forced', 'forces', 'forecast', 'forever', 'forget', 'forgetting', 'forgive', 'forgot', 'forgotten', 'form', 'formal', 'format', 'forms', 'formula', 'fort', 'fortunately', 'fortune', 'forum', 'forums', 'forward', 'found', 'fountain', 'four', 'fourth', 'fox', 'fragile', 'fran', 'france', 'frank', 'frankiethesats', 'freak', 'freaked', 'freakin', 'freaking', 'freaks', 'freckles', 'fred', 'freddy', 'free', 'freedom', 'freeway', 'freeze', 'freezing', 'french', 'frenzy', 'fresh', 'fri', 'friday', 'fridays', 'fridge', 'fried', 'friend', 'friendly', 'friends', 'friendship', 'fries', 'friggin', 'frm', 'frog', 'from', 'front', 'frost', 'frozen', 'fruit', 'fruits', 'frustrated', 'frustrating', 'fry', 'ft', 'ftl', 'ftp', 'ftw', 'fuck', 'fucked', 'fucken', 'fucker', 'fuckin', 'fucking', 'fudge', 'full', 'fully', 'fun', 'funds', 'funeral', 'funhouse', 'funk', 'funky', 'funn', 'funniest', 'funny', 'fur', 'furious', 'furniture', 'further', 'fusion', 'fussy', 'future', 'fuzzy', 'fwd', 'fyi', 'gaga', 'gah', 'gahh', 'gain', 'gained', 'gal', 'gallery', 'gals', 'game', 'gamer', 'games', 'gang', 'gap', 'garage', 'garden', 'gardening', 'gardens', 'gary', 'gas', 'gashead', 'gav', 'gave', 'gawd', 'gay', 'gb', 'gcse', 'gd', 'gear', 'gee', 'geek', 'geeks', 'geez', 'general', 'genius', 'geography', 'george', 'georgia', 'german', 'germany', 'get', 'gets', 'gettin', 'getting', 'gf', 'gfalcone601', 'ghost', 'ghosts', 'gi', 'giant', 'gift', 'gig', 'gigs', 'gilmore', 'gimme', 'ginger', 'girl', 'girlfriend', 'girlie', 'girlies', 'girls', 'girly', 'giro', 'give', 'given', 'gives', 'giving', 'glad', 'gladly', 'glasgow', 'glass', 'glasses', 'glasvegas', 'glimpse', 'global', 'gloomy', 'glorious', 'glory', 'glow', 'glowing', 'gm', 'gmail', 'gna', 'gnight', 'gnite', 'go', 'goal', 'god', 'gods', 'goes', 'goin', 'going', 'gold', 'golden', 'golf', 'gon', 'gone', 'gonna', 'good', 'goodbye', 'goodbyes', 'goodies', 'goodluck', 'goodmorning', 'goodness', 'goodnight', 'goodnite', 'google', 'goood', 'gooood', 'goooood', 'gorgeous', 'gosh', 'gossip', 'got', 'gots', 'gotta', 'gotten', 'gr8', 'grab', 'grace', 'grad', 'grade', 'grades', 'graduate', 'graduated', 'graduating', 'graduation', 'grammar', 'grand', 'grandma', 'grandmother', 'grandpa', 'grandparents', 'granny', 'grant', 'graphic', 'grass', 'grateful', 'gray', 'great', 'greatest', 'green', 'greet', 'greetings', 'greg', 'grew', 'grey', 'grill', 'grilled', 'grin', 'grind', 'grip', 'grocery', 'groove', 'gross', 'ground', 'grounded', 'group', 'groups', 'grove', 'grow', 'growing', 'grown', 'grr', 'grrr', 'grrrr', 'grrrrr', 'grumpy', 'gs', 'gt', 'gud', 'guess', 'guessing', 'guest', 'guilt', 'guilty', 'guitar', 'gum', 'gummi', 'guna', 'gunna', 'gurgaon', 'gurl', 'guru', 'gutted', 'guy', 'guys', 'gym', 'h1n1', 'ha', 'habit', 'hacked', 'hacking', 'had', 'hadn', 'hah', 'haha', 'hahah', 'hahaha', 'hahahah', 'hahahaha', 'hahahahaha', 'hail', 'hair', 'haircut', 'hairdresser', 'haley', 'half', 'halfway', 'hall', 'halo', 'hammer', 'hand', 'handed', 'handle', 'hands', 'handsome', 'handy', 'hang', 'hangin', 'hanging', 'hangout', 'hangover', 'hannah', 'happen', 'happend', 'happened', 'happening', 'happens', 'happier', 'happiest', 'happily', 'happiness', 'happy', 'hard', 'hardcore', 'harder', 'hardest', 'hardly', 'harry', 'has', 'hasn', 'hasnt', 'hat', 'hate', 'hated', 'haters', 'hates', 'hatin', 'hating', 'hats', 'hav', 'have', 'haven', 'havent', 'havin', 'having', 'havnt', 'hawaii', 'hawks', 'hawt', 'hay', 'hayfever', 'hayley', 'haz', 'hbo', 'hd', 'he', 'head', 'headache', 'headaches', 'headed', 'heading', 'headphones', 'heads', 'heal', 'healthy', 'heap', 'hear', 'heard', 'hearing', 'heart', 'hearts', 'heat', 'heater', 'heaven', 'heavens', 'heavy', 'heck', 'hee', 'heels', 'heh', 'hehe', 'heheh', 'hehehe', 'heidi', 'held', 'hell', 'hella', 'hello', 'helmet', 'help', 'helped', 'helpful', 'helping', 'helps', 'hen4', 'hence', 'henry', 'her', 'herbal', 'here', 'heres', 'hero', 'herself', 'hes', 'hey', 'heyy', 'hi', 'hiccups', 'hid', 'hide', 'high', 'higher', 'highland', 'highly', 'hiiii', 'hike', 'hiking', 'hilarious', 'hill', 'hills', 'him', 'himself', 'himym', 'hint', 'hip', 'hips', 'hire', 'his', 'history', 'hit', 'hitting', 'hiya', 'hm', 'hmm', 'hmmm', 'hmmmm', 'ho', 'hockey', 'hoe', 'hol', 'hola', 'hold', 'holds', 'hole', 'holiday', 'holidays', 'holla', 'hollie', 'holly', 'hollywood', 'hols', 'holy', 'home', 'homee', 'homemade', 'homesick', 'hometown', 'homework', 'homeworks', 'homie', 'hon', 'honestly', 'honey', 'honor', 'honored', 'hoo', 'hood', 'hook', 'hooked', 'hooray', 'hoover', 'hop', 'hope', 'hopefully', 'hopeless', 'hopes', 'hoping', 'hoppus', 'horn', 'horrible', 'horribly', 'horror', 'horse', 'horses', 'hospital', 'host', 'hostel', 'hosting', 'hot', 'hotel', 'hotmail', 'hott', 'hottie', 'hour', 'hours', 'house', 'household', 'housewives', 'housework', 'houston', 'how', 'however', 'hows', 'howz', 'hr', 'hrs', 'hs', 'html', 'http', 'hub', 'hubby', 'hug', 'huge', 'hugh', 'hugs', 'huh', 'huhu', 'huhuhu', 'human', 'humans', 'humid', 'humor', 'hun', 'hung', 'hungover', 'hungry', 'hunnie', 'hunny', 'hunt', 'hunter', 'hunting', 'hurricane', 'hurry', 'hurt', 'hurtin', 'hurting', 'hurts', 'husband', 'hv', 'hve', 'hw', 'hype', 'iamjonathancook', 'iamsoannoyed', 'ian', 'ibiza', 'ice', 'icecream', 'iced', 'ick', 'icklesal', 'icon', 'id', 'idea', 'ideas', 'idiot', 'idk', 'idol', 'ie', 'if', 'ignore', 'ignoring', 'ihop', 'ii', 'ijustine', 'ikea', 'il', 'ill', 'iloveyou', 'ily', 'im', 'ima', 'imac', 'image', 'images', 'imagine', 'imax', 'imma', 'important', 'impossible', 'impressed', 'impressive', 'improved', 'in', 'ina', 'incase', 'inches', 'included', 'including', 'increase', 'incredible', 'incredibly', 'indeed', 'index', 'india', 'indian', 'indiana', 'indians', 'indoors', 'infamous', 'infection', 'info', 'information', 'informed', 'infront', 'ing', 'injured', 'injury', 'ink', 'inn', 'innocent', 'insane', 'inside', 'insomnia', 'inspiration', 'inspired', 'install', 'installed', 'installing', 'instead', 'instructions', 'instrument', 'insurance', 'intended', 'intense', 'interest', 'interested', 'interesting', 'internet', 'internets', 'internship', 'interrupted', 'intervention', 'interview', 'into', 'introduce', 'investment', 'invite', 'invited', 'involved', 'iphone', 'ipod', 'iran', 'iranelection', 'ireland', 'iremember', 'irish', 'irl', 'iron', 'irvine', 'is', 'ish', 'island', 'isn', 'isnt', 'isolated', 'israel', 'issue', 'issues', 'ist', 'it', 'italian', 'italy', 'itchy', 'items', 'its', 'itself', 'ittt', 'itunes', 'itv', 'itz', 'iv', 'ive', 'iz', 'iâ', 'iï', 'jack', 'jackalltimelow', 'jacket', 'jackie', 'jackson', 'jacob', 'jade', 'jail', 'jailbreak', 'jakarta', 'jake', 'jam', 'jamba', 'james', 'jamie', 'jamming', 'jane', 'japan', 'japanese', 'jar', 'jared', 'jason', 'jasonbradbury', 'jasper', 'java', 'jaw', 'jay', 'jayde_nicole', 'jazz', 'jazzy', 'jb', 'jealous', 'jean', 'jeans', 'jeez', 'jeff', 'jelly', 'jen', 'jenn', 'jennettemccurdy', 'jensen', 'jeremy', 'jerry', 'jersey', 'jess', 'jesse', 'jessemccartney', 'jessica', 'jessie', 'jesus', 'jet', 'jim', 'jimmy', 'jj', 'jk', 'jls', 'jo', 'joannaangel', 'job', 'jobless', 'jobs', 'joe', 'joey', 'joeymcintyre', 'john', 'johncmayer', 'johnny', 'johns', 'join', 'joined', 'joining', 'joint', 'joke', 'jokes', 'joking', 'jolly', 'jon', 'jonas', 'jonasbrothers', 'jonathanrknight', 'jones', 'jordan', 'jordanknight', 'josh', 'journal', 'journey', 'jovi', 'joy', 'joys', 'jpg', 'jr', 'jshe', 'jst', 'judez_xo', 'judge', 'judgement', 'juice', 'julie', 'juliet', 'july', 'jump', 'jumped', 'jumps', 'jun', 'june', 'junior', 'junk', 'jury', 'jus', 'juss', 'just', 'justin', 'juz', 'ka', 'kalebnation', 'karen230683', 'karl', 'kasabian', 'kate', 'kathy', 'katie', 'katy', 'kay', 'kayla', 'keen', 'keep', 'keeping', 'keeps', 'keith', 'kelly', 'kenny', 'kept', 'keri', 'ketchup', 'kevin', 'key', 'keyboard', 'keys', 'kick', 'kicked', 'kickin', 'kicking', 'kicks', 'kid', 'kiddies', 'kiddin', 'kidding', 'kiddos', 'kids', 'kill', 'killed', 'killer', 'killers', 'killing', 'kills', 'kind', 'kinda', 'kinds', 'king', 'kings', 'kirstiealley', 'kiss', 'kisses', 'kitchen', 'kitten', 'kitties', 'kitty', 'kk', 'knackered', 'knee', 'knees', 'knew', 'knight', 'kno', 'knock', 'knocked', 'know', 'knowing', 'knowledge', 'known', 'knows', 'knoww', 'knowww', 'knw', 'ko', 'kobe', 'kool', 'korea', 'korean', 'kris', 'krist0ph3r', 'kristen', 'kristenjstewart', 'kristin', 'kudos', 'kuz', 'kyle', 'l0l', 'l8r', 'la', 'lab', 'label', 'lack', 'lacking', 'ladies', 'lady', 'ladymaryann', 'laguna', 'laid', 'lake', 'laker', 'lakers', 'lakes', 'lambert', 'lame', 'lance', 'land', 'landed', 'lang', 'language', 'lap', 'laps', 'laptop', 'large', 'larry', 'las', 'last', 'lasted', 'late', 'latee', 'lately', 'later', 'laters', 'latest', 'latte', 'laugh', 'laughed', 'laughing', 'laughs', 'launch', 'laundry', 'laura', 'lauren', 'laurie', 'law', 'lawn', 'lawyer', 'lay', 'layin', 'laying', 'layout', 'laziness', 'lazy', 'le', 'lead', 'leading', 'league', 'leaked', 'learn', 'learned', 'learning', 'least', 'leather', 'leave', 'leaves', 'leavin', 'leaving', 'lecture', 'lee', 'left', 'leg', 'legal', 'legend', 'legged', 'legit', 'lego', 'legs', 'lemme', 'lemon', 'lemonade', 'lemons', 'leno', 'lenses', 'leo', 'leon', 'leopard', 'less', 'lesson', 'lessons', 'let', 'lets', 'letter', 'letters', 'letting', 'level', 'levels', 'lg', 'library', 'license', 'lie', 'life', 'lifetime', 'lift', 'light', 'lightening', 'lighter', 'lighting', 'lightning', 'lights', 'like', 'liked', 'likely', 'likes', 'likey', 'liking', 'lil', 'lily', 'lilyroseallen', 'limit', 'lindsay', 'line', 'lines', 'link', 'links', 'lip', 'lips', 'liquid', 'lisa', 'list', 'listen', 'listened', 'listenin', 'listening', 'lit', 'literally', 'little', 'live', 'lived', 'livejournal', 'liverpool', 'lives', 'living', 'liz', 'll', 'lmao', 'lmaoo', 'lmfao', 'lmfaoo', 'lo', 'load', 'loaded', 'loads', 'lobster', 'local', 'location', 'lock', 'locker', 'log', 'logged', 'login', 'logo', 'lol', 'loll', 'lollies', 'lolol', 'lolz', 'london', 'lonely', 'loner', 'long', 'longer', 'longest', 'look', 'looked', 'lookin', 'looking', 'looks', 'lool', 'looong', 'looove', 'loop', 'loopt', 'loose', 'loosing', 'lord', 'lose', 'loser', 'losing', 'loss', 'lost', 'lot', 'lots', 'lotsa', 'loud', 'louis', 'lounge', 'lounging', 'lovato', 'love', 'loved', 'loveeee', 'lovely', 'lover', 'loves', 'lovin', 'loving', 'low', 'lower', 'lt', 'lucas', 'luck', 'luckily', 'lucky', 'luke', 'lulz', 'lunch', 'lunchtime', 'lungs', 'lush', 'luv', 'lv', 'lvatt', 'ly', 'lying', 'lyrics', 'lã', 'ma', 'mac', 'macbook', 'maccas', 'machine', 'mad', 'madd', 'made', 'madness', 'madrid', 'mag', 'magic', 'magically', 'mah', 'maid', 'mail', 'mails', 'main', 'maintenance', 'major', 'majority', 'make', 'maker', 'makes', 'makeup', 'makin', 'making', 'malaysia', 'male', 'mall', 'malta', 'mama', 'mamas', 'man', 'manage', 'managed', 'management', 'manager', 'manda', 'mandy', 'mango', 'manila', 'mannn', 'manual', 'many', 'maps', 'marathon', 'march', 'mariahcarey', 'mario', 'marissa', 'mark', 'market', 'marketing', 'marking', 'marks', 'marley', 'marriage', 'married', 'marry', 'mars', 'mart', 'martin', 'mary', 'mask', 'mass', 'massage', 'massive', 'master', 'match', 'mate', 'material', 'mates', 'math', 'maths', 'matt', 'matter', 'matters', 'matthews', 'matts', 'max', 'may', 'maybe', 'mb', 'mc', 'mcdonalds', 'mcfly', 'mcmahon', 'mcr', 'me', 'meal', 'mean', 'meaning', 'means', 'meant', 'meantime', 'meat', 'med', 'media', 'medicine', 'medieval', 'medium', 'meds', 'mee', 'meee', 'meeee', 'meet', 'meeting', 'meetings', 'mega', 'megan', 'meghan', 'meh', 'mehh', 'mel', 'melaniefresh27', 'melbourne', 'melt', 'member', 'members', 'memorial', 'memories', 'memory', 'men', 'mental', 'mention', 'mentioned', 'menu', 'merry', 'mess', 'message', 'messages', 'messed', 'met', 'metro', 'mexican', 'mexico', 'mi', 'mia', 'miami', 'michael', 'microsoft', 'mid', 'middle', 'midnight', 'might', 'mighty', 'migraine', 'mike', 'mikey', 'mil', 'milan', 'miles', 'miley', 'mileycyrus', 'milk', 'milkshake', 'million', 'mimi', 'min', 'mind', 'minds', 'mine', 'mini', 'ministry', 'mins', 'mint', 'minus', 'minute', 'minutes', 'miracle', 'mirror', 'mis', 'miserable', 'miserably', 'miss', 'missed', 'misses', 'missin', 'missing', 'mission', 'mistake', 'mistakes', 'mister', 'mitchel', 'mitchelmusso', 'mix', 'mixed', 'mj', 'mk', 'mm', 'mmitchelldaviss', 'mmm', 'mmmm', 'mmmmm', 'mo', 'mobile', 'mobypicture', 'mocha', 'mode', 'model', 'modeling', 'models', 'molly', 'mom', 'moment', 'moments', 'momma', 'mommy', 'moms', 'mon', 'monday', 'mondays', 'money', 'monica', 'monies', 'monitor', 'monkey', 'monopoly', 'monster', 'montana', 'month', 'monthly', 'months', 'mood', 'moon', 'moonfrye', 'more', 'morgan', 'morn', 'mornin', 'morning', 'mornings', 'morrison', 'mosquitoes', 'most', 'mostly', 'mother', 'motherfucker', 'mothers', 'motivation', 'motorcycle', 'mountain', 'mountains', 'mouse', 'mouth', 'move', 'moved', 'moves', 'movie', 'movies', 'movin', 'moving', 'mowing', 'mp3', 'mr', 'mrs', 'mrskutcher', 'mrtweet', 'ms', 'msg', 'msgs', 'msn', 'mtv', 'much', 'muffin', 'muffins', 'mullet', 'multi', 'multiple', 'mum', 'mumbai', 'mummy', 'mums', 'munch', 'munchies', 'murder', 'muscle', 'muse', 'museum', 'music', 'musical', 'musicmonday', 'musso', 'must', 'mute', 'muy', 'my', 'myloc', 'mypict', 'myself', 'myspace', 'mystery', 'myweakness', 'mã', 'n97', 'na', 'nadal', 'nag', 'nah', 'nail', 'nails', 'naked', 'naman', 'name', 'named', 'names', 'nan', 'nanny', 'nany710', 'nap', 'nashville', 'nasty', 'nat', 'nate', 'national', 'natural', 'nba', 'nbc', 'nc', 'nd', 'ne', 'near', 'nearby', 'nearest', 'nearly', 'necessary', 'neck', 'necklace', 'neda', 'need', 'needed', 'needing', 'needs', 'neighbor', 'neighborhood', 'neighbors', 'neighbours', 'neil', 'neither', 'nephew', 'nerd', 'nerds', 'nervous', 'nest', 'net', 'netball', 'network', 'networking', 'never', 'nevermind', 'new', 'newcastle', 'newest', 'news', 'next', 'ng', 'nh', 'ni', 'nice', 'nicely', 'nicholasbraun', 'nick', 'nick_carter', 'nicksantino', 'nicole', 'niece', 'nieces', 'nigga', 'niggas', 'night', 'nightclub', 'nighter', 'nightmare', 'nightmares', 'nights', 'nighty', 'niice', 'nikki', 'nine', 'nintendo', 'nite', 'nj', 'nkotb', 'nl', 'nm', 'no', 'no1', 'nobody', 'noe', 'noes', 'noise', 'nokia', 'non', 'none', 'nonsense', 'noo', 'noodles', 'noon', 'noone', 'nooo', 'noooo', 'nooooo', 'noooooo', 'nooooooo', 'nope', 'nor', 'normal', 'normally', 'north', 'northern', 'norway', 'nose', 'not', 'notch', 'note', 'notebook', 'notes', 'nothin', 'nothing', 'notice', 'noticed', 'novel', 'november', 'now', 'nowadays', 'nowhere', 'np', 'nt', 'nu', 'nuggets', 'number', 'numbers', 'nur', 'nut', 'nutella', 'nuthin', 'nuts', 'nw', 'nxt', 'ny', 'nyc', 'nz', 'o2', 'o_o', 'obama', 'object', 'obsessed', 'obvious', 'obviously', 'oc', 'occasion', 'ocean', 'october', 'odd', 'oddly', 'of', 'ofcourse', 'off', 'offence', 'offer', 'offered', 'office', 'officer', 'official', 'officialas', 'officialashleyg', 'officially', 'officialtila', 'offline', 'often', 'oh', 'ohh', 'ohhh', 'ohhhh', 'oil', 'ok', 'okay', 'okcupid', 'ol', 'old', 'older', 'oldest', 'olive', 'olivia', 'omfg', 'omg', 'on', 'once', 'one', 'ones', 'online', 'only', 'ontario', 'onto', 'ooh', 'oohh', 'ooo', 'oooh', 'oooo', 'ooooh', 'ooooo', 'oops', 'op', 'open', 'opened', 'opening', 'opens', 'opera', 'opinion', 'opportunity', 'opps', 'oprah', 'option', 'options', 'or', 'oral', 'orange', 'orangy68', 'order', 'ordered', 'ordering', 'orders', 'oreo', 'org', 'original', 'orlando', 'os', 'oth', 'other', 'others', 'otherwise', 'ottawa', 'ouch', 'our', 'ours', 'ourselves', 'out', 'outfit', 'outing', 'outlet', 'outlook', 'outs', 'outside', 'outta', 'oven', 'over', 'overall', 'overnight', 'overslept', 'ow', 'owe', 'owl', 'own', 'owned', 'owner', 'owt', 'owww', 'oxford', 'oz', 'p90x', 'pa', 'pacific', 'pack', 'package', 'packed', 'packing', 'pad', 'page', 'pages', 'paid', 'paige', 'pain', 'painful', 'pains', 'paint', 'painting', 'pair', 'pale', 'palm', 'pan', 'pancake', 'pancakes', 'panda', 'pandamayhem', 'pandora', 'panic', 'pants', 'papa', 'paper', 'papers', 'paperwork', 'parade', 'paradise', 'paramore', 'paranoid', 'parent', 'parents', 'paris', 'park', 'parking', 'part', 'particular', 'partied', 'parties', 'partner', 'parts', 'party', 'partying', 'pass', 'passed', 'passes', 'passing', 'passion', 'passport', 'password', 'past', 'pasta', 'paste', 'pastor', 'pat', 'patch', 'pathetic', 'patience', 'patients', 'patrick', 'patrol', 'pattern', 'paul', 'paula', 'pay', 'paying', 'pb', 'pc', 'peace', 'peaceful', 'peach', 'peak', 'peanut', 'pearl', 'pedi', 'pee', 'peeps', 'pen', 'penguins', 'penis', 'pens', 'people', 'peoples', 'pepsi', 'per', 'perezhilton', 'perfect', 'perfectly', 'perform', 'performance', 'performing', 'perhaps', 'period', 'perry', 'person', 'personal', 'personally', 'perth', 'pet', 'pete', 'peter', 'peterfacinelli', 'petewentz', 'pets', 'pff', 'phase', 'phew', 'phil', 'philippines', 'philly', 'phone', 'phones', 'photo', 'photobucket', 'photog', 'photography', 'photos', 'photoshoot', 'photoshop', 'phrase', 'physically', 'physics', 'piano', 'pic', 'pick', 'picked', 'picking', 'pickle', 'picnic', 'pics', 'picture', 'pictures', 'pie', 'piece', 'pieces', 'pierced', 'pig', 'pile', 'pill', 'pillow', 'pills', 'pimp', 'pineapple', 'pink', 'pinkelephant73', 'pinky', 'pint', 'pirate', 'pirates', 'piss', 'pissed', 'pissing', 'pit', 'pitch', 'pity', 'pix', 'pizza', 'pj', 'pl', 'place', 'places', 'plain', 'plan', 'plane', 'planet', 'planned', 'planning', 'plans', 'plant', 'plastic', 'plate', 'play', 'playa', 'played', 'player', 'playin', 'playing', 'playoff', 'plays', 'pleasant', 'please', 'pleased', 'pleasure', 'plenty', 'pls', 'plug', 'plugged', 'plurk', 'plus', 'plz', 'pm', 'pmsl', 'pocket', 'podcast', 'point', 'points', 'poison', 'pokemon', 'poker', 'police', 'polish', 'politics', 'pond', 'poo', 'pool', 'poop', 'pooped', 'poor', 'poorly', 'pop', 'popcorn', 'pops', 'popsicle', 'popular', 'por', 'porn', 'porridge', 'portrait', 'portugal', 'portuguese', 'pose', 'positive', 'possible', 'possibly', 'post', 'posted', 'posting', 'posts', 'pot', 'potato', 'potatoes', 'potter', 'pounding', 'pounds', 'pouring', 'power', 'powerful', 'powers', 'ppl', 'pr', 'practical', 'practically', 'practice', 'praise', 'pray', 'prayer', 'prayers', 'prayin', 'praying', 'pre', 'preach', 'precious', 'predicted', 'prefer', 'pregnancy', 'pregnant', 'premiere', 'premium', 'prep', 'prepare', 'preparing', 'presence', 'present', 'presentation', 'presents', 'president', 'pressing', 'pressure', 'pretend', 'pretty', 'preview', 'previous', 'price', 'prices', 'pride', 'primeval', 'prince', 'princesammie', 'princess', 'print', 'printed', 'printer', 'prior', 'prison', 'private', 'prize', 'prizes', 'pro', 'prob', 'probably', 'problem', 'problems', 'probs', 'process', 'productive', 'products', 'professional', 'profile', 'profiles', 'program', 'programme', 'programming', 'progress', 'project', 'projects', 'prolly', 'prom', 'promise', 'promised', 'proof', 'proper', 'properly', 'proposal', 'props', 'protected', 'protein', 'proud', 'prove', 'proves', 'ps', 'ps3', 'pt', 'pub', 'public', 'pudding', 'pull', 'pulled', 'pulling', 'pumped', 'pun', 'punch', 'punishment', 'punk', 'puppies', 'puppy', 'pups', 'purchase', 'purchases', 'pure', 'purple', 'purpose', 'push', 'pushed', 'pushing', 'put', 'puts', 'putting', 'python', 'qandq', 'quality', 'quarter', 'que', 'queen', 'question', 'questions', 'quick', 'quickly', 'quiet', 'quietly', 'quit', 'quite', 'quiz', 'quot', 'quote', 'quotes', 'race', 'races', 'rachel', 'racing', 'radio', 'rage', 'rails', 'rain', 'rainbow', 'rained', 'raining', 'rains', 'rainy', 'raise', 'raised', 'ramen', 'ran', 'random', 'rangers', 'rap', 'rape', 'rare', 'rarely', 'rat', 'rate', 'rather', 'ratings', 'rats', 'raw', 'ray', 'rays', 're', 'reach', 'reached', 'reaction', 'read', 'reader', 'reading', 'ready', 'real', 'realise', 'realised', 'reality', 'realize', 'realized', 'realizes', 'realizing', 'really', 'realy', 'reason', 'reasons', 'rebel', 'rec', 'receive', 'received', 'recent', 'recently', 'reception', 'recession', 'recipe', 'recital', 'reckon', 'recognize', 'recommend', 'recommendation', 'recommended', 'record', 'recorded', 'recording', 'recover', 'recovered', 'recovering', 'red', 'redbull', 'redo', 'reference', 'referral', 'refreshed', 'refuse', 'refuses', 'refusing', 'regardless', 'regents', 'reggae', 'region', 'register', 'registered', 'regret', 'regular', 'regularly', 'rehearsal', 'rehearsing', 'rejects', 'relate', 'relationship', 'relax', 'relaxing', 'release', 'released', 'relegated', 'relief', 'remain', 'remaining', 'remains', 'remember', 'remembered', 'remembering', 'remembers', 'remind', 'reminded', 'reminds', 'reminiscing', 'remix', 'remote', 'removed', 'rent', 'renting', 'rents', 'rep', 'repairing', 'repeat', 'replace', 'replaced', 'replied', 'replies', 'reply', 'replying', 'report', 'reports', 'request', 'rescue', 'rescued', 'research', 'researching', 'reset', 'resist', 'resources', 'respect', 'respond', 'responded', 'response', 'rest', 'restaurant', 'rested', 'resting', 'restless', 'restore', 'result', 'results', 'resume', 'retarded', 'retrorewind', 'return', 'returns', 'retweet', 'retweeting', 'reunion', 'rev', 'review', 'reviews', 'revise', 'revising', 'revision', 'revolution', 'reward', 'rice', 'rich', 'richmond', 'ricky', 'rid', 'ride', 'rides', 'ridiculous', 'ridiculously', 'riding', 'right', 'riley', 'ring', 'ringing', 'rings', 'rio', 'rip', 'rise', 'risk', 'riskybusinessmb', 'rite', 'river', 'rly', 'road', 'roar', 'roast', 'roasted', 'rob', 'robert', 'robin', 'robo', 'robot', 'rock', 'rocked', 'rockin', 'rocking', 'rocks', 'rockstar', 'rocky', 'rofl', 'roflmao', 'roger', 'role', 'roll', 'roller', 'rolling', 'rolls', 'rome', 'romeo', 'ron', 'roof', 'room', 'roommate', 'roots', 'rose', 'rouge', 'rough', 'round', 'route', 'routine', 'row', 'royal', 'rpg', 'rt', 'rub', 'rubbing', 'rubbish', 'rude', 'rue', 'rugby', 'ruin', 'ruined', 'ruining', 'ruins', 'rule', 'rules', 'rumor', 'run', 'runner', 'running', 'runs', 'runway', 'rush', 'russell', 'ryan', 's1', 'sa', 'sack', 'sacrifice', 'sad', 'saddened', 'saddest', 'sadly', 'sadness', 'safe', 'said', 'sailing', 'sake', 'salad', 'sale', 'sales', 'sally', 'salmon', 'sam', 'same', 'samples', 'san', 'sand', 'sandwich', 'sane', 'sang', 'santa', 'sara', 'sarah', 'sat', 'satisfied', 'saturday', 'saturdays', 'sauce', 'sausages', 'save', 'saved', 'saving', 'saw', 'say', 'sayin', 'saying', 'says', 'sc', 'scale', 'scare', 'scared', 'scaring', 'scarred', 'scary', 'scene', 'scent', 'sched', 'schedule', 'scheduled', 'schofe', 'school', 'science', 'score', 'scored', 'scores', 'scotland', 'scott', 'scratch', 'scream', 'screaming', 'screams', 'screen', 'screw', 'screwed', 'script', 'scrub', 'scrubs', 'scum', 'sd', 'se', 'sea', 'sean', 'search', 'searching', 'season', 'seat', 'seats', 'seattle', 'sec', 'second', 'seconds', 'secret', 'section', 'security', 'see', 'seeing', 'seem', 'seemed', 'seems', 'seen', 'select', 'selection', 'selena', 'selenagomez', 'self', 'sell', 'selling', 'semester', 'semi', 'send', 'sending', 'senior', 'seniors', 'sense', 'sent', 'sentence', 'separate', 'september', 'series', 'serious', 'seriously', 'serve', 'served', 'server', 'servers', 'service', 'services', 'session', 'sessions', 'set', 'setting', 'setup', 'seven', 'several', 'severe', 'sewing', 'sex', 'sexy', 'sf', 'sg', 'sh', 'shades', 'shadow', 'shake', 'shakes', 'shakespeare', 'shaking', 'shall', 'shame', 'shanedawson', 'shannon', 'shape', 'share', 'sharing', 'shaun', 'shaundiviney', 'shaunjumpnow', 'shave', 'she', 'shedding', 'sheesh', 'sheet', 'shelby', 'shell', 'shelves', 'sherrieshepherd', 'shes', 'shhhh', 'shift', 'shifts', 'shine', 'shining', 'shiny', 'ship', 'shipping', 'shirt', 'shirts', 'shit', 'shitt', 'shitty', 'shock', 'shocked', 'shoe', 'shoes', 'shontelle_layne', 'shoot', 'shooting', 'shop', 'shoppin', 'shopping', 'shops', 'short', 'shorter', 'shortly', 'shorts', 'shot', 'shots', 'should', 'shoulder', 'shoulders', 'shouldn', 'shouldnt', 'shout', 'shoutout', 'show', 'showed', 'shower', 'showers', 'showing', 'shown', 'shows', 'shucks', 'shud', 'shut', 'shutting', 'shuttle', 'si', 'sick', 'sickness', 'side', 'sigh', 'sighs', 'sight', 'sign', 'signal', 'signed', 'signing', 'signs', 'sike', 'silence', 'silent', 'silly', 'silver', 'silverstone', 'similar', 'simple', 'simply', 'simpsons', 'sims', 'sin', 'since', 'sing', 'singapore', 'singer', 'singing', 'single', 'sings', 'sink', 'sipping', 'sir', 'sis', 'sister', 'sisters', 'sit', 'site', 'sites', 'sittin', 'sitting', 'situation', 'six', 'size', 'skate', 'skin', 'skinny', 'skins', 'skip', 'skipping', 'skool', 'sky', 'skype', 'slack', 'slammed', 'slap', 'slash', 'slave', 'sleep', 'sleeping', 'sleepless', 'sleepover', 'sleeps', 'sleepy', 'slept', 'sliced', 'slight', 'slightly', 'slow', 'slowly', 'slut', 'smack', 'small', 'smaller', 'smart', 'smash', 'smell', 'smelling', 'smells', 'smh', 'smile', 'smiles', 'smiling', 'smoke', 'smoking', 'smooth', 'smoothie', 'snack', 'sneak', 'sneezing', 'sniff', 'snl', 'snooze', 'snow', 'snowing', 'snuck', 'snuggle', 'snuggles', 'so', 'soak', 'soaked', 'sob', 'soccer', 'social', 'socks', 'soda', 'sofa', 'soft', 'softball', 'software', 'sold', 'solid', 'solo', 'solution', 'solving', 'some', 'somebody', 'someday', 'somehow', 'someone', 'somersetbob', 'somethin', 'something', 'sometime', 'sometimes', 'somewhat', 'somewhere', 'son', 'song', 'songs', 'songzyuuup', 'sonic', 'sonny', 'sony', 'soo', 'soon', 'sooner', 'sooo', 'soooo', 'soooon', 'sooooo', 'soooooo', 'sooooooo', 'sooooooooo', 'sore', 'soreness', 'sorry', 'sort', 'sorted', 'sorting', 'soul', 'sound', 'sounded', 'sounds', 'soup', 'sour', 'source', 'sources', 'south', 'southern', 'sp', 'spa', 'space', 'spain', 'spam', 'spammers', 'spamming', 'spanish', 'spare', 'sparks', 'speak', 'speaker', 'speaking', 'special', 'spectacular', 'speech', 'speed', 'speeding', 'spell', 'spelling', 'spelt', 'spend', 'spending', 'spent', 'spicy', 'spider', 'spiderman', 'spiders', 'spin', 'spinning', 'spirit', 'split', 'spoiled', 'spoiler', 'spoke', 'spoken', 'spoon', 'sports', 'spot', 'spotify', 'sprained', 'spread', 'spring', 'springs', 'sprint', 'squad', 'square', 'squares', 'squarespace', 'squash', 'squirrel', 'srsly', 'sry', 'ss', 'st', 'stack', 'staff', 'stage', 'stairs', 'stalk', 'stalker', 'stand', 'standby', 'standing', 'stands', 'stanley', 'star', 'starbucks', 'staring', 'stars', 'start', 'started', 'starting', 'starts', 'starving', 'state', 'statement', 'states', 'station', 'stats', 'status', 'stavros', 'stay', 'stayed', 'staying', 'steak', 'steal', 'steam', 'steel', 'step', 'steph', 'stephen', 'stephenfry', 'stepped', 'stepping', 'steps', 'stereo', 'steve', 'steven', 'stick', 'sticking', 'sticks', 'sticky', 'still', 'stink', 'stinks', 'stitched', 'stock', 'stockholm', 'stoked', 'stole', 'stolen', 'stomach', 'stone', 'stop', 'stopped', 'stops', 'store', 'stores', 'stories', 'storm', 'storms', 'stormy', 'story', 'straight', 'straighten', 'strange', 'strangely', 'stranger', 'strawberries', 'strawberry', 'stream', 'streaming', 'streams', 'street', 'streets', 'stress', 'stressed', 'stressful', 'stressing', 'stretch', 'strike', 'stroke', 'strong', 'stronger', 'struggle', 'stuck', 'student', 'students', 'studies', 'studing', 'studio', 'study', 'studying', 'stuff', 'stuffed', 'stuffs', 'stunning', 'stupid', 'stupidity', 'style', 'su', 'subbing', 'subject', 'subscribers', 'subway', 'success', 'successful', 'such', 'sucha', 'suck', 'sucked', 'sucking', 'sucks', 'sucky', 'sudden', 'suddenly', 'suffer', 'suffering', 'sugar', 'suggest', 'suggestion', 'suggestions', 'suit', 'suitcase', 'sum', 'summer', 'summers', 'sun', 'sunburn', 'sunburnt', 'sunday', 'sundays', 'sunglasses', 'sunny', 'suns', 'sunscreen', 'sunshine', 'sup', 'super', 'superman', 'supernatural', 'supervisor', 'supply', 'support', 'supporting', 'supportive', 'suppose', 'supposed', 'suprise', 'sure', 'surely', 'surfing', 'surgery', 'surprise', 'surprised', 'surprisingly', 'survey', 'survive', 'survived', 'susan', 'sushi', 'suspect', 'suspended', 'sux', 'swallow', 'swamped', 'swap', 'swear', 'sweat', 'sweating', 'sweden', 'sweep', 'sweet', 'sweetest', 'sweetheart', 'sweetie', 'sweets', 'swell', 'swift', 'swim', 'swimming', 'swimsuit', 'swine', 'swing', 'swings', 'switch', 'switched', 'swollen', 'sydney', 'sync', 'syrup', 'system', 'ta', 'table', 'taco', 'tacos', 'tad', 'tag', 'take', 'taken', 'takes', 'takin', 'taking', 'talent', 'talented', 'talk', 'talked', 'talkin', 'talking', 'talks', 'tall', 'taller', 'tan', 'tank', 'tanning', 'tape', 'target', 'task', 'taste', 'tasted', 'tastes', 'tasty', 'tattoo', 'taught', 'tax', 'taxi', 'taylor', 'taylorswift13', 'tbh', 'tday', 'tea', 'teach', 'teacher', 'teachers', 'teaching', 'team', 'tear', 'tears', 'teary', 'teas', 'teaser', 'tech', 'technically', 'technology', 'teddy', 'tee', 'teehee', 'teen', 'teeth', 'teh', 'tell', 'telling', 'tells', 'telly', 'temp', 'temperature', 'temporary', 'temptation', 'tempted', 'ten', 'tend', 'tennessee', 'tennis', 'tense', 'term', 'terminator', 'terms', 'terrible', 'terribly', 'tesco', 'test', 'testing', 'tests', 'tetris', 'texas', 'text', 'texted', 'texting', 'texts', 'tg', 'tgif', 'th', 'tha', 'thai', 'thailand', 'than', 'thank', 'thankful', 'thankfully', 'thanks', 'thankyou', 'thanx', 'that', 'thats', 'the', 'the_real_shaq', 'theater', 'theaters', 'theatre', 'thedailydish', 'thedebbyryan', 'thee', 'theellenshow', 'theft', 'their', 'them', 'theme', 'themselves', 'then', 'theory', 'ther', 'there', 'theres', 'these', 'thesis', 'they', 'theyre', 'thi', 'thick', 'thin', 'thing', 'things', 'thingy', 'think', 'thinkin', 'thinking', 'thinks', 'third', 'this', 'thnx', 'tho', 'thomas', 'those', 'thou', 'though', 'thought', 'thoughtful', 'thoughts', 'thousand', 'threadless', 'three', 'threw', 'throat', 'through', 'throw', 'throwing', 'throws', 'thru', 'ths', 'tht', 'thugs', 'thumbs', 'thunder', 'thunderstorm', 'thunderstorms', 'thurs', 'thursday', 'thursdays', 'thus', 'thx', 'thï', 'ti', 'ticket', 'tickets', 'tied', 'tiger', 'tight', 'til', 'till', 'tim', 'time', 'timeline', 'times', 'timing', 'tinchystryder', 'tiny', 'tinyurl', 'tip', 'tips', 'tired', 'tiring', 'tis', 'titanic', 'title', 'tix', 'tlc', 'tmrw', 'tnx', 'to', 'toast', 'toasty', 'today', 'todays', 'todayy', 'toe', 'toes', 'together', 'toilet', 'tokyo', 'told', 'tom', 'tomato', 'tomatoes', 'tomfelton', 'tommcfly', 'tommorow', 'tommorrow', 'tomorow', 'tomorrow', 'tomorrows', 'tomoz', 'tomrw', 'ton', 'tone', 'tonfue', 'tongue', 'tonight', 'tonite', 'tons', 'tony', 'tonys', 'too', 'took', 'tool', 'tooo', 'toooo', 'tooooo', 'tooth', 'top', 'topic', 'topics', 'tori', 'torn', 'tornado', 'toronto', 'torrent', 'torrential', 'torture', 'toss', 'total', 'totally', 'touch', 'touching', 'tough', 'tour', 'touring', 'tournament', 'tow', 'towards', 'town', 'toy', 'toys', 'tr', 'trace', 'tracecyrus', 'track', 'tracked', 'trackle', 'tracks', 'tractor', 'trade', 'traffic', 'tragedy', 'tragic', 'trailer', 'train', 'training', 'transformers', 'translation', 'trap', 'trash', 'trashed', 'trashy', 'travel', 'travis', 'tray', 'treadmill', 'treasure', 'treat', 'treating', 'treats', 'tree', 'trees', 'trek', 'trend', 'trending', 'trey', 'trial', 'trick', 'tricks', 'tricky', 'tried', 'trip', 'trips', 'trouble', 'truck', 'true', 'truly', 'trunk', 'trust', 'trusted', 'truth', 'try', 'tryin', 'trying', 'tryouts', 'tshirt', 'tt', 'tu', 'tub', 'tube', 'tuesday', 'tuesdays', 'tumblr', 'tummy', 'tune', 'tuned', 'tunes', 'tunnel', 'turkey', 'turn', 'turned', 'turning', 'turns', 'turtle', 'tutoring', 'tv', 'twas', 'tweeple', 'tweeps', 'tweet', 'tweetdeck', 'tweeted', 'tweeter', 'tweeteradder', 'tweeterfollow', 'tweeters', 'tweetie', 'tweeties', 'tweeting', 'tweets', 'tweetup', 'twhirl', 'twice', 'twilight', 'twin', 'twins', 'twit', 'twitpic', 'twitter', 'twitterberry', 'twittered', 'twitterers', 'twitteriffic', 'twittering', 'twitterland', 'twitters', 'twitterverse', 'twitterville', 'twitterworld', 'two', 'twt', 'twurl', 'tx', 'txt', 'ty', 'tyler', 'type', 'typical', 'typically', 'typing', 'tyrese4real', 'uber', 'ubertwitter', 'ubuntu', 'ugh', 'ughh', 'ughhh', 'ugly', 'uh', 'uhh', 'uhhh', 'ui', 'uk', 'ull', 'ultimate', 'um', 'umbrella', 'umm', 'ummm', 'un', 'unable', 'uncle', 'under', 'underground', 'underneath', 'understand', 'understanding', 'understands', 'unfair', 'unfollowed', 'unfortunate', 'unfortunately', 'unfortunatly', 'unhappy', 'uni', 'uniform', 'union', 'unique', 'united', 'universe', 'university', 'unless', 'unlike', 'unproductive', 'until', 'up', 'update', 'updated', 'updates', 'updating', 'upgrade', 'upload', 'uploading', 'upon', 'upper', 'ups', 'upset', 'upsetting', 'upstairs', 'ur', 'urban', 'urge', 'urgent', 'urgh', 'url', 'us', 'usa', 'usb', 'use', 'used', 'useful', 'user', 'username', 'users', 'using', 'ustre', 'ustream', 'usual', 'usually', 'utah', 'va', 'vacation', 'vacations', 'valid', 'valley', 'value', 'vampire', 'van', 'vancouver', 'vanilla', 'vast', 'vat', 've', 'vegas', 'veggie', 'veggies', 'veronicas', 'version', 'very', 'vet', 'via', 'vibes', 'victor', 'victoria', 'vid', 'video', 'videos', 'vids', 'view', 'viewers', 'village', 'ville', 'vines', 'violence', 'vip', 'virgin', 'virtual', 'virus', 'vision', 'visit', 'visited', 'visiting', 'visits', 'viva', 'vlog', 'vocals', 'voice', 'voicemail', 'volleyball', 'vomit', 'vote', 'voted', 'votes', 'voting', 'vs', 'w00t', 'waaaay', 'wack', 'waffle', 'wah', 'wait', 'waited', 'waitin', 'waiting', 'wake', 'waking', 'wal', 'wales', 'walk', 'walked', 'walking', 'wall', 'walls', 'wan', 'wana', 'wanna', 'want', 'wanted', 'wanting', 'wants', 'war', 'warm', 'warmer', 'warned', 'warning', 'warped', 'wars', 'was', 'wash', 'washed', 'washing', 'wasn', 'wasnt', 'waste', 'wasted', 'wat', 'watch', 'watched', 'watches', 'watchin', 'watching', 'water', 'watermelon', 'wats', 'wave', 'waves', 'way', 'wayne', 'ways', 'we', 'weak', 'wear', 'wearing', 'wears', 'weather', 'web', 'webaddict', 'website', 'wed', 'wedding', 'wednesday', 'wee', 'week', 'weekend', 'weekends', 'weekly', 'weeks', 'weight', 'weird', 'welcome', 'well', 'wembley', 'wen', 'went', 'were', 'weren', 'wes', 'west', 'wet', 'whale', 'what', 'whatever', 'whats', 'wheel', 'wheels', 'when', 'whenever', 'where', 'wheres', 'whether', 'whew', 'which', 'while', 'whilst', 'whipped', 'white', 'who', 'whoa', 'whoever', 'whole', 'whoo', 'whooo', 'whoop', 'whoops', 'whore', 'whose', 'wht', 'why', 'wi', 'wicked', 'wid', 'wide', 'wierd', 'wif', 'wife', 'wifey', 'wiff', 'wifi', 'wii', 'wikipedia', 'wil', 'wild', 'will', 'willie', 'willing', 'wimbledon', 'win', 'win7', 'wind', 'window', 'windows', 'winds', 'windy', 'wine', 'wing', 'wings', 'winner', 'winners', 'winning', 'wins', 'winter', 'wiped', 'wireless', 'wisdom', 'wise', 'wish', 'wished', 'wishes', 'wishin', 'wishing', 'wit', 'with', 'within', 'without', 'witty', 'wiv', 'wk', 'wknd', 'wks', 'woah', 'woke', 'woken', 'wolverine', 'woman', 'women', 'won', 'wonder', 'wondered', 'wonderful', 'wondering', 'wonders', 'wont', 'woo', 'wood', 'woods', 'woohoo', 'wooo', 'wooohooo', 'woooo', 'woop', 'woot', 'word', 'wordpress', 'words', 'wore', 'work', 'worked', 'workin', 'working', 'workout', 'works', 'workshop', 'world', 'worlds', 'worried', 'worries', 'worry', 'worse', 'worship', 'worst', 'worth', 'worthy', 'wossy', 'wot', 'would', 'wouldn', 'wouldnt', 'wow', 'wp', 'wpf', 'wrist', 'write', 'writers', 'writes', 'writing', 'written', 'wrk', 'wrong', 'wrote', 'ws', 'wtf', 'wth', 'wud', 'wut', 'wwdc', 'www', 'xbox', 'xd', 'xo', 'xox', 'xoxo', 'xoxox', 'xoxoxo', 'xp', 'xsavedgex', 'xx', 'xxx', 'xxxx', 'ya', 'yaay', 'yah', 'yahh', 'yahoo', 'yall', 'yard', 'yarn', 'yawn', 'yay', 'yayy', 'yayyy', 'yayyyy', 'ye', 'yea', 'yeah', 'yeahh', 'yeahhh', 'yeahhhh', 'year', 'years', 'yeay', 'yeh', 'yell', 'yelled', 'yellow', 'yelyahwilliams', 'yep', 'yer', 'yes', 'yess', 'yesss', 'yessss', 'yest', 'yesterday', 'yet', 'yew', 'yey', 'yfrog', 'yikes', 'yo', 'yoga', 'yoghurt', 'yogurt', 'york', 'yorkshire', 'you', 'young', 'younger', 'youngest', 'youngq', 'your', 'youre', 'yours', 'yourself', 'youth', 'youtube', 'youu', 'yr', 'yrs', 'yt', 'yu', 'yuck', 'yucky', 'yum', 'yummy', 'yung', 'yup', 'yw', 'zac', 'zen', 'zero', 'zombie', 'zone', 'zones', 'zoo', '½c', '½m', '½n', '½ng', '½re', '½t', 'ð²', 'ð²ð', 'ð²ñ', 'ðµ', 'ðµð', 'ðµñ', 'ð¹', 'ðºð', 'ðºð¾ñ', 'ðºñ', 'ð¼ð', 'ð½ð', 'ð½ðµ', 'ð½ñ', 'ð¾', 'ð¾ð', 'ð¾ñ']\n"
          ]
        },
        {
          "output_type": "stream",
          "name": "stderr",
          "text": [
            "/usr/local/lib/python3.7/dist-packages/sklearn/utils/deprecation.py:87: FutureWarning: Function get_feature_names is deprecated; get_feature_names is deprecated in 1.0 and will be removed in 1.2. Please use get_feature_names_out instead.\n",
            "  warnings.warn(msg, category=FutureWarning)\n"
          ]
        }
      ],
      "source": [
        "from sklearn.feature_extraction.text import TfidfVectorizer\n",
        "\n",
        "tfid_vect_sentiment = TfidfVectorizer(analyzer = \"word\", max_features=10000, min_df=3)\n",
        "\n",
        "yTrain_sentiment = sentiment_train.label\n",
        "yTest_sentiment = sentiment_test.label\n",
        "\n",
        "# Vectorize the datasets and use a common vocab to transform the test df\n",
        "xTrain_sentiment = tfid_vect_sentiment.fit_transform(sentiment_train.text).toarray()\n",
        "\n",
        "vocab_sentiment = tfid_vect_sentiment.vocabulary_\n",
        "tfid_vect2_sentiment = TfidfVectorizer(vocabulary=vocab_sentiment)\n",
        "xTest_sentiment = tfid_vect2_sentiment.fit_transform(sentiment_test.text).toarray()\n",
        "# print names\n",
        "print(tfid_vect_sentiment.get_feature_names())\n",
        "print(tfid_vect2_sentiment.get_feature_names())\n"
      ]
    },
    {
      "cell_type": "code",
      "execution_count": 20,
      "metadata": {
        "id": "8HBpOik7qzEP"
      },
      "outputs": [],
      "source": [
        "xTrain_sentimentOriginal, yTrain_sentimentOriginal, xTest_sentimentOriginal, yTest_sentimentOriginal = xTrain_sentiment, yTrain_sentiment, xTest_sentiment, yTest_sentiment"
      ]
    },
    {
      "cell_type": "code",
      "execution_count": 21,
      "metadata": {
        "id": "l6YvsyCpue8i"
      },
      "outputs": [],
      "source": [
        "from sklearn.calibration import CalibratedClassifierCV\n",
        "from imblearn.under_sampling import InstanceHardnessThreshold\n",
        "from sklearn.svm import LinearSVC\n",
        "from collections import Counter\n",
        "from sklearn.preprocessing import MinMaxScaler\n",
        "from sklearn.feature_selection import SelectFromModel\n",
        "\n",
        "def extract_features(xTrain_sentiment, yTrain_sentiment, xTest_sentiment, yTest_sentiment):\n",
        "  iht = InstanceHardnessThreshold(random_state=0, n_jobs=11,\n",
        "                                  estimator=CalibratedClassifierCV(\n",
        "                                      LinearSVC(C=100, penalty='l1', max_iter=500, dual=False)\n",
        "                                  ))\n",
        "  X_resampled, y_resampled = iht.fit_resample(xTrain_sentiment, yTrain_sentiment)\n",
        "  print(sorted(Counter(y_resampled).items()))\n",
        "\n",
        "\n",
        "  X, yTrain_sentiment = X_resampled, y_resampled\n",
        "  X_test, y_test = xTest_sentiment, yTest_sentiment\n",
        "\n",
        "  scaler = MinMaxScaler()\n",
        "  X_norm = scaler.fit_transform(X)\n",
        "  X_test_norm = scaler.transform(X_test)\n",
        "\n",
        "  xTrain_sentimentOriginal = X_norm\n",
        "  yTrain_sentimentOriginal = y_resampled\n",
        "  xTest_sentimentOriginal = X_test_norm\n",
        "  yTest_sentimentOriginal = sentiment_test.label\n",
        "\n",
        "\n",
        "\n",
        "  lsvc = LinearSVC(C=100, penalty='l1', max_iter=500, dual=False)\n",
        "  lsvc.fit(X_resampled, y_resampled)\n",
        "  fs = SelectFromModel(lsvc, prefit=True)\n",
        "  X_selected = fs.transform(X_norm)\n",
        "  X_test_selected = fs.transform(X_test_norm)\n",
        "\n",
        "\n",
        "  xTrain_sentiment = X_selected\n",
        "  xTest_sentiment = X_test_selected\n",
        "\n",
        "\n",
        "  print(\"New dataset shape: \", xTrain_sentiment.shape)\n",
        "  print(\"Original amount of features: \", xTrain_sentimentOriginal.shape[1])\n",
        "  print(\"Current amount of features: \", xTrain_sentiment.shape[1])\n",
        "  print(\"Features reduscted: \",xTrain_sentimentOriginal.shape[1] - xTrain_sentiment.shape[1])\n",
        "\n",
        "  return xTrain_sentiment, xTest_sentiment, yTrain_sentiment, yTest_sentiment"
      ]
    },
    {
      "cell_type": "code",
      "execution_count": 22,
      "metadata": {
        "colab": {
          "base_uri": "https://localhost:8080/"
        },
        "id": "C5HjxAe8uhn5",
        "outputId": "09d93596-32d7-4929-f4b9-c4a5f0da1695"
      },
      "outputs": [
        {
          "output_type": "stream",
          "name": "stdout",
          "text": [
            "[(0, 9944), (1, 9944)]\n",
            "New dataset shape:  (19888, 5624)\n",
            "Original amount of features:  5782\n",
            "Current amount of features:  5624\n",
            "Features reduscted:  158\n"
          ]
        }
      ],
      "source": [
        "xTrain_sentiment, xTest_sentiment, yTrain_sentiment, yTest_sentiment= extract_features(xTrain_sentiment, yTrain_sentiment, xTest_sentiment, yTest_sentiment)"
      ]
    },
    {
      "cell_type": "markdown",
      "metadata": {
        "id": "exJ0a4J_5Ux_"
      },
      "source": [
        "# **2. Implement the Models**\n",
        "\n"
      ]
    },
    {
      "cell_type": "code",
      "execution_count": null,
      "metadata": {
        "id": "y31Cf-U95pfO"
      },
      "outputs": [],
      "source": [
        "import numpy as np\n",
        "import itertools\n",
        "%matplotlib inline\n",
        "import matplotlib.pyplot as plt"
      ]
    },
    {
      "cell_type": "markdown",
      "metadata": {
        "id": "duzvy-zh5e5H"
      },
      "source": [
        "### **2.1 Naive Bayes Model**\n",
        "\n",
        "\n"
      ]
    },
    {
      "cell_type": "code",
      "execution_count": null,
      "metadata": {
        "id": "yCq8Mfll6TvH"
      },
      "outputs": [],
      "source": [
        "class MultinomialNB(object):\n",
        "    # set alpha to be 1 by default\n",
        "    def __init__(self, alpha):\n",
        "        self.alpha = alpha\n",
        "\n",
        "    def fit(self, X, y):\n",
        "        # count number of data points or samples\n",
        "        count_sample = X.shape[0]\n",
        "        # Check each class and count \n",
        "        classes = [[x for x, t in zip(X, y) if t == c] for c in np.unique(y)]\n",
        "        # Calculate the prior\n",
        "        self.class_log_prior_ = [np.log(len(i) / count_sample) for i in classes]\n",
        "        # calculate count of each word for each class and add self.alpha as smoothing\n",
        "        count = np.array([np.array(i).sum(axis=0) for i in classes]) + self.alpha\n",
        "        # calculate the log probability of each word\n",
        "        self.feature_log_prob_ = np.log(count / count.sum(axis=1)[np.newaxis].T)\n",
        "        return self\n",
        "\n",
        "    def predict_log_proba(self, X):\n",
        "        return [(self.feature_log_prob_ * x).sum(axis=1) + self.class_log_prior_\n",
        "                for x in X]\n",
        "\n",
        "    def predict(self, X):\n",
        "        # maximize probability\n",
        "        return np.argmax(self.predict_log_proba(X), axis=1)"
      ]
    },
    {
      "cell_type": "code",
      "execution_count": null,
      "metadata": {
        "id": "ou2AdctJ5UCN"
      },
      "outputs": [],
      "source": [
        "# class GaussianNaiveBayes():\n",
        "    \n",
        "#     def __init__(self, alpha):\n",
        "#       self.alpha = alpha\n",
        "#       return\n",
        "    \n",
        "#     def fit(self, x, y):\n",
        "#         N, D = x.shape\n",
        "#         # liyun => change 1 to self.alpha\n",
        "#         C = np.max(y) + 1\n",
        "#         # one parameter for each feature conditioned on each class\n",
        "#         mu, sigma = np.zeros((C,D)), np.zeros((C,D))\n",
        "#         Nc = np.zeros(C) # number of instances in class c\n",
        "#         # for each class get the MLE for the mean and std\n",
        "#         for c in range(C):\n",
        "#             x_c = x[y == c]                           #slice all the elements from class c\n",
        "#             Nc[c] = x_c.shape[0]                      #get number of elements of class c\n",
        "#             mu[c,:] = np.mean(x_c,0)                  #mean of features of class c\n",
        "#             sigma[c,:] = np.std(x_c, 0)               #std of features of class c\n",
        "            \n",
        "#         self.mu = mu                                  # C x D\n",
        "#         self.sigma = sigma                            # C x D\n",
        "#         self.pi = (Nc+1)/(N+C)                        #Laplace smoothing (using alpha_c=1 for all c) you can derive using Dirichlet's distribution\n",
        "#         return self"
      ]
    },
    {
      "cell_type": "code",
      "execution_count": null,
      "metadata": {
        "id": "3qbAR_mD5wUV"
      },
      "outputs": [],
      "source": [
        "# def logsumexp(Z):                                                # dimension C x N\n",
        "#     Zmax = np.max(Z,axis=0)[None,:]                              # max over C\n",
        "#     log_sum_exp = Zmax + np.log(np.sum(np.exp(Z - Zmax), axis=0))\n",
        "#     return log_sum_exp\n",
        "\n",
        "# def predict(self, xt):\n",
        "#     Nt, D = xt.shape\n",
        "#     # for numerical stability we work in the log domain\n",
        "#     # we add a dimension because this is added to the log-likelihood matrix \n",
        "#     # that assigns a likelihood for each class (C) to each test point, and so it is C x N\n",
        "#     log_prior = np.log(self.pi)[:, None]\n",
        "#     # logarithm of the likelihood term for Gaussian \n",
        "#     # the first two terms are the logarithm of the normalization term in the Gaussian and the final term is the exponent in the Gaussian. \n",
        "#     # Notice that we are adding dimensions (using None) to model parameters and data to make this evaluation. \n",
        "#     # The reason is that sigma and mu are C x D, while the data x is N x D. We operate on a C x N x D shape by increasing the number of dimensions when needed\n",
        "#     log_likelihood = -.5 * np.log(2*np.pi) - np.log(self.sigma[:,None,:]) -.5 * (((xt[None,:,:] - self.mu[:,None,:])/self.sigma[:,None,:])**2)\n",
        "#     # now we sum over the feature dimension to get a C x N matrix (this has the log-likelihood for each class-test point combination)\n",
        "#     log_likelihood = np.sum(log_likelihood, axis=2)\n",
        "#     # posterior calculation\n",
        "#     log_posterior = log_prior + log_likelihood\n",
        "#     posterior = np.exp(log_posterior - logsumexp(log_posterior))\n",
        "#     return posterior.T                                                  # dimension N x C\n",
        "\n",
        "# GaussianNaiveBayes.predict = predict"
      ]
    },
    {
      "cell_type": "markdown",
      "metadata": {
        "id": "1_DVcbbq6Gqe"
      },
      "source": [
        "### **2.2 K-Fold Cross Validation**"
      ]
    },
    {
      "cell_type": "code",
      "execution_count": null,
      "metadata": {
        "id": "lbds2RuIiIM4"
      },
      "outputs": [],
      "source": [
        "def cross_validate(n, n_folds=10):\n",
        "    #get the number of data samples in each split\n",
        "    n_val = n // n_folds\n",
        "    inds = np.random.permutation(n)\n",
        "    inds = []\n",
        "    for f in range(n_folds):\n",
        "        tr_inds = []\n",
        "        #get the validation indexes\n",
        "        val_inds = list(range(f * n_val, (f+1)*n_val))\n",
        "        #get the train indexes\n",
        "        if f > 0:\n",
        "            tr_inds = list(range(f*n_val))\n",
        "        if f < n_folds - 1:\n",
        "            tr_inds = tr_inds + list(range((f+1)*n_val, n))\n",
        "        #The yield statement suspends function’s execution and sends a value back to the caller\n",
        "        #but retains enough state information to enable function to resume where it is left off\n",
        "        yield tr_inds, val_inds\n",
        "\n",
        "# evaluate accuracy\n",
        "def evaluate_acc(y_pred, y_true):\n",
        "    # returns the mean accuracy\n",
        "    count = 0\n",
        "    for i in range(len(y_pred)):\n",
        "        if y_pred.tolist()[i] == y_true.tolist()[i]:\n",
        "            count+=1\n",
        "    return count/len(y_pred) \n",
        "\n",
        "def kfoldCV(x, y, model, n_folds):\n",
        "  result = 0\n",
        "  total_x = np.array(x).shape[0]\n",
        "  for f, (tr, val) in enumerate(cross_validate(total_x, n_folds)):\n",
        "    x_train = np.array(x)[tr]\n",
        "    y_train = np.array(y)[tr]\n",
        "    x_val = np.array(x)[val]\n",
        "    y_val = np.array(y)[val]\n",
        "    model = model.fit(x_train, y_train)\n",
        "    y_pred = model.predict(x_val)\n",
        "    result += evaluate_acc(y_pred, y_val)\n",
        "  return result / n_folds\n",
        "    "
      ]
    },
    {
      "cell_type": "markdown",
      "metadata": {
        "id": "33VL0_asDqqG"
      },
      "source": [
        "### **2.3 Hyper-parameter tuning and model selection**"
      ]
    },
    {
      "cell_type": "code",
      "execution_count": null,
      "metadata": {
        "colab": {
          "base_uri": "https://localhost:8080/",
          "height": 348
        },
        "id": "tLl-_aZt3LZs",
        "outputId": "f69ea8df-0cfb-47eb-d8d8-934095727420"
      },
      "outputs": [
        {
          "output_type": "stream",
          "name": "stdout",
          "text": [
            "Best Alpha Value: 0.25\n",
            "Highest accuracy: 0.5805883832034197\n"
          ]
        },
        {
          "output_type": "execute_result",
          "data": {
            "text/plain": [
              "Text(0.5, 1.0, 'Variation of 5 Fold Cross Validation Acc as a Function of Alpha')"
            ]
          },
          "metadata": {},
          "execution_count": 163
        },
        {
          "output_type": "display_data",
          "data": {
            "image/png": "[encoded data removed]",
            "text/plain": [
              "<Figure size 432x288 with 1 Axes>"
            ]
          },
          "metadata": {
            "needs_background": "light"
          }
        }
      ],
      "source": [
        "alpha = np.array([0.001, 0.01, 0.05, 0.1, 0.25, 0.5, 0.75, 1, 1.5, 2.5, 3, 4, 5, 7, 10], dtype=np.float_)\n",
        "accuracy_list= []\n",
        "max_acc = 0\n",
        "best_alpha = 0\n",
        "for a in alpha:\n",
        "  model = MultinomialNB(alpha=a)\n",
        "  acc = kfoldCV(xTrain_sentiment, yTrain_sentiment, model, 5)\n",
        "  if acc > max_acc:\n",
        "    max_acc = acc\n",
        "    best_alpha = a\n",
        "  accuracy_list.append(acc)\n",
        "  \n",
        "\n",
        "# plot the results as \n",
        "data = {'alpha': alpha, '5 fold accuracy': accuracy_list}\n",
        "df = pd.DataFrame(data)\n",
        "print(\"Best Alpha Value:\", best_alpha)\n",
        "print(\"Highest accuracy:\", max_acc)\n",
        "plt.plot(alpha, accuracy_list)\n",
        "plt.ylabel('Accuracy Across 5 Folds')\n",
        "plt.xlabel('Alpha')\n",
        "plt.title(\"Variation of 5 Fold Cross Validation Acc as a Function of Alpha\")"
      ]
    },
    {
      "cell_type": "markdown",
      "metadata": {
        "id": "AySO_B5x1nug"
      },
      "source": [
        "The best alpha value for Multinomial Naive Bayes is **0.25**\n",
        "\n",
        "This produced a best average prediction accuracy of **52.06%**"
      ]
    },
    {
      "cell_type": "code",
      "execution_count": null,
      "metadata": {
        "id": "9dkPJKudQ3Yj",
        "colab": {
          "base_uri": "https://localhost:8080/"
        },
        "outputId": "c7796f02-b49e-4768-a4bb-5ee580cc1634"
      },
      "outputs": [
        {
          "output_type": "stream",
          "name": "stdout",
          "text": [
            "Training Accuracy with best model: 0.8275341914722446\n",
            "Test accuracy with best model: 0.766016713091922\n"
          ]
        }
      ],
      "source": [
        "best_model = MultinomialNB(alpha=best_alpha)\n",
        "best_model.fit(xTrain_sentiment, yTrain_sentiment)\n",
        "print(\"Training Accuracy with best model:\", evaluate_acc(best_model.predict(xTrain_sentiment),  yTrain_sentiment))\n",
        "\n",
        "print(\"Test accuracy with best model:\", evaluate_acc(best_model.predict(xTest_sentiment),  yTest_sentiment))"
      ]
    },
    {
      "cell_type": "code",
      "execution_count": null,
      "metadata": {
        "id": "xCoDRWN8QR-U"
      },
      "outputs": [],
      "source": [
        "from sklearn.model_selection import GridSearchCV\n",
        "from sklearn.linear_model import LogisticRegression\n",
        "model = LogisticRegression(multi_class = 'multinomial', solver = 'lbfgs', max_iter=550, n_jobs=-1)\n",
        "param_grid = {'C': [0.01, 0.05, 0.1, 0.25, 0.5, 0.75, 1, 2.5, 3, 5, 7, 10, 12, 15, 17, 20, 30, 40, 50, 60, 65, 70, 75, 80, 90, 100]}\n",
        "grid = GridSearchCV(model, param_grid, cv=5)\n",
        "grid.fit(xTrain_sentiment, yTrain_sentiment)\n",
        "\n",
        "print(\"Best cross-validation score: {:.2f}\".format(grid.best_score_))\n",
        "print(\"Best parameters: \", grid.best_params_)\n",
        "print(grid.best_estimator_)"
      ]
    },
    {
      "cell_type": "markdown",
      "metadata": {
        "id": "ksmPXJbgabqT"
      },
      "source": [
        "The best c value for Logistic Regression is **0.5**\n",
        "\n",
        "This produced a best prediction accuracy of **76.0%**"
      ]
    },
    {
      "cell_type": "code",
      "execution_count": null,
      "metadata": {
        "id": "X0y-ne3wpJjc"
      },
      "outputs": [],
      "source": [
        "from sklearn.model_selection import train_test_split\n",
        "from sklearn.linear_model import LogisticRegression\n",
        "def compare_c_acc(x_train, y_train, x_test, y_test, model):\n",
        "  acc_list = []\n",
        "  c_list = [0.01, 0.05, 0.1, 0.25, 0.5, 0.6, 0.7, 0.75, 0.8, 0.9, 1, 2.5, 3, 5, 7, 10, 12, 15, 100]\n",
        "\n",
        "  part_x_train, _, part_y_train, _ = \\\n",
        "      train_test_split(\n",
        "          x_train,\n",
        "          y_train,\n",
        "          train_size=0.8,\n",
        "          random_state=42,\n",
        "          shuffle=True\n",
        "        )\n",
        " \n",
        "  for c in c_list:\n",
        "    model.C = c\n",
        "    model.fit(part_x_train, part_y_train)\n",
        "\n",
        "    y_pred = model.predict(x_test)\n",
        "    acc = evaluate_acc(y_pred, y_test)\n",
        "    acc_list.append(acc)\n",
        "\n",
        "    \n",
        "\n",
        "  best_acc = max(acc_list)\n",
        "  idx = acc_list.index(best_acc)\n",
        "\n",
        "  return c_list, acc_list\n",
        "\n",
        "lr_model_c_acc = LogisticRegression(multi_class = 'multinomial', solver = 'lbfgs', max_iter=550, n_jobs=-1)\n",
        "c_list_lr, acc_list_lr = compare_c_acc(xTrain_sentiment, yTrain_sentiment, xTest_sentiment, yTest_sentiment, lr_model_c_acc)"
      ]
    },
    {
      "cell_type": "markdown",
      "metadata": {
        "id": "HSWEdlCPGQ1S"
      },
      "source": [
        "# **3. Run Experiments**"
      ]
    },
    {
      "cell_type": "markdown",
      "metadata": {
        "id": "B_J0E52ScidA"
      },
      "source": [
        "### **3.1 Performing Naive Bayes and Logistic Regression classification**"
      ]
    },
    {
      "cell_type": "markdown",
      "metadata": {
        "id": "IndkBaA4M3-7"
      },
      "source": [
        "**Define best hyperparameters** "
      ]
    },
    {
      "cell_type": "code",
      "execution_count": 24,
      "metadata": {
        "id": "K36EM4XRMqWZ",
        "colab": {
          "base_uri": "https://localhost:8080/"
        },
        "outputId": "5545b6a1-f336-48b4-fc3f-efd5d3723519"
      },
      "outputs": [
        {
          "output_type": "stream",
          "name": "stdout",
          "text": [
            "0.25\n",
            "0.5\n"
          ]
        }
      ],
      "source": [
        "best_alpha = 0.25\n",
        "print(best_alpha)\n",
        "best_C = 0.5\n",
        "print(best_C)"
      ]
    },
    {
      "cell_type": "markdown",
      "metadata": {
        "id": "D8bMp7-pKh4Z"
      },
      "source": [
        "####**3.1.1 Naive Bayes**"
      ]
    },
    {
      "cell_type": "code",
      "execution_count": null,
      "metadata": {
        "id": "4CVZzGRPL9Sh",
        "colab": {
          "base_uri": "https://localhost:8080/"
        },
        "outputId": "7a500ee2-330f-4a5c-e7e2-647cb826f862"
      },
      "outputs": [
        {
          "output_type": "stream",
          "name": "stdout",
          "text": [
            "Training Accuracy with best NB model: 0.8275341914722446\n",
            "Test Accuracy with best NB model: 0.766016713091922\n"
          ]
        }
      ],
      "source": [
        "best_modelNB = MultinomialNB(alpha=best_alpha)\n",
        "# looking for training accuracy \n",
        "best_modelNB.fit(xTrain_sentiment, yTrain_sentiment)\n",
        "trainingAcc_NB = evaluate_acc(best_modelNB.predict(xTrain_sentiment),  yTrain_sentiment)\n",
        "print(\"Training Accuracy with best NB model:\", trainingAcc_NB)\n",
        "testingAcc_NB = evaluate_acc(best_modelNB.predict(xTest_sentiment), yTest_sentiment)\n",
        "print(\"Test Accuracy with best NB model:\", testingAcc_NB)"
      ]
    },
    {
      "cell_type": "markdown",
      "metadata": {
        "id": "23sKSJltKpdr"
      },
      "source": [
        "#### **3.1.2 Logistic Regression**"
      ]
    },
    {
      "cell_type": "code",
      "execution_count": null,
      "metadata": {
        "id": "6gTuCfxIMd2A",
        "colab": {
          "base_uri": "https://localhost:8080/"
        },
        "outputId": "685b66ad-583f-455a-d2c2-1eb334ddbcd6"
      },
      "outputs": [
        {
          "output_type": "stream",
          "name": "stdout",
          "text": [
            "Training Accuracy with best LR model: 0.851015687851971\n",
            "Test accuracy with best LR model: 0.766016713091922\n"
          ]
        }
      ],
      "source": [
        "from sklearn.linear_model import LogisticRegression\n",
        "best_modelLG = LogisticRegression(C=0.5, max_iter=550, multi_class='multinomial', n_jobs=-1)\n",
        "best_modelLG.fit(xTrain_sentiment, yTrain_sentiment)\n",
        "trainingAcc_LG = evaluate_acc(best_modelLG.predict(xTrain_sentiment),  yTrain_sentiment)\n",
        "print(\"Training Accuracy with best LR model:\", trainingAcc_LG)\n",
        "testingAcc_LG = evaluate_acc(best_modelLG.predict(xTest_sentiment), yTest_sentiment)\n",
        "print(\"Test accuracy with best LR model:\", testingAcc_LG)"
      ]
    },
    {
      "cell_type": "markdown",
      "metadata": {
        "id": "IN_9OyfxGaaX"
      },
      "source": [
        "### **3.2 Compare performance of models**"
      ]
    },
    {
      "cell_type": "code",
      "execution_count": null,
      "metadata": {
        "id": "UNBel8Xla9OO",
        "colab": {
          "base_uri": "https://localhost:8080/"
        },
        "outputId": "1f6f2fa9-5f0d-4f59-85e8-149f168b9651"
      },
      "outputs": [
        {
          "output_type": "stream",
          "name": "stdout",
          "text": [
            "+------------------------------------------------------------------------------------+\n",
            "| Best performance of MultinomialNB and Logistic Regression on both testing datasets |\n",
            "+--------------------------------------------------------+---------------------------+\n",
            "|                                                        |         Sentiment         |\n",
            "+--------------------------------------------------------+---------------------------+\n",
            "|           MultinomialNB - Training Accuracy            |     0.8275341914722446    |\n",
            "|            MultinomialNB - Testing Accuracy            |     0.766016713091922     |\n",
            "|        Logistic Regression - Training Accuracy         |     0.851015687851971     |\n",
            "|         Logistic Regression - Testing Accuracy         |     0.766016713091922     |\n",
            "+--------------------------------------------------------+---------------------------+\n"
          ]
        }
      ],
      "source": [
        "from prettytable import PrettyTable\n",
        "resultTable = PrettyTable()\n",
        "resultTable.title = \"Best performance of MultinomialNB and Logistic Regression on both testing datasets\"\n",
        "resultTable.field_names = [\" \", \"Sentiment\"]\n",
        "\n",
        "\n",
        "resultTable.add_row(['MultinomialNB - Training Accuracy', trainingAcc_NB])\n",
        "resultTable.add_row(['MultinomialNB - Testing Accuracy', testingAcc_NB])\n",
        "resultTable.add_row(['Logistic Regression - Training Accuracy', trainingAcc_LG])\n",
        "resultTable.add_row(['Logistic Regression - Testing Accuracy', testingAcc_LG])\n",
        "print(resultTable)"
      ]
    },
    {
      "cell_type": "markdown",
      "metadata": {
        "id": "TL2k9PZdK6yf"
      },
      "source": [
        "### **3.3 Comparing accuracy as function of dataset size**"
      ]
    },
    {
      "cell_type": "markdown",
      "metadata": {
        "id": "tWCGzrbjLGCz"
      },
      "source": [
        "#### **3.3.1 Naive Bayes**"
      ]
    },
    {
      "cell_type": "code",
      "execution_count": null,
      "metadata": {
        "id": "kn74AlVYLBzE"
      },
      "outputs": [],
      "source": [
        "from sklearn.model_selection import train_test_split\n",
        "\n",
        "\n",
        "def compare_naive_bayes_acc(x_train, y_train, x_test, y_test):\n",
        "  training_size_list = [0.2, 0.4, 0.6, 0.8]\n",
        "  acc_list = []\n",
        " \n",
        "  for training_size in training_size_list:\n",
        "    part_x_train, _, part_y_train, _ = \\\n",
        "      train_test_split(\n",
        "          x_train,\n",
        "          y_train,\n",
        "          train_size=training_size,\n",
        "          random_state=42,\n",
        "          shuffle=True\n",
        "        )\n",
        "    \n",
        "    model = MultinomialNB(alpha=best_alpha)\n",
        "    model.fit(part_x_train, part_y_train)\n",
        "\n",
        "    y_pred = model.predict(x_test)\n",
        "    acc = evaluate_acc(y_pred, y_test)\n",
        "    acc_list.append(acc)\n",
        "    print(\"Acc with training_size (%s) = %s\\n\" % (training_size, acc))\n",
        "  training_size_list.append(1.0)\n",
        "  model = MultinomialNB(best_alpha)\n",
        "  model.fit(x_train, y_train)\n",
        "  y_pred = model.predict(x_test)\n",
        "  acc = evaluate_acc(y_pred, y_test)\n",
        "  acc_list.append(acc)\n",
        "  print(\"Acc with training_size (%s) = %s\\n\" % (1, acc))\n",
        "  best_acc  = max(acc_list)\n",
        "  idx = acc_list.index(best_acc)\n",
        "\n",
        "  print(\"Best accuracy training_size with %s = %s\\n\" % (training_size_list[idx], best_acc))\n",
        "  return acc_list"
      ]
    },
    {
      "cell_type": "code",
      "execution_count": null,
      "metadata": {
        "id": "8tGQmjwXLYNV",
        "colab": {
          "base_uri": "https://localhost:8080/"
        },
        "outputId": "625eeaeb-7b7b-4e23-fafa-d954b162ddba"
      },
      "outputs": [
        {
          "output_type": "stream",
          "name": "stdout",
          "text": [
            "Acc with training_size (0.2) = 0.7437325905292479\n",
            "\n",
            "Acc with training_size (0.4) = 0.7493036211699164\n",
            "\n",
            "Acc with training_size (0.6) = 0.7381615598885793\n",
            "\n",
            "Acc with training_size (0.8) = 0.7938718662952646\n",
            "\n",
            "Acc with training_size (1) = 0.766016713091922\n",
            "\n",
            "Best accuracy training_size with 0.8 = 0.7938718662952646\n",
            "\n"
          ]
        }
      ],
      "source": [
        "NB_accList_test1 = compare_naive_bayes_acc(xTrain_sentiment, yTrain_sentiment, xTest_sentiment, yTest_sentiment)"
      ]
    },
    {
      "cell_type": "code",
      "execution_count": null,
      "metadata": {
        "id": "hKpapxPjLbPM",
        "colab": {
          "base_uri": "https://localhost:8080/",
          "height": 545
        },
        "outputId": "43e355fe-97c8-430a-b717-f26f040eac1e"
      },
      "outputs": [
        {
          "output_type": "stream",
          "name": "stdout",
          "text": [
            "Acc with training_size (0.2) = 0.7520891364902507\n",
            "\n",
            "Acc with training_size (0.4) = 0.766016713091922\n",
            "\n",
            "Acc with training_size (0.6) = 0.7771587743732591\n",
            "\n",
            "Acc with training_size (0.8) = 0.7743732590529248\n",
            "\n",
            "Acc with training_size (1) = 0.7688022284122563\n",
            "\n",
            "Best accuracy training_size with 0.6 = 0.7771587743732591\n",
            "\n"
          ]
        },
        {
          "output_type": "execute_result",
          "data": {
            "text/plain": [
              "<Figure size 432x288 with 0 Axes>"
            ]
          },
          "metadata": {},
          "execution_count": 173
        },
        {
          "output_type": "display_data",
          "data": {
            "image/png": "[encoded data removed]",
            "text/plain": [
              "<Figure size 432x288 with 1 Axes>"
            ]
          },
          "metadata": {
            "needs_background": "light"
          }
        },
        {
          "output_type": "display_data",
          "data": {
            "text/plain": [
              "<Figure size 432x288 with 0 Axes>"
            ]
          },
          "metadata": {}
        }
      ],
      "source": [
        "\n",
        "NB_accList_test2 = compare_naive_bayes_acc(xTrain_sentimentOriginal, yTrain_sentimentOriginal, xTest_sentimentOriginal, yTest_sentimentOriginal)\n",
        "training_size_list = [0.2, 0.4, 0.6, 0.8, 1.0]\n",
        "# plot \n",
        "plt.plot(training_size_list, NB_accList_test2, label =\"Without Feature Reduction\")\n",
        "plt.plot(training_size_list, NB_accList_test1, label =\"With Feature Reduction\")\n",
        "plt.xlabel('Training dataset size')\n",
        "plt.ylabel('Accuracy')\n",
        "plt.title(\"Naive Bayes Testing Accuracy\")\n",
        "plt.legend()\n",
        "plt.figure()\n"
      ]
    },
    {
      "cell_type": "markdown",
      "metadata": {
        "id": "DmUWb_q9LIYj"
      },
      "source": [
        "####**3.3.2 Logistic Regression**"
      ]
    },
    {
      "cell_type": "code",
      "execution_count": 1,
      "metadata": {
        "id": "5z_OM45xE74D"
      },
      "outputs": [],
      "source": [
        "from sklearn.linear_model import LogisticRegression\n",
        "from sklearn.metrics import accuracy_score\n",
        "from sklearn.model_selection import train_test_split\n",
        "from sklearn.exceptions import ConvergenceWarning\n",
        "from sklearn.feature_extraction.text import CountVectorizer\n",
        "import warnings\n",
        "from prettytable import PrettyTable\n",
        "\n",
        "warnings.simplefilter(\"ignore\", category=ConvergenceWarning)"
      ]
    },
    {
      "cell_type": "code",
      "execution_count": 28,
      "metadata": {
        "id": "BzplWCmBFTU2"
      },
      "outputs": [],
      "source": [
        "\n",
        "def compare_log_reg_acc(x_train, y_train, x_test, y_test):\n",
        "  acc_list = []\n",
        "  training_size_list = [0.2, 0.4, 0.6, 0.8]\n",
        "  for training_size in training_size_list:\n",
        "    # Use percentage of training and testing data\n",
        "    part_x_train, _, part_y_train, _ = \\\n",
        "      train_test_split(\n",
        "          x_train,\n",
        "          y_train,\n",
        "          train_size=training_size,\n",
        "          random_state=42,\n",
        "          shuffle=True\n",
        "        )\n",
        "\n",
        "\n",
        "    lr = LogisticRegression(multi_class = 'multinomial', solver = 'lbfgs', C=best_C, max_iter=550, n_jobs=-1)\n",
        "    lr.fit(part_x_train, part_y_train)\n",
        "    y_hat = lr.predict(x_test)\n",
        "\n",
        "    acc = accuracy_score(y_test, y_hat)\n",
        "    print(\"Testing accuracy training_size %s = %s\\n\" % (training_size, acc))\n",
        "    acc_list.append(acc)\n",
        "  training_size_list.append(1.0)\n",
        "  model = LogisticRegression(multi_class = 'multinomial', solver = 'lbfgs', C=best_C, max_iter=550, n_jobs=-1)\n",
        "  model.fit(x_train, y_train)\n",
        "  y_pred = model.predict(x_test)\n",
        "  acc = accuracy_score(y_pred, y_test)\n",
        "  acc_list.append(acc)\n",
        "  print(\"Acc with training_size (%s) = %s\\n\" % (1, acc))\n",
        "  best_acc  = max(acc_list)\n",
        "  idx = acc_list.index(best_acc)\n",
        "\n",
        "  \n",
        "\n",
        "  print(\"Best testing accuracy training_size with %s = %s\\n\" % (training_size_list[idx], best_acc))\n",
        "  return acc_list\n",
        "\n",
        "   "
      ]
    },
    {
      "cell_type": "code",
      "execution_count": 29,
      "metadata": {
        "id": "JOs2RBweJHK_",
        "colab": {
          "base_uri": "https://localhost:8080/"
        },
        "outputId": "7707e1d7-eb19-4293-b0de-a92e2d12881d"
      },
      "outputs": [
        {
          "output_type": "stream",
          "name": "stdout",
          "text": [
            "Testing accuracy training_size 0.2 = 0.7047353760445683\n",
            "\n",
            "Testing accuracy training_size 0.4 = 0.7520891364902507\n",
            "\n",
            "Testing accuracy training_size 0.6 = 0.7799442896935933\n",
            "\n",
            "Testing accuracy training_size 0.8 = 0.7743732590529248\n",
            "\n",
            "Acc with training_size (1) = 0.766016713091922\n",
            "\n",
            "Best testing accuracy training_size with 0.6 = 0.7799442896935933\n",
            "\n"
          ]
        }
      ],
      "source": [
        "LR_accList_test1 = compare_log_reg_acc(xTrain_sentiment, yTrain_sentiment, xTest_sentiment, yTest_sentiment)\n",
        "# plot \n"
      ]
    },
    {
      "cell_type": "code",
      "execution_count": 30,
      "metadata": {
        "id": "flBqnrqXLk37",
        "colab": {
          "base_uri": "https://localhost:8080/"
        },
        "outputId": "815ebcdc-056b-4c65-e1ab-babd8fcc0e06"
      },
      "outputs": [
        {
          "output_type": "stream",
          "name": "stdout",
          "text": [
            "Testing accuracy training_size 0.2 = 0.7298050139275766\n",
            "\n",
            "Testing accuracy training_size 0.4 = 0.7270194986072424\n",
            "\n",
            "Testing accuracy training_size 0.6 = 0.7493036211699164\n",
            "\n",
            "Testing accuracy training_size 0.8 = 0.7493036211699164\n",
            "\n",
            "Acc with training_size (1) = 0.754874651810585\n",
            "\n",
            "Best testing accuracy training_size with 1.0 = 0.754874651810585\n",
            "\n"
          ]
        }
      ],
      "source": [
        "LR_accList_test2 = compare_log_reg_acc(xTrain_sentimentOriginal, yTrain_sentimentOriginal, xTest_sentimentOriginal, yTest_sentimentOriginal)\n"
      ]
    },
    {
      "cell_type": "code",
      "execution_count": 31,
      "metadata": {
        "id": "K-jqDeQp7r4m",
        "colab": {
          "base_uri": "https://localhost:8080/",
          "height": 330
        },
        "outputId": "aa4d809b-8233-45c1-d0a7-c1e71d72bf9d"
      },
      "outputs": [
        {
          "output_type": "execute_result",
          "data": {
            "text/plain": [
              "<Figure size 432x288 with 0 Axes>"
            ]
          },
          "metadata": {},
          "execution_count": 31
        },
        {
          "output_type": "display_data",
          "data": {
            "image/png": "[encoded data removed]",
            "text/plain": [
              "<Figure size 432x288 with 1 Axes>"
            ]
          },
          "metadata": {
            "needs_background": "light"
          }
        },
        {
          "output_type": "display_data",
          "data": {
            "text/plain": [
              "<Figure size 432x288 with 0 Axes>"
            ]
          },
          "metadata": {}
        }
      ],
      "source": [
        "\n",
        "# plot \n",
        "training_size_list = [0.2, 0.4, 0.6, 0.8, 1.0]\n",
        "plt.plot(training_size_list, LR_accList_test2, label =\"Without Feature Reduction\")\n",
        "plt.plot(training_size_list, LR_accList_test1, label =\"With Feature Reduction\")\n",
        "plt.xlabel('Training dataset size')\n",
        "plt.ylabel('Accuracy')\n",
        "plt.title(\"Softmax Regression Test Accuracy \")\n",
        "plt.legend()\n",
        "plt.figure()"
      ]
    },
    {
      "cell_type": "markdown",
      "metadata": {
        "id": "sVixhi1INNjw"
      },
      "source": [
        "#### **3.3.3 Summary**"
      ]
    },
    {
      "cell_type": "code",
      "execution_count": null,
      "metadata": {
        "id": "YjWu6f8ZNQCp"
      },
      "outputs": [],
      "source": [
        "from prettytable import PrettyTable\n",
        "resultTable = PrettyTable()\n",
        "resultTable.title = \"Performance of NB and LR models as functions of dataset size\"\n",
        "resultTable.field_names = [\" \", \"Dataset Size\", \"Test Accuracy With Feature Reduction\", \"Test Accuracy Without Feature Reduction\"]\n",
        "\n",
        "for i, (NB_FS, NB_WFS) in enumerate(zip(NB_accList_test1, NB_accList_test2)):\n",
        "  resultTable.add_row(['Multinomial Naive Bayes', training_size_list[i], \"{:.2f}%\".format(NB_FS*100), \"{:.2f}%\".format(NB_WFS*100)])\n",
        "\n",
        "resultTable.add_row(['', '', '', ''])\n",
        "\n",
        "for i, (LR_FS, LR_WFS) in enumerate(zip(LR_accList_test1, LR_accList_test2)):\n",
        "  resultTable.add_row(['Logistic Regression', training_size_list[i], \"{:.2f}%\".format(LR_FS*100), \"{:.2f}%\".format(LR_WFS*100)])\n",
        "\n",
        "print(resultTable)"
      ]
    },
    {
      "cell_type": "markdown",
      "metadata": {
        "id": "RE8G3IZRsmqB"
      },
      "source": [
        "### **3.4 Creative Experiment**"
      ]
    },
    {
      "cell_type": "markdown",
      "metadata": {
        "id": "ITy1K5GDs7_m"
      },
      "source": [
        "####**3.4.1 Count Vectorizer vs TF-IDF Vectorizer**"
      ]
    },
    {
      "cell_type": "code",
      "execution_count": null,
      "metadata": {
        "id": "fnOMtaQZ4Jxq"
      },
      "outputs": [],
      "source": [
        "# dataset before feature extraction \n",
        "sentiment_trainC = sentiment_train.text\n",
        "sentiment_testC = sentiment_test.text\n",
        "yTrain_sentimentC = sentiment_train.label\n",
        "yTest_sentimentC = sentiment_test.label"
      ]
    },
    {
      "cell_type": "code",
      "execution_count": null,
      "metadata": {
        "id": "e3ew_y01zeQD",
        "colab": {
          "base_uri": "https://localhost:8080/"
        },
        "outputId": "1bc946a7-2709-4734-fdc1-61afc8057f9c"
      },
      "outputs": [
        {
          "output_type": "stream",
          "name": "stdout",
          "text": [
            "[(0, 9944), (1, 9944)]\n",
            "New dataset shape:  (19888, 5621)\n",
            "Original amount of features:  5782\n",
            "Current amount of features:  5621\n",
            "Features reduscted:  161\n",
            "\n",
            "Training accuracy LR with TF-IDF =  0.8510659694288013\n",
            "Test accuracy LR with TF-IDF =  0.766016713091922\n",
            "Traing NB with TF-IDF =  0.827433628318584\n",
            "Test accuracy NB with TF-IDF =  0.766016713091922\n"
          ]
        }
      ],
      "source": [
        "from sklearn.feature_extraction.text import TfidfVectorizer\n",
        "tfid_vect_sentiment = TfidfVectorizer(analyzer = \"word\", max_features=10000, min_df=3)\n",
        "xTrain_sentiment = tfid_vect_sentiment.fit_transform(sentiment_trainC).toarray()\n",
        "\n",
        "vocab_sentiment = tfid_vect_sentiment.vocabulary_\n",
        "tfid_vect2_sentiment = TfidfVectorizer(vocabulary=vocab_sentiment)\n",
        "xTest_sentiment = tfid_vect2_sentiment.fit_transform(sentiment_testC).toarray()\n",
        "\n",
        "yTrain_sentiment = yTrain_sentimentC \n",
        "yTest_sentiment = yTest_sentimentC\n",
        "xTrain_sentiment, xTest_sentiment, yTrain_sentiment, yTest_sentiment= extract_features(xTrain_sentiment, yTrain_sentiment, xTest_sentiment, yTest_sentiment)\n",
        "nbmodel2 = MultinomialNB(alpha=best_alpha)\n",
        "lrmodel2 = LogisticRegression(C=0.5, max_iter=550, multi_class='multinomial', n_jobs=-1)\n",
        "\n",
        "lrmodel2.fit(xTrain_sentiment, yTrain_sentiment)\n",
        "acc2 = evaluate_acc(lrmodel2.predict(xTrain_sentiment),  yTrain_sentiment)\n",
        "acc2test = evaluate_acc(lrmodel2.predict(xTest_sentiment),  yTest_sentiment)\n",
        "\n",
        "nbmodel2.fit(xTrain_sentiment,  yTrain_sentiment)\n",
        "acc3 = evaluate_acc(nbmodel2.predict(xTrain_sentiment),  yTrain_sentiment)\n",
        "acc3test = evaluate_acc(nbmodel2.predict(xTest_sentiment),  yTest_sentiment)\n",
        "\n",
        "print()\n",
        "print('Training accuracy LR with TF-IDF = ', acc2)\n",
        "print('Test accuracy LR with TF-IDF = ', acc2test)\n",
        "print('Traing NB with TF-IDF = ', acc3)\n",
        "print('Test accuracy NB with TF-IDF = ', acc3test)"
      ]
    },
    {
      "cell_type": "code",
      "execution_count": null,
      "metadata": {
        "id": "CYNqRJlhvHio",
        "colab": {
          "base_uri": "https://localhost:8080/"
        },
        "outputId": "d78e6cb2-50b6-4af0-ccf2-c9af84a7c4d8"
      },
      "outputs": [
        {
          "output_type": "stream",
          "name": "stdout",
          "text": [
            "[(0, 9944), (1, 9944)]\n",
            "New dataset shape:  (19888, 5542)\n",
            "Original amount of features:  5782\n",
            "Current amount of features:  5542\n",
            "Features reduscted:  240\n",
            "\n",
            "Training accuracy LR with Count =  0.8533286403861625\n",
            "Test accuracy LR with Count =  0.7743732590529248\n",
            "Traing NB with Count =  0.8188857602574416\n",
            "Test accuracy NB with Count =  0.7688022284122563\n"
          ]
        }
      ],
      "source": [
        "cv = CountVectorizer(min_df = 3)\n",
        "cv.fit(sentiment_trainC)\n",
        "cv_sentiment_train_data = cv.transform(sentiment_trainC).toarray()\n",
        "cv_sentiment_test_data = cv.transform(sentiment_testC).toarray()\n",
        "xTrain_sentiment, xTest_sentiment, yTrain_sentiment, yTest_sentiment = extract_features(cv_sentiment_train_data, yTrain_sentimentC, cv_sentiment_test_data, yTest_sentimentC)\n",
        "nbmodel3 = MultinomialNB(alpha=best_alpha)\n",
        "lrmodel3 = LogisticRegression(C=0.5, max_iter=550, multi_class='multinomial', n_jobs=-1)\n",
        "\n",
        "lrmodel3.fit(xTrain_sentiment,  yTrain_sentiment)\n",
        "acc3=evaluate_acc(lrmodel3.predict(xTrain_sentiment),  yTrain_sentiment)\n",
        "acc3test = evaluate_acc(lrmodel3.predict(xTest_sentiment),  yTest_sentiment)\n",
        "\n",
        "nbmodel3.fit(xTrain_sentiment,  yTrain_sentiment)\n",
        "acc4 = evaluate_acc(nbmodel3.predict(xTrain_sentiment),  yTrain_sentiment)\n",
        "acc4test = evaluate_acc(nbmodel3.predict(xTest_sentiment),  yTest_sentiment)\n",
        "\n",
        "print()\n",
        "print('Training accuracy LR with Count = ', acc3)\n",
        "print('Test accuracy LR with Count = ', acc3test)\n",
        "print('Traing NB with Count = ', acc4)\n",
        "print('Test accuracy NB with Count = ', acc4test)"
      ]
    },
    {
      "cell_type": "markdown",
      "metadata": {
        "id": "0wiKVM5GtHBG"
      },
      "source": [
        "####**3.4.2 The effect of min_df on accuracy**"
      ]
    },
    {
      "cell_type": "code",
      "execution_count": null,
      "metadata": {
        "id": "_9T5lAXOsDzK"
      },
      "outputs": [],
      "source": [
        "from sklearn.feature_extraction.text import TfidfVectorizer\n",
        "import matplotlib.pyplot as plt\n",
        "def n_grams(train, test):\n",
        "\n",
        "  nbTrain = []\n",
        "  nbTest = []\n",
        "\n",
        "  logTrain = []\n",
        "  logTest = []\n",
        "\n",
        "  df = [1, 2, 3, 4, 5, 6, 7]\n",
        "\n",
        "  for num in df:\n",
        "    tfid_vect_sentiment = TfidfVectorizer(analyzer = \"word\", max_features=10000, min_df=num)\n",
        "    xTrain_sentiment = tfid_vect_sentiment.fit_transform(train).toarray()\n",
        "\n",
        "    vocab_sentiment = tfid_vect_sentiment.vocabulary_\n",
        "    tfid_vect2_sentiment = TfidfVectorizer(vocabulary=vocab_sentiment)\n",
        "    xTest_sentiment = tfid_vect2_sentiment.fit_transform(test).toarray()\n",
        "\n",
        "    yTrain_sentiment = sentiment_train.label\n",
        "    yTest_sentiment = sentiment_test.label\n",
        "    xTrain_sentiment, xTest_sentiment, yTrain_sentiment, yTest_sentiment= extract_features(xTrain_sentiment, yTrain_sentiment, xTest_sentiment, yTest_sentiment)\n",
        "    nbmodel2 = MultinomialNB(alpha=best_alpha)\n",
        "    lrmodel2 = LogisticRegression(C=0.5, max_iter=550, multi_class='multinomial', n_jobs=-1)\n",
        "\n",
        "    lrmodel2.fit(xTrain_sentiment, yTrain_sentiment)\n",
        "    acc2 = evaluate_acc(lrmodel2.predict(xTrain_sentiment),  yTrain_sentiment)\n",
        "    logTrain.append(acc2)\n",
        "    acc2test = evaluate_acc(lrmodel2.predict(xTest_sentiment),  yTest_sentiment)\n",
        "    logTest.append(acc2test)\n",
        "\n",
        "    nbmodel2.fit(xTrain_sentiment,  yTrain_sentiment)\n",
        "    acc3 = evaluate_acc(nbmodel2.predict(xTrain_sentiment),  yTrain_sentiment)\n",
        "    nbTrain.append(acc3)\n",
        "    acc3test = evaluate_acc(nbmodel2.predict(xTest_sentiment),  yTest_sentiment)\n",
        "    nbTest.append(acc3test)\n",
        "\n",
        "    print()\n",
        "    print('min_df = ', num)\n",
        "    print('Training accuracy LR with TF-IDF = ', acc2)\n",
        "    print('Test accuracy LR with TF-IDF = ', acc2test)\n",
        "    print('Traing NB with TF-IDF = ', acc3)\n",
        "    print('Test accuracy NB with TF-IDF = ', acc3test)\n",
        "    print()\n",
        "\n",
        "  print(\"----------Naive Bayes-----------\")\n",
        "  plt.plot(df, nbTrain , '-', label='train NB')\n",
        "  plt.plot(df, nbTest , '-', label='test NB')\n",
        "  plt.plot(df, logTrain , '-', label='train LR')\n",
        "  plt.plot(df, logTest , '-', label='test LR')\n",
        "  plt.legend()\n",
        "  plt.xlabel('n-grams number')\n",
        "  plt.ylabel('accuracy')\n",
        "  plt.show() "
      ]
    },
    {
      "cell_type": "code",
      "source": [
        ""
      ],
      "metadata": {
        "id": "pBm3_Uir4ze4"
      },
      "execution_count": null,
      "outputs": []
    },
    {
      "cell_type": "code",
      "execution_count": null,
      "metadata": {
        "id": "OlzWY6E8tDK2",
        "colab": {
          "base_uri": "https://localhost:8080/",
          "height": 1000
        },
        "outputId": "86aeb3b0-e746-4eee-9b5c-3c5cf30b00e8"
      },
      "outputs": [
        {
          "output_type": "stream",
          "name": "stdout",
          "text": [
            "[(0, 9944), (1, 9944)]\n",
            "New dataset shape:  (19888, 7729)\n",
            "Original amount of features:  10000\n",
            "Current amount of features:  7729\n",
            "Features reduscted:  2271\n",
            "\n",
            "min_df =  1\n",
            "Training accuracy LR with TF-IDF =  0.8726870474658085\n",
            "Test accuracy LR with TF-IDF =  0.7604456824512534\n",
            "Traing NB with TF-IDF =  0.8622787610619469\n",
            "Test accuracy NB with TF-IDF =  0.7855153203342619\n",
            "\n",
            "[(0, 9944), (1, 9944)]\n",
            "New dataset shape:  (19888, 7367)\n",
            "Original amount of features:  8811\n",
            "Current amount of features:  7367\n",
            "Features reduscted:  1444\n",
            "\n",
            "min_df =  2\n",
            "Training accuracy LR with TF-IDF =  0.8682119871279164\n",
            "Test accuracy LR with TF-IDF =  0.7576601671309192\n",
            "Traing NB with TF-IDF =  0.8544851166532582\n",
            "Test accuracy NB with TF-IDF =  0.7799442896935933\n",
            "\n",
            "[(0, 9944), (1, 9944)]\n",
            "New dataset shape:  (19888, 5622)\n",
            "Original amount of features:  5782\n",
            "Current amount of features:  5622\n",
            "Features reduscted:  160\n",
            "\n",
            "min_df =  3\n",
            "Training accuracy LR with TF-IDF =  0.8511665325824618\n",
            "Test accuracy LR with TF-IDF =  0.766016713091922\n",
            "Traing NB with TF-IDF =  0.8275341914722446\n",
            "Test accuracy NB with TF-IDF =  0.766016713091922\n",
            "\n",
            "[(0, 9944), (1, 9944)]\n",
            "New dataset shape:  (19888, 4399)\n",
            "Original amount of features:  4438\n",
            "Current amount of features:  4399\n",
            "Features reduscted:  39\n",
            "\n",
            "min_df =  4\n",
            "Training accuracy LR with TF-IDF =  0.8384452936444087\n",
            "Test accuracy LR with TF-IDF =  0.7771587743732591\n",
            "Traing NB with TF-IDF =  0.8134553499597748\n",
            "Test accuracy NB with TF-IDF =  0.7715877437325905\n",
            "\n",
            "[(0, 9944), (1, 9944)]\n",
            "New dataset shape:  (19888, 3674)\n",
            "Original amount of features:  3696\n",
            "Current amount of features:  3674\n",
            "Features reduscted:  22\n",
            "\n",
            "min_df =  5\n",
            "Training accuracy LR with TF-IDF =  0.8311041834271923\n",
            "Test accuracy LR with TF-IDF =  0.7855153203342619\n",
            "Traing NB with TF-IDF =  0.8047063555913113\n",
            "Test accuracy NB with TF-IDF =  0.7799442896935933\n",
            "\n",
            "[(0, 9944), (1, 9944)]\n",
            "New dataset shape:  (19888, 3144)\n",
            "Original amount of features:  3151\n",
            "Current amount of features:  3144\n",
            "Features reduscted:  7\n",
            "\n",
            "min_df =  6\n",
            "Training accuracy LR with TF-IDF =  0.8243161705551086\n",
            "Test accuracy LR with TF-IDF =  0.7883008356545961\n",
            "Traing NB with TF-IDF =  0.7992256637168141\n",
            "Test accuracy NB with TF-IDF =  0.7883008356545961\n",
            "\n",
            "[(0, 9944), (1, 9944)]\n",
            "New dataset shape:  (19888, 2779)\n",
            "Original amount of features:  2790\n",
            "Current amount of features:  2779\n",
            "Features reduscted:  11\n",
            "\n",
            "min_df =  7\n",
            "Training accuracy LR with TF-IDF =  0.8186343523732904\n",
            "Test accuracy LR with TF-IDF =  0.7715877437325905\n",
            "Traing NB with TF-IDF =  0.7948511665325825\n",
            "Test accuracy NB with TF-IDF =  0.7771587743732591\n",
            "\n",
            "----------Naive Bayes-----------\n"
          ]
        },
        {
          "output_type": "display_data",
          "data": {
            "image/png": "[encoded data removed]",
            "text/plain": [
              "<Figure size 432x288 with 1 Axes>"
            ]
          },
          "metadata": {
            "needs_background": "light"
          }
        }
      ],
      "source": [
        "train = sentiment_trainC\n",
        "test = sentiment_testC\n",
        "n_grams(train, test)"
      ]
    },
    {
      "cell_type": "markdown",
      "metadata": {
        "id": "mii2zo3stLhp"
      },
      "source": [
        "####**3.4.3 SVM**"
      ]
    },
    {
      "cell_type": "code",
      "execution_count": null,
      "metadata": {
        "id": "nzXilVMD3mP_"
      },
      "outputs": [],
      "source": [
        "gs_SVM_linear = SVC(kernel='linear')\n",
        "gridSearch_cross_validation(gs_SVM_linear, xTrain_sentiment, yTrain_sentiment)"
      ]
    },
    {
      "cell_type": "markdown",
      "metadata": {
        "id": "YFQ2Antv41ul"
      },
      "source": [
        "The best c value for Linear SVM is **1.0**\n",
        "\n",
        "This produced a best prediction accuracy of **70.0%**"
      ]
    },
    {
      "cell_type": "code",
      "execution_count": null,
      "metadata": {
        "id": "mSM-6bzV1P2d"
      },
      "outputs": [],
      "source": [
        "from sklearn.svm import SVC\n",
        "\n",
        "svclassifier = SVC(kernel='linear', C=1)\n",
        "svclassifier.fit(xTrain_sentiment, yTrain_sentiment)\n",
        "y_pred = svclassifier.predict(xTest_sentiment)\n",
        "acc1 = evaluate_acc(y_pred,  yTest_sentiment)\n",
        "print(acc1)\n",
        "c_list_svm_linear, acc_list_svm_linear = compare_c_acc(xTrain_sentiment, yTrain_sentiment, xTest_sentiment, yTest_sentiment, svclassifier)"
      ]
    },
    {
      "cell_type": "code",
      "execution_count": null,
      "metadata": {
        "id": "pG_mnEyH5P6o"
      },
      "outputs": [],
      "source": [
        "gs_SVM_poly = SVC(kernel='poly')\n",
        "gridSearch_cross_validation(gs_SVM_poly, xTrain_sentiment, yTrain_sentiment)"
      ]
    },
    {
      "cell_type": "markdown",
      "metadata": {
        "id": "gwMGG7jb5gkY"
      },
      "source": [
        "The best c value for Poly SVM is **10.0**\n",
        "\n",
        "This produced a best prediction accuracy of **63.0%**"
      ]
    },
    {
      "cell_type": "code",
      "execution_count": null,
      "metadata": {
        "id": "iITImpbf3q6I"
      },
      "outputs": [],
      "source": [
        "svclassifier = SVC(kernel='poly', C=10)\n",
        "svclassifier.fit(xTrain_sentiment, yTrain_sentiment)\n",
        "y_pred = svclassifier.predict(xTest_sentiment)\n",
        "acc2 = evaluate_acc(y_pred,  yTest_sentiment)\n",
        "print(acc2)\n",
        "c_list_svm_poly, acc_list_svm_poly = compare_c_acc(xTrain_sentiment, yTrain_sentiment, xTest_sentiment, yTest_sentiment, svclassifier)"
      ]
    },
    {
      "cell_type": "code",
      "execution_count": null,
      "metadata": {
        "id": "BHVpxG6K5agb"
      },
      "outputs": [],
      "source": [
        "gs_SVM_rbf = SVC(kernel='rbf')\n",
        "gridSearch_cross_validation(gs_SVM_rbf, xTrain_sentiment, yTrain_sentiment)"
      ]
    },
    {
      "cell_type": "markdown",
      "metadata": {
        "id": "FM84AcHs5lNw"
      },
      "source": [
        "The best c value for Linear SVM is **5**\n",
        "\n",
        "This produced a best prediction accuracy of **70.0%**"
      ]
    },
    {
      "cell_type": "code",
      "execution_count": null,
      "metadata": {
        "id": "mfMLCtS63lZg"
      },
      "outputs": [],
      "source": [
        "svclassifier = SVC(kernel='rbf', C=5)\n",
        "svclassifier.fit(xTrain_sentiment, yTrain_sentiment)\n",
        "y_pred = svclassifier.predict(xTest_sentiment)\n",
        "acc3 = evaluate_acc(y_pred,  yTest_sentiment)\n",
        "print(acc3)\n",
        "c_list_svm_rbf, acc_list_svm_rbf = compare_c_acc(xTrain_sentiment, yTrain_sentiment, xTest_sentiment, yTest_sentiment, svclassifier)"
      ]
    },
    {
      "cell_type": "code",
      "execution_count": null,
      "metadata": {
        "id": "Y7Kq8-4_88zb"
      },
      "outputs": [],
      "source": [
        "plt.plot(c_list_lr, acc_list_lr, label =\"Testing accuracy Logistic Regression\")\n",
        "plt.plot(c_list_svm_linear, acc_list_svm_linear, label =\"Testing accuracy SVM linear\")\n",
        "plt.plot(c_list_svm_poly, acc_list_svm_poly, label =\"Testing accuracy SVM Poly\")\n",
        "plt.plot(c_list_svm_rbf, acc_list_svm_rbf, label =\"Testing accuracy SVM rbf\")\n",
        "\n",
        "plt.xlabel('C Value')\n",
        "plt.ylabel('Accuracy')\n",
        "plt.title(\"Accuracy vs. C Value\")\n",
        "plt.legend()\n",
        "plt.figure()"
      ]
    }
  ],
  "metadata": {
    "colab": {
      "collapsed_sections": [],
      "machine_shape": "hm",
      "name": "Sentiment_COMP 551 A2.ipynb",
      "provenance": []
    },
    "kernelspec": {
      "display_name": "Python 3",
      "name": "python3"
    },
    "language_info": {
      "name": "python"
    }
  },
  "nbformat": 4,
  "nbformat_minor": 0
}