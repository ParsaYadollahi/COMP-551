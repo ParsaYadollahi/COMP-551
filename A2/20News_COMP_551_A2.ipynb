{
  "nbformat": 4,
  "nbformat_minor": 0,
  "metadata": {
    "colab": {
      "name": "20News - COMP 551 A2.ipynb",
      "provenance": [],
      "collapsed_sections": [],
      "machine_shape": "hm"
    },
    "kernelspec": {
      "name": "python3",
      "display_name": "Python 3"
    },
    "language_info": {
      "name": "python"
    }
  },
  "cells": [
    {
      "cell_type": "markdown",
      "source": [
        "# Comp551 Mini-Project 2 - 20 News Dataset"
      ],
      "metadata": {
        "id": "LziEosN-I1_s"
      }
    },
    {
      "cell_type": "markdown",
      "source": [
        "# **1. Acquire, preprocess, and analyze the data**"
      ],
      "metadata": {
        "id": "JesF-Hi0I8UB"
      }
    },
    {
      "cell_type": "code",
      "source": [
        "import pandas as pd\n",
        "import numpy as np\n",
        "# Set the seed for reproducibility (initializes the random number generator)\n",
        "np.random.seed(500)"
      ],
      "metadata": {
        "id": "lD_OylPhDQP7"
      },
      "execution_count": 7,
      "outputs": []
    },
    {
      "cell_type": "markdown",
      "source": [
        "### **1.1 Prep work: Downloading necessary files and remove unneeded columns**\n"
      ],
      "metadata": {
        "id": "2S1p8DJlJAaQ"
      }
    },
    {
      "cell_type": "markdown",
      "source": [
        "#### **1.1.1 Download and import data**"
      ],
      "metadata": {
        "id": "bhusbkQgG-gX"
      }
    },
    {
      "cell_type": "markdown",
      "source": [
        "Load the 20 news groups data from sklearn"
      ],
      "metadata": {
        "id": "Kp_1POxoFdMx"
      }
    },
    {
      "cell_type": "code",
      "source": [
        "from sklearn.datasets import fetch_20newsgroups\n",
        "\n",
        "#Use the default train subset (subset=‘train’, and remove=([‘headers’, ‘footers’, ‘quotes’]) in sklearn.datasets) to train the models\n",
        "twenty_train = fetch_20newsgroups(subset='train', remove=('headers', 'footers', 'quotes'))\n",
        "twenty_test = fetch_20newsgroups(subset='test', remove=('headers', 'footers', 'quotes'))\n",
        "\n",
        "news_group = twenty_train['target_names']\n"
      ],
      "metadata": {
        "id": "tMVToKWqFcnz"
      },
      "execution_count": 8,
      "outputs": []
    },
    {
      "cell_type": "markdown",
      "source": [
        "#### **1.1.2 Convert to dataframe**"
      ],
      "metadata": {
        "id": "axDBVJlsHKat"
      }
    },
    {
      "cell_type": "code",
      "source": [
        "# convert to panda dataframe for preprocessing\n",
        "twenty_train = pd.DataFrame({'text': twenty_train.data, 'target': twenty_train.target})\n",
        "print(twenty_train.shape)\n",
        "twenty_test = pd.DataFrame({'text': twenty_test.data, 'target': twenty_test.target})\n",
        "print(twenty_test.shape)\n",
        "twenty_train.rename(columns = {'target' : 'label'}, inplace = True)\n",
        "twenty_test.rename(columns = {'target' : 'label'}, inplace = True)\n",
        "display(twenty_train.head())\n",
        "display(twenty_test.head())"
      ],
      "metadata": {
        "colab": {
          "base_uri": "https://localhost:8080/",
          "height": 431
        },
        "id": "uhJelEsHHJ8z",
        "outputId": "9c920fc4-66c0-4de1-ade9-7028df3158f0"
      },
      "execution_count": 9,
      "outputs": [
        {
          "output_type": "stream",
          "name": "stdout",
          "text": [
            "(11314, 2)\n",
            "(7532, 2)\n"
          ]
        },
        {
          "output_type": "display_data",
          "data": {
            "text/html": [
              "\n",
              "  <div id=\"df-e48b5df0-db2e-4cc5-934d-324340b0c705\">\n",
              "    <div class=\"colab-df-container\">\n",
              "      <div>\n",
              "<style scoped>\n",
              "    .dataframe tbody tr th:only-of-type {\n",
              "        vertical-align: middle;\n",
              "    }\n",
              "\n",
              "    .dataframe tbody tr th {\n",
              "        vertical-align: top;\n",
              "    }\n",
              "\n",
              "    .dataframe thead th {\n",
              "        text-align: right;\n",
              "    }\n",
              "</style>\n",
              "<table border=\"1\" class=\"dataframe\">\n",
              "  <thead>\n",
              "    <tr style=\"text-align: right;\">\n",
              "      <th></th>\n",
              "      <th>text</th>\n",
              "      <th>label</th>\n",
              "    </tr>\n",
              "  </thead>\n",
              "  <tbody>\n",
              "    <tr>\n",
              "      <th>0</th>\n",
              "      <td>I was wondering if anyone out there could enli...</td>\n",
              "      <td>7</td>\n",
              "    </tr>\n",
              "    <tr>\n",
              "      <th>1</th>\n",
              "      <td>A fair number of brave souls who upgraded thei...</td>\n",
              "      <td>4</td>\n",
              "    </tr>\n",
              "    <tr>\n",
              "      <th>2</th>\n",
              "      <td>well folks, my mac plus finally gave up the gh...</td>\n",
              "      <td>4</td>\n",
              "    </tr>\n",
              "    <tr>\n",
              "      <th>3</th>\n",
              "      <td>\\nDo you have Weitek's address/phone number?  ...</td>\n",
              "      <td>1</td>\n",
              "    </tr>\n",
              "    <tr>\n",
              "      <th>4</th>\n",
              "      <td>From article &lt;C5owCB.n3p@world.std.com&gt;, by to...</td>\n",
              "      <td>14</td>\n",
              "    </tr>\n",
              "  </tbody>\n",
              "</table>\n",
              "</div>\n",
              "      <button class=\"colab-df-convert\" onclick=\"convertToInteractive('df-e48b5df0-db2e-4cc5-934d-324340b0c705')\"\n",
              "              title=\"Convert this dataframe to an interactive table.\"\n",
              "              style=\"display:none;\">\n",
              "        \n",
              "  <svg xmlns=\"http://www.w3.org/2000/svg\" height=\"24px\"viewBox=\"0 0 24 24\"\n",
              "       width=\"24px\">\n",
              "    <path d=\"M0 0h24v24H0V0z\" fill=\"none\"/>\n",
              "    <path d=\"M18.56 5.44l.94 2.06.94-2.06 2.06-.94-2.06-.94-.94-2.06-.94 2.06-2.06.94zm-11 1L8.5 8.5l.94-2.06 2.06-.94-2.06-.94L8.5 2.5l-.94 2.06-2.06.94zm10 10l.94 2.06.94-2.06 2.06-.94-2.06-.94-.94-2.06-.94 2.06-2.06.94z\"/><path d=\"M17.41 7.96l-1.37-1.37c-.4-.4-.92-.59-1.43-.59-.52 0-1.04.2-1.43.59L10.3 9.45l-7.72 7.72c-.78.78-.78 2.05 0 2.83L4 21.41c.39.39.9.59 1.41.59.51 0 1.02-.2 1.41-.59l7.78-7.78 2.81-2.81c.8-.78.8-2.07 0-2.86zM5.41 20L4 18.59l7.72-7.72 1.47 1.35L5.41 20z\"/>\n",
              "  </svg>\n",
              "      </button>\n",
              "      \n",
              "  <style>\n",
              "    .colab-df-container {\n",
              "      display:flex;\n",
              "      flex-wrap:wrap;\n",
              "      gap: 12px;\n",
              "    }\n",
              "\n",
              "    .colab-df-convert {\n",
              "      background-color: #E8F0FE;\n",
              "      border: none;\n",
              "      border-radius: 50%;\n",
              "      cursor: pointer;\n",
              "      display: none;\n",
              "      fill: #1967D2;\n",
              "      height: 32px;\n",
              "      padding: 0 0 0 0;\n",
              "      width: 32px;\n",
              "    }\n",
              "\n",
              "    .colab-df-convert:hover {\n",
              "      background-color: #E2EBFA;\n",
              "      box-shadow: 0px 1px 2px rgba(60, 64, 67, 0.3), 0px 1px 3px 1px rgba(60, 64, 67, 0.15);\n",
              "      fill: #174EA6;\n",
              "    }\n",
              "\n",
              "    [theme=dark] .colab-df-convert {\n",
              "      background-color: #3B4455;\n",
              "      fill: #D2E3FC;\n",
              "    }\n",
              "\n",
              "    [theme=dark] .colab-df-convert:hover {\n",
              "      background-color: #434B5C;\n",
              "      box-shadow: 0px 1px 3px 1px rgba(0, 0, 0, 0.15);\n",
              "      filter: drop-shadow(0px 1px 2px rgba(0, 0, 0, 0.3));\n",
              "      fill: #FFFFFF;\n",
              "    }\n",
              "  </style>\n",
              "\n",
              "      <script>\n",
              "        const buttonEl =\n",
              "          document.querySelector('#df-e48b5df0-db2e-4cc5-934d-324340b0c705 button.colab-df-convert');\n",
              "        buttonEl.style.display =\n",
              "          google.colab.kernel.accessAllowed ? 'block' : 'none';\n",
              "\n",
              "        async function convertToInteractive(key) {\n",
              "          const element = document.querySelector('#df-e48b5df0-db2e-4cc5-934d-324340b0c705');\n",
              "          const dataTable =\n",
              "            await google.colab.kernel.invokeFunction('convertToInteractive',\n",
              "                                                     [key], {});\n",
              "          if (!dataTable) return;\n",
              "\n",
              "          const docLinkHtml = 'Like what you see? Visit the ' +\n",
              "            '<a target=\"_blank\" href=https://colab.research.google.com/notebooks/data_table.ipynb>data table notebook</a>'\n",
              "            + ' to learn more about interactive tables.';\n",
              "          element.innerHTML = '';\n",
              "          dataTable['output_type'] = 'display_data';\n",
              "          await google.colab.output.renderOutput(dataTable, element);\n",
              "          const docLink = document.createElement('div');\n",
              "          docLink.innerHTML = docLinkHtml;\n",
              "          element.appendChild(docLink);\n",
              "        }\n",
              "      </script>\n",
              "    </div>\n",
              "  </div>\n",
              "  "
            ],
            "text/plain": [
              "                                                text  label\n",
              "0  I was wondering if anyone out there could enli...      7\n",
              "1  A fair number of brave souls who upgraded thei...      4\n",
              "2  well folks, my mac plus finally gave up the gh...      4\n",
              "3  \\nDo you have Weitek's address/phone number?  ...      1\n",
              "4  From article <C5owCB.n3p@world.std.com>, by to...     14"
            ]
          },
          "metadata": {}
        },
        {
          "output_type": "display_data",
          "data": {
            "text/html": [
              "\n",
              "  <div id=\"df-118002f5-56a9-4605-987a-d497b0f7a6ad\">\n",
              "    <div class=\"colab-df-container\">\n",
              "      <div>\n",
              "<style scoped>\n",
              "    .dataframe tbody tr th:only-of-type {\n",
              "        vertical-align: middle;\n",
              "    }\n",
              "\n",
              "    .dataframe tbody tr th {\n",
              "        vertical-align: top;\n",
              "    }\n",
              "\n",
              "    .dataframe thead th {\n",
              "        text-align: right;\n",
              "    }\n",
              "</style>\n",
              "<table border=\"1\" class=\"dataframe\">\n",
              "  <thead>\n",
              "    <tr style=\"text-align: right;\">\n",
              "      <th></th>\n",
              "      <th>text</th>\n",
              "      <th>label</th>\n",
              "    </tr>\n",
              "  </thead>\n",
              "  <tbody>\n",
              "    <tr>\n",
              "      <th>0</th>\n",
              "      <td>I am a little confused on all of the models of...</td>\n",
              "      <td>7</td>\n",
              "    </tr>\n",
              "    <tr>\n",
              "      <th>1</th>\n",
              "      <td>I'm not familiar at all with the format of the...</td>\n",
              "      <td>5</td>\n",
              "    </tr>\n",
              "    <tr>\n",
              "      <th>2</th>\n",
              "      <td>\\nIn a word, yes.\\n</td>\n",
              "      <td>0</td>\n",
              "    </tr>\n",
              "    <tr>\n",
              "      <th>3</th>\n",
              "      <td>\\nThey were attacking the Iraqis to drive them...</td>\n",
              "      <td>17</td>\n",
              "    </tr>\n",
              "    <tr>\n",
              "      <th>4</th>\n",
              "      <td>\\nI've just spent two solid months arguing tha...</td>\n",
              "      <td>19</td>\n",
              "    </tr>\n",
              "  </tbody>\n",
              "</table>\n",
              "</div>\n",
              "      <button class=\"colab-df-convert\" onclick=\"convertToInteractive('df-118002f5-56a9-4605-987a-d497b0f7a6ad')\"\n",
              "              title=\"Convert this dataframe to an interactive table.\"\n",
              "              style=\"display:none;\">\n",
              "        \n",
              "  <svg xmlns=\"http://www.w3.org/2000/svg\" height=\"24px\"viewBox=\"0 0 24 24\"\n",
              "       width=\"24px\">\n",
              "    <path d=\"M0 0h24v24H0V0z\" fill=\"none\"/>\n",
              "    <path d=\"M18.56 5.44l.94 2.06.94-2.06 2.06-.94-2.06-.94-.94-2.06-.94 2.06-2.06.94zm-11 1L8.5 8.5l.94-2.06 2.06-.94-2.06-.94L8.5 2.5l-.94 2.06-2.06.94zm10 10l.94 2.06.94-2.06 2.06-.94-2.06-.94-.94-2.06-.94 2.06-2.06.94z\"/><path d=\"M17.41 7.96l-1.37-1.37c-.4-.4-.92-.59-1.43-.59-.52 0-1.04.2-1.43.59L10.3 9.45l-7.72 7.72c-.78.78-.78 2.05 0 2.83L4 21.41c.39.39.9.59 1.41.59.51 0 1.02-.2 1.41-.59l7.78-7.78 2.81-2.81c.8-.78.8-2.07 0-2.86zM5.41 20L4 18.59l7.72-7.72 1.47 1.35L5.41 20z\"/>\n",
              "  </svg>\n",
              "      </button>\n",
              "      \n",
              "  <style>\n",
              "    .colab-df-container {\n",
              "      display:flex;\n",
              "      flex-wrap:wrap;\n",
              "      gap: 12px;\n",
              "    }\n",
              "\n",
              "    .colab-df-convert {\n",
              "      background-color: #E8F0FE;\n",
              "      border: none;\n",
              "      border-radius: 50%;\n",
              "      cursor: pointer;\n",
              "      display: none;\n",
              "      fill: #1967D2;\n",
              "      height: 32px;\n",
              "      padding: 0 0 0 0;\n",
              "      width: 32px;\n",
              "    }\n",
              "\n",
              "    .colab-df-convert:hover {\n",
              "      background-color: #E2EBFA;\n",
              "      box-shadow: 0px 1px 2px rgba(60, 64, 67, 0.3), 0px 1px 3px 1px rgba(60, 64, 67, 0.15);\n",
              "      fill: #174EA6;\n",
              "    }\n",
              "\n",
              "    [theme=dark] .colab-df-convert {\n",
              "      background-color: #3B4455;\n",
              "      fill: #D2E3FC;\n",
              "    }\n",
              "\n",
              "    [theme=dark] .colab-df-convert:hover {\n",
              "      background-color: #434B5C;\n",
              "      box-shadow: 0px 1px 3px 1px rgba(0, 0, 0, 0.15);\n",
              "      filter: drop-shadow(0px 1px 2px rgba(0, 0, 0, 0.3));\n",
              "      fill: #FFFFFF;\n",
              "    }\n",
              "  </style>\n",
              "\n",
              "      <script>\n",
              "        const buttonEl =\n",
              "          document.querySelector('#df-118002f5-56a9-4605-987a-d497b0f7a6ad button.colab-df-convert');\n",
              "        buttonEl.style.display =\n",
              "          google.colab.kernel.accessAllowed ? 'block' : 'none';\n",
              "\n",
              "        async function convertToInteractive(key) {\n",
              "          const element = document.querySelector('#df-118002f5-56a9-4605-987a-d497b0f7a6ad');\n",
              "          const dataTable =\n",
              "            await google.colab.kernel.invokeFunction('convertToInteractive',\n",
              "                                                     [key], {});\n",
              "          if (!dataTable) return;\n",
              "\n",
              "          const docLinkHtml = 'Like what you see? Visit the ' +\n",
              "            '<a target=\"_blank\" href=https://colab.research.google.com/notebooks/data_table.ipynb>data table notebook</a>'\n",
              "            + ' to learn more about interactive tables.';\n",
              "          element.innerHTML = '';\n",
              "          dataTable['output_type'] = 'display_data';\n",
              "          await google.colab.output.renderOutput(dataTable, element);\n",
              "          const docLink = document.createElement('div');\n",
              "          docLink.innerHTML = docLinkHtml;\n",
              "          element.appendChild(docLink);\n",
              "        }\n",
              "      </script>\n",
              "    </div>\n",
              "  </div>\n",
              "  "
            ],
            "text/plain": [
              "                                                text  label\n",
              "0  I am a little confused on all of the models of...      7\n",
              "1  I'm not familiar at all with the format of the...      5\n",
              "2                                \\nIn a word, yes.\\n      0\n",
              "3  \\nThey were attacking the Iraqis to drive them...     17\n",
              "4  \\nI've just spent two solid months arguing tha...     19"
            ]
          },
          "metadata": {}
        }
      ]
    },
    {
      "cell_type": "markdown",
      "source": [
        "### **1.2 Data Preprocessing**"
      ],
      "metadata": {
        "id": "5W2cA-aYYl-c"
      }
    },
    {
      "cell_type": "markdown",
      "source": [
        "#### **1.2.1 Import relevant packages**"
      ],
      "metadata": {
        "id": "h7Dmc1QRfxDX"
      }
    },
    {
      "cell_type": "code",
      "source": [
        "from nltk import pos_tag, word_tokenize          \n",
        "from nltk.corpus import stopwords\n",
        "from nltk.stem import PorterStemmer, WordNetLemmatizer\n",
        "from nltk.tokenize import RegexpTokenizer\n",
        "import nltk\n",
        "import seaborn as sns\n",
        "import matplotlib.pyplot as plt\n",
        "\n",
        "nltk.download('stopwords')\n",
        "nltk.download('wordnet')\n",
        "nltk.download('averaged_perceptron_tagger')"
      ],
      "metadata": {
        "id": "gtiu4bjtYwUe",
        "colab": {
          "base_uri": "https://localhost:8080/"
        },
        "outputId": "b1acb0e5-66d2-4954-ed06-1031eb72816e"
      },
      "execution_count": 10,
      "outputs": [
        {
          "output_type": "stream",
          "name": "stdout",
          "text": [
            "[nltk_data] Downloading package stopwords to /root/nltk_data...\n",
            "[nltk_data]   Package stopwords is already up-to-date!\n",
            "[nltk_data] Downloading package wordnet to /root/nltk_data...\n",
            "[nltk_data]   Package wordnet is already up-to-date!\n",
            "[nltk_data] Downloading package averaged_perceptron_tagger to\n",
            "[nltk_data]     /root/nltk_data...\n",
            "[nltk_data]   Package averaged_perceptron_tagger is already up-to-\n",
            "[nltk_data]       date!\n"
          ]
        },
        {
          "output_type": "execute_result",
          "data": {
            "text/plain": [
              "True"
            ]
          },
          "metadata": {},
          "execution_count": 10
        }
      ]
    },
    {
      "cell_type": "code",
      "source": [
        "tokenizer = RegexpTokenizer(r'\\w+')\n",
        "lemmatizer = WordNetLemmatizer()\n",
        "stemmer = PorterStemmer()\n",
        "stop_words = stopwords.words('english')"
      ],
      "metadata": {
        "id": "qG9l6uiPY-Vc"
      },
      "execution_count": 11,
      "outputs": []
    },
    {
      "cell_type": "markdown",
      "source": [
        "#### **1.2.2 Begin prepreprocessing data**"
      ],
      "metadata": {
        "id": "8W37Tv7vfsXJ"
      }
    },
    {
      "cell_type": "code",
      "source": [
        "import re\n",
        "import string\n",
        "\n",
        "# Lemmatize and Tokenize\n",
        "def lemmatize_text(text):\n",
        "    return ' '.join([lemmatizer.lemmatize(word) for word in tokenizer.tokenize(text.lower())])\n",
        "\n",
        "# Remove stopwords\n",
        "def remove_stopwords(text):\n",
        "  return ' '.join([word for word in text.split() if word not in (stop_words)])\n",
        "\n",
        "# Remove numbers\n",
        "alphanumeric = lambda x: re.sub(r\"\"\"\\w*\\d\\w*\"\"\", ' ', x)\n",
        "strip = lambda x: \" \".join(str.rsplit(x))\n",
        "\n",
        "# Remove punctuations\n",
        "def remove_punctuations(text):\n",
        "    for punctuation in string.punctuation:\n",
        "        text = text.replace(punctuation, '')\n",
        "    return text\n",
        "\n",
        "twenty_train['text'] = twenty_train['text'].apply(lemmatize_text)\n",
        "twenty_train['text'] = twenty_train['text'].apply(remove_stopwords)\n",
        "twenty_train['text'] = twenty_train.text.map(alphanumeric).map(strip)\n",
        "twenty_train['text'] = twenty_train['text'].apply(remove_punctuations)\n",
        "\n",
        "twenty_test['text'] = twenty_test['text'].apply(lemmatize_text)\n",
        "twenty_test['text'] = twenty_test['text'].apply(remove_stopwords)\n",
        "twenty_test['text'] = twenty_test.text.map(alphanumeric).map(strip)\n",
        "twenty_test['text'] = twenty_test['text'].apply(remove_punctuations)"
      ],
      "metadata": {
        "id": "iuIa6sQqcEZV"
      },
      "execution_count": 12,
      "outputs": []
    },
    {
      "cell_type": "markdown",
      "source": [
        "### **1.3 Statistical Analysis**"
      ],
      "metadata": {
        "id": "ViW9u4W048Fy"
      }
    },
    {
      "cell_type": "markdown",
      "source": [
        "#### **1.3.1 Positive + negative distributions**"
      ],
      "metadata": {
        "id": "Xa3G3MYpHh4b"
      }
    },
    {
      "cell_type": "code",
      "source": [
        "# Finding frequency of each category\n",
        "label, frequency = np.unique(twenty_train.label, return_counts=True)\n",
        "\n",
        "# Training data class distribution\n",
        "fig=plt.figure(figsize=(10, 5), dpi= 80, facecolor='w', edgecolor='k')\n",
        "plt.bar(np.array(news_group),frequency)\n",
        "plt.xticks(rotation=90)\n",
        "plt.title('Training Dataset - Frequency Distribution of 20 Newsgroups')\n",
        "plt.xlabel('News Group')\n",
        "plt.ylabel('Frequency')\n",
        "plt.show()\n",
        "plt.figure()"
      ],
      "metadata": {
        "id": "pypooH5SME6h",
        "colab": {
          "base_uri": "https://localhost:8080/",
          "height": 559
        },
        "outputId": "2f068223-2384-4c15-cf25-667a6c32e3f1"
      },
      "execution_count": 13,
      "outputs": [
        {
          "output_type": "display_data",
          "data": {
            "image/png": "[encoded data removed]",
            "text/plain": [
              "<Figure size 800x400 with 1 Axes>"
            ]
          },
          "metadata": {}
        },
        {
          "output_type": "execute_result",
          "data": {
            "text/plain": [
              "<Figure size 432x288 with 0 Axes>"
            ]
          },
          "metadata": {},
          "execution_count": 13
        },
        {
          "output_type": "display_data",
          "data": {
            "text/plain": [
              "<Figure size 432x288 with 0 Axes>"
            ]
          },
          "metadata": {}
        }
      ]
    },
    {
      "cell_type": "code",
      "source": [
        "# Finding frequency of each category\n",
        "label, frequency = np.unique(twenty_test.label, return_counts=True)\n",
        "\n",
        "# Training data class distribution\n",
        "fig=plt.figure(figsize=(10, 5), dpi= 80, facecolor='w', edgecolor='k')\n",
        "plt.bar(np.array(news_group),frequency)\n",
        "plt.xticks(rotation=90)\n",
        "plt.title('Testing Dataset - Frequency Distribution of 20 Newsgroups')\n",
        "plt.xlabel('News Group')\n",
        "plt.ylabel('Frequency')\n",
        "plt.show()\n",
        "plt.figure()"
      ],
      "metadata": {
        "id": "pd3W7i8IPW7n",
        "colab": {
          "base_uri": "https://localhost:8080/",
          "height": 559
        },
        "outputId": "54e42651-3c75-4e7b-aa82-ff546bd42e07"
      },
      "execution_count": 14,
      "outputs": [
        {
          "output_type": "display_data",
          "data": {
            "image/png": "[encoded data removed]",
            "text/plain": [
              "<Figure size 800x400 with 1 Axes>"
            ]
          },
          "metadata": {}
        },
        {
          "output_type": "execute_result",
          "data": {
            "text/plain": [
              "<Figure size 432x288 with 0 Axes>"
            ]
          },
          "metadata": {},
          "execution_count": 14
        },
        {
          "output_type": "display_data",
          "data": {
            "text/plain": [
              "<Figure size 432x288 with 0 Axes>"
            ]
          },
          "metadata": {}
        }
      ]
    },
    {
      "cell_type": "markdown",
      "source": [
        "### **1.4 Extracting Features**"
      ],
      "metadata": {
        "id": "MOk2PDhSTgSS"
      }
    },
    {
      "cell_type": "code",
      "source": [
        "from sklearn.feature_extraction.text import TfidfVectorizer\n"
      ],
      "metadata": {
        "id": "TKhVZ24pl2UG"
      },
      "execution_count": 15,
      "outputs": []
    },
    {
      "cell_type": "code",
      "source": [
        "tfid_vect_twenty = TfidfVectorizer(stop_words='english', min_df=3)\n",
        "yTrain_twenty = twenty_train.label\n",
        "yTest_twenty = twenty_test.label\n",
        "# Vectorize the datasets and use a common vocab to transform the test df\n",
        "X_tfidf_train = tfid_vect_twenty.fit_transform(twenty_train['text'])\n",
        "X_tfidf_test = tfid_vect_twenty.transform(twenty_test['text'])"
      ],
      "metadata": {
        "id": "wWCsl5RQUgas"
      },
      "execution_count": 16,
      "outputs": []
    },
    {
      "cell_type": "code",
      "source": [
        "xTrain_20newsOriginal, yTrain_20newsOriginal, xTest_20newsOriginal, yTest_20newsOriginal = X_tfidf_train.toarray(), yTrain_twenty, X_tfidf_test.toarray(), yTest_twenty"
      ],
      "metadata": {
        "id": "vUauUyI7FM43"
      },
      "execution_count": 40,
      "outputs": []
    },
    {
      "cell_type": "code",
      "source": [
        "from sklearn.calibration import CalibratedClassifierCV\n",
        "from imblearn.under_sampling import InstanceHardnessThreshold\n",
        "from sklearn.svm import LinearSVC\n",
        "from collections import Counter\n",
        "from sklearn.preprocessing import MinMaxScaler\n",
        "from sklearn.feature_selection import SelectFromModel\n",
        "\n",
        "def extract_features(xTrain, yTrain, xTest, yTest):\n",
        "  iht = InstanceHardnessThreshold(random_state=0, n_jobs=11,\n",
        "                                  estimator=CalibratedClassifierCV(\n",
        "                                      LinearSVC(C=100, penalty='l1', max_iter=500, dual=False)\n",
        "                                  ))\n",
        "  X_resampled, y_resampled = iht.fit_resample(xTrain, yTrain)\n",
        "  print(sorted(Counter(y_resampled).items()))\n",
        "\n",
        "\n",
        "  X, yTrain = X_resampled, y_resampled\n",
        "  X_test, y_test = xTest, yTest\n",
        "\n",
        "  scaler = MinMaxScaler()\n",
        "  X_norm = scaler.fit_transform(X.toarray())\n",
        "  X_test_norm = scaler.transform(X_test.toarray())\n",
        "\n",
        "  xTrainOriginal = X_norm\n",
        "  yTrainOriginal = y_resampled\n",
        "  xTestOriginal = X_test_norm\n",
        "  yTestOriginal = yTest\n",
        "\n",
        "\n",
        "\n",
        "  lsvc = LinearSVC(C=100, penalty='l1', max_iter=500, dual=False)\n",
        "  lsvc.fit(X_resampled, y_resampled)\n",
        "  fs = SelectFromModel(lsvc, prefit=True)\n",
        "  X_selected = fs.transform(X_norm)\n",
        "  X_test_selected = fs.transform(X_test_norm)\n",
        "\n",
        "\n",
        "  xTrain = X_selected\n",
        "  xTest = X_test_selected\n",
        "\n",
        "\n",
        "  print(\"New dataset shape: \", xTrain.shape)\n",
        "  print(\"Original amount of features: \", xTrainOriginal.shape[1])\n",
        "  print(\"Current amount of features: \", xTrain.shape[1])\n",
        "  print(\"Features reducted: \",xTrainOriginal.shape[1] - xTrain.shape[1])\n",
        "\n",
        "  return xTrain, xTest, yTrain, yTest"
      ],
      "metadata": {
        "id": "tH47UX5cgak7"
      },
      "execution_count": 17,
      "outputs": []
    },
    {
      "cell_type": "code",
      "source": [
        "xTrain_20newsReduced, xTest_20newsReduced, yTrain_20newsReduced, yTest_20newsReduced = extract_features(X_tfidf_train, yTrain_twenty, X_tfidf_test, yTest_twenty)"
      ],
      "metadata": {
        "colab": {
          "base_uri": "https://localhost:8080/"
        },
        "id": "cKY-MqYGiHnO",
        "outputId": "c6d216df-3ede-4308-b621-cdb0edf1446e"
      },
      "execution_count": 18,
      "outputs": [
        {
          "output_type": "stream",
          "name": "stdout",
          "text": [
            "[(0, 377), (1, 377), (2, 377), (3, 377), (4, 377), (5, 377), (6, 377), (7, 377), (8, 377), (9, 377), (10, 377), (11, 377), (12, 377), (13, 377), (14, 377), (15, 377), (16, 377), (17, 377), (18, 377), (19, 377)]\n"
          ]
        },
        {
          "output_type": "stream",
          "name": "stderr",
          "text": [
            "/usr/local/lib/python3.7/dist-packages/sklearn/svm/_base.py:1208: ConvergenceWarning: Liblinear failed to converge, increase the number of iterations.\n",
            "  ConvergenceWarning,\n"
          ]
        },
        {
          "output_type": "stream",
          "name": "stdout",
          "text": [
            "New dataset shape:  (7540, 4375)\n",
            "Original amount of features:  20609\n",
            "Current amount of features:  4375\n",
            "Features reducted:  16234\n"
          ]
        }
      ]
    },
    {
      "cell_type": "code",
      "source": [
        "print(tfid_vect_twenty.get_feature_names_out())"
      ],
      "metadata": {
        "colab": {
          "base_uri": "https://localhost:8080/"
        },
        "id": "thr-9Jy9HlyR",
        "outputId": "da3dbbdd-9382-4cda-e0bb-76f1b5a8f610"
      },
      "execution_count": 19,
      "outputs": [
        {
          "output_type": "stream",
          "name": "stdout",
          "text": [
            "['aa' 'aaa' 'aamir' ... 'zy' 'zyxel' 'zz']\n"
          ]
        }
      ]
    },
    {
      "cell_type": "markdown",
      "source": [
        "# **2. Implement the Models**"
      ],
      "metadata": {
        "id": "exJ0a4J_5Ux_"
      }
    },
    {
      "cell_type": "code",
      "source": [
        "import numpy as np\n",
        "import itertools\n",
        "%matplotlib inline\n",
        "import matplotlib.pyplot as plt"
      ],
      "metadata": {
        "id": "y31Cf-U95pfO"
      },
      "execution_count": 20,
      "outputs": []
    },
    {
      "cell_type": "markdown",
      "source": [
        "### **2.1 Naive Bayes Model**\n",
        "\n",
        "\n"
      ],
      "metadata": {
        "id": "duzvy-zh5e5H"
      }
    },
    {
      "cell_type": "code",
      "source": [
        "class MultinomialNB(object):\n",
        "    # set alpha to be 1 by default\n",
        "    def __init__(self, alpha):\n",
        "        self.alpha = alpha\n",
        "\n",
        "    def fit(self, X, y):\n",
        "        # count number of data points or samples\n",
        "        count_sample = X.shape[0]\n",
        "        # Check each class and count \n",
        "        classes = [[x for x, t in zip(X, y) if t == c] for c in np.unique(y)]\n",
        "        # Calculate the prior\n",
        "        self.class_log_prior_ = [np.log(len(i) / count_sample) for i in classes]\n",
        "        # calculate count of each word for each class and add self.alpha as smoothing\n",
        "        count = np.array([np.array(i).sum(axis=0) for i in classes]) + self.alpha\n",
        "        # calculate the log probability of each word\n",
        "        self.feature_log_prob_ = np.log(count / count.sum(axis=1)[np.newaxis].T)\n",
        "        return self\n",
        "\n",
        "    def predict_log_proba(self, X):\n",
        "        return [(self.feature_log_prob_ * x).sum(axis=1) + self.class_log_prior_\n",
        "                for x in X]\n",
        "\n",
        "    def predict(self, X):\n",
        "        # maximize probability\n",
        "        return np.argmax(self.predict_log_proba(X), axis=1)"
      ],
      "metadata": {
        "id": "GNpIWQKTH7DM"
      },
      "execution_count": 21,
      "outputs": []
    },
    {
      "cell_type": "markdown",
      "source": [
        "### **2.2 K-Fold Cross Validation**"
      ],
      "metadata": {
        "id": "1_DVcbbq6Gqe"
      }
    },
    {
      "cell_type": "code",
      "source": [
        "def cross_validate(n, n_folds=10):\n",
        "    #get the number of data samples in each split\n",
        "    n_val = n // n_folds\n",
        "    inds = np.random.permutation(n)\n",
        "    inds = []\n",
        "    for f in range(n_folds):\n",
        "        tr_inds = []\n",
        "        #get the validation indexes\n",
        "        val_inds = list(range(f * n_val, (f+1)*n_val))\n",
        "        #get the train indexes\n",
        "        if f > 0:\n",
        "            tr_inds = list(range(f*n_val))\n",
        "        if f < n_folds - 1:\n",
        "            tr_inds = tr_inds + list(range((f+1)*n_val, n))\n",
        "        #The yield statement suspends function’s execution and sends a value back to the caller\n",
        "        #but retains enough state information to enable function to resume where it is left off\n",
        "        yield tr_inds, val_inds\n",
        "\n",
        "# evaluate accuracy\n",
        "def evaluate_acc(y_pred, y_true):\n",
        "    # returns the mean accuracy\n",
        "    count = 0\n",
        "    for i in range(len(y_pred)):\n",
        "        if y_pred.tolist()[i] == y_true.tolist()[i]:\n",
        "            count+=1\n",
        "    return count/len(y_pred) \n",
        "\n",
        "def kfoldCV(x, y, model, n_folds):\n",
        "  result = 0\n",
        "  total_x = np.array(x).shape[0]\n",
        "  for f, (tr, val) in enumerate(cross_validate(total_x, n_folds)):\n",
        "    x_train = np.array(x)[tr]\n",
        "    y_train = np.array(y)[tr]\n",
        "    x_val = np.array(x)[val]\n",
        "    y_val = np.array(y)[val]\n",
        "    model = model.fit(x_train, y_train)\n",
        "    y_pred = model.predict(x_val)\n",
        "    result += evaluate_acc(y_pred, y_val)\n",
        "  return result / n_folds\n",
        "    "
      ],
      "metadata": {
        "id": "KIfeBUstBq3B"
      },
      "execution_count": 22,
      "outputs": []
    },
    {
      "cell_type": "markdown",
      "source": [
        "###**2.3 Hyper-parameter tuning and model selection**"
      ],
      "metadata": {
        "id": "y2t22G0VIE9S"
      }
    },
    {
      "cell_type": "code",
      "source": [
        "alpha = np.array([0.001, 0.005, 0.01, 0.05, 0.1, 0.25, 0.5, 0.75, 1, 1.5, 2.5, 3, 4, 5, 7, 10], dtype=np.float_)\n",
        "accuracy_list= []\n",
        "max_acc = 0\n",
        "best_alpha = 0\n",
        "for a in alpha:\n",
        "  model = MultinomialNB(alpha=a)\n",
        "  acc = kfoldCV(xTrain_20newsReduced, yTrain_20newsReduced, model, 5)\n",
        "  if acc > max_acc:\n",
        "    max_acc = acc\n",
        "    best_alpha = a\n",
        "  accuracy_list.append(acc)\n",
        "  \n",
        "\n",
        "# plot the results as \n",
        "data = {'alpha': alpha, '5 fold accuracy': accuracy_list}\n",
        "print(\"Best Alpha Value:\", best_alpha)\n",
        "print(\"Highest accuracy:\", max_acc)\n",
        "plt.plot(alpha,accuracy_list)\n",
        "plt.ylabel('Accuracy Across 5 Folds')\n",
        "plt.xlabel('Alpha')\n",
        "plt.title('Variation of 5 Fold Cross Validation Acc as a Function of Alpha')"
      ],
      "metadata": {
        "id": "4BN3egGc6Jna",
        "colab": {
          "base_uri": "https://localhost:8080/",
          "height": 348
        },
        "outputId": "4687512e-8b8b-406a-d961-ce999977100a"
      },
      "execution_count": 23,
      "outputs": [
        {
          "output_type": "stream",
          "name": "stdout",
          "text": [
            "Best Alpha Value: 0.001\n",
            "Highest accuracy: 0.09814323607427056\n"
          ]
        },
        {
          "output_type": "execute_result",
          "data": {
            "text/plain": [
              "Text(0.5, 1.0, 'Variation of 5 Fold Cross Validation Acc as a Function of Alpha')"
            ]
          },
          "metadata": {},
          "execution_count": 23
        },
        {
          "output_type": "display_data",
          "data": {
            "image/png": "[encoded data removed]",
            "text/plain": [
              "<Figure size 432x288 with 1 Axes>"
            ]
          },
          "metadata": {
            "needs_background": "light"
          }
        }
      ]
    },
    {
      "cell_type": "code",
      "source": [
        "best_model = MultinomialNB(alpha=best_alpha)\n",
        "best_model.fit(xTrain_20newsReduced, yTrain_20newsReduced)\n",
        "print(\"Training Accuracy with best model:\", evaluate_acc(best_model.predict(xTrain_20newsReduced), yTrain_20newsReduced))\n",
        "print(\"Test accuracy with best model:\", evaluate_acc(best_model.predict(xTest_20newsReduced), yTest_20newsReduced))"
      ],
      "metadata": {
        "colab": {
          "base_uri": "https://localhost:8080/"
        },
        "id": "VQ0adpKDPzy0",
        "outputId": "3e14a6c4-a734-4bc1-e1d0-b0909387495b"
      },
      "execution_count": 24,
      "outputs": [
        {
          "output_type": "stream",
          "name": "stdout",
          "text": [
            "Training Accuracy with best model: 0.9907161803713528\n",
            "Test accuracy with best model: 0.6178969729155602\n"
          ]
        }
      ]
    },
    {
      "cell_type": "markdown",
      "source": [
        "The best alpha value for Multinomial Naive Bayes is **0.1**\n",
        "\n",
        "This produced a best prediction accuracy of **76.87%**"
      ],
      "metadata": {
        "id": "Q5o1lPC6KZnK"
      }
    },
    {
      "cell_type": "code",
      "source": [
        "from sklearn.model_selection import GridSearchCV\n",
        "from sklearn.linear_model import LogisticRegression\n",
        "# softmax regression \n",
        "model = LogisticRegression(multi_class = 'multinomial', solver = 'lbfgs', max_iter=550, n_jobs=-1)\n",
        "param_grid = {'C': [0.01, 0.05, 0.1, 0.25, 0.5, 0.75, 1, 2.5, 3, 5, 7, 10, 12, 15, 17, 20, 30, 40, 50, 60, 65, 70, 75, 80, 90, 100]}\n",
        "grid = GridSearchCV(model, param_grid, cv=5)\n",
        "grid.fit(xTrain_20newsReduced, yTrain_20newsReduced)\n",
        "print(\"Best cross-validation score: {:.2f}\".format(grid.best_score_))\n",
        "print(\"Best parameters: \", grid.best_params_)\n",
        "print(grid.best_estimator_)"
      ],
      "metadata": {
        "id": "YK8oLTx22K9U",
        "colab": {
          "base_uri": "https://localhost:8080/"
        },
        "outputId": "d7346396-82f9-416c-e910-93be76ec8bff"
      },
      "execution_count": 25,
      "outputs": [
        {
          "output_type": "stream",
          "name": "stdout",
          "text": [
            "Best cross-validation score: 0.92\n",
            "Best parameters:  {'C': 12}\n",
            "LogisticRegression(C=12, max_iter=550, multi_class='multinomial', n_jobs=-1)\n"
          ]
        }
      ]
    },
    {
      "cell_type": "markdown",
      "source": [
        "The best C value for Logistic Regression is **75**\n",
        "\n",
        "This produced a best prediction accuracy of **96%**"
      ],
      "metadata": {
        "id": "ra_q8o2eLIM9"
      }
    },
    {
      "cell_type": "markdown",
      "source": [
        "# **3. Run Experiments**"
      ],
      "metadata": {
        "id": "IBYNBLWvQE_N"
      }
    },
    {
      "cell_type": "markdown",
      "source": [
        "###**3.1 Performing Naive Bayes and Logistic Regression Classification**"
      ],
      "metadata": {
        "id": "JGEmfEqvE3TV"
      }
    },
    {
      "cell_type": "markdown",
      "source": [
        "**Define best hyperparameters**"
      ],
      "metadata": {
        "id": "swK0P_uOZIKk"
      }
    },
    {
      "cell_type": "code",
      "source": [
        "best_alpha =best_alpha\n",
        "best_C = grid.best_params_['C']"
      ],
      "metadata": {
        "id": "vbPV-_rJZGxg"
      },
      "execution_count": 45,
      "outputs": []
    },
    {
      "cell_type": "markdown",
      "source": [
        "### **3.1.1 Naive Bayes**"
      ],
      "metadata": {
        "id": "KmuRq0b8ZKGL"
      }
    },
    {
      "cell_type": "code",
      "source": [
        "best_modelNB = MultinomialNB(alpha=best_alpha)\n",
        "best_modelNB.fit(xTrain_20newsReduced, yTrain_20newsReduced)\n",
        "trainingAcc_NB = evaluate_acc(best_modelNB.predict(xTrain_20newsReduced),  yTrain_20newsReduced)\n",
        "print(\"Training Accuracy with NB best model:\", trainingAcc_NB)\n",
        "testingAcc_NB = evaluate_acc(best_modelNB.predict(xTest_20newsReduced), yTest_20newsReduced)\n",
        "print(\"Test Accuracy with best NB model:\", testingAcc_NB)"
      ],
      "metadata": {
        "id": "mv_QBjKqZSNB",
        "colab": {
          "base_uri": "https://localhost:8080/"
        },
        "outputId": "73ff82fd-ecc7-480c-ba50-74b507303ede"
      },
      "execution_count": 34,
      "outputs": [
        {
          "output_type": "stream",
          "name": "stdout",
          "text": [
            "Training Accuracy with NB best model: 0.9872679045092838\n",
            "Test Accuracy with best NB model: 0.63688263409453\n"
          ]
        }
      ]
    },
    {
      "cell_type": "markdown",
      "source": [
        "#### **3.1.2 Logistic Regression**"
      ],
      "metadata": {
        "id": "q8whuB_9ZOTt"
      }
    },
    {
      "cell_type": "code",
      "source": [
        "best_modelLG = grid.best_estimator_\n",
        "best_modelLG.fit(xTrain_20newsReduced, yTrain_20newsReduced)\n",
        "trainingAcc_LG = evaluate_acc(best_modelLG.predict(xTrain_20newsReduced),  yTrain_20newsReduced)\n",
        "print(\"Training Accuracy with best LR model:\", trainingAcc_LG)\n",
        "testingAcc_LG = evaluate_acc(best_modelLG.predict(xTest_20newsReduced), yTest_20newsReduced)\n",
        "print(\"Test accuracy with best LR model:\", testingAcc_LG)"
      ],
      "metadata": {
        "id": "la4Ye3j1ZUmq",
        "colab": {
          "base_uri": "https://localhost:8080/"
        },
        "outputId": "21a6162b-8788-4f30-cf71-fc7d1cb20172"
      },
      "execution_count": 35,
      "outputs": [
        {
          "output_type": "stream",
          "name": "stdout",
          "text": [
            "Training Accuracy with best LR model: 1.0\n",
            "Test accuracy with best LR model: 0.6206850770047796\n"
          ]
        }
      ]
    },
    {
      "cell_type": "markdown",
      "source": [
        "### **3.2 Compare performance of models**"
      ],
      "metadata": {
        "id": "UgZKz2W0IT7e"
      }
    },
    {
      "cell_type": "code",
      "source": [
        "from prettytable import PrettyTable\n",
        "resultTable = PrettyTable()\n",
        "resultTable.title = \"Best performance of MultinomialNB and Logistic Regression on both testing datasets\"\n",
        "resultTable.field_names = [\" \", \"20 news group\"]\n",
        "\n",
        "\n",
        "resultTable.add_row(['MultinomialNB - Training Accuracy', trainingAcc_NB])\n",
        "resultTable.add_row(['MultinomialNB - Testing Accuracy', testingAcc_NB])\n",
        "resultTable.add_row(['Logistic Regression - Training Accuracy', trainingAcc_LG])\n",
        "resultTable.add_row(['Logistic Regression - Testing Accuracy', testingAcc_LG])\n",
        "print(resultTable)\n"
      ],
      "metadata": {
        "id": "Me0uuN8cSAnx",
        "colab": {
          "base_uri": "https://localhost:8080/"
        },
        "outputId": "779545d5-1f77-4c2b-cdef-e742fd217fb5"
      },
      "execution_count": 36,
      "outputs": [
        {
          "output_type": "stream",
          "name": "stdout",
          "text": [
            "+------------------------------------------------------------------------------------+\n",
            "| Best performance of MultinomialNB and Logistic Regression on both testing datasets |\n",
            "+--------------------------------------------------------+---------------------------+\n",
            "|                                                        |       20 news group       |\n",
            "+--------------------------------------------------------+---------------------------+\n",
            "|           MultinomialNB - Training Accuracy            |     0.9872679045092838    |\n",
            "|            MultinomialNB - Testing Accuracy            |      0.63688263409453     |\n",
            "|        Logistic Regression - Training Accuracy         |            1.0            |\n",
            "|         Logistic Regression - Testing Accuracy         |     0.6206850770047796    |\n",
            "+--------------------------------------------------------+---------------------------+\n"
          ]
        }
      ]
    },
    {
      "cell_type": "markdown",
      "source": [
        "### **3.3 Comparing accuracy as function of dataset size**"
      ],
      "metadata": {
        "id": "rvNl-oh9ZcPI"
      }
    },
    {
      "cell_type": "markdown",
      "source": [
        "#### **3.3.1 Naive Bayes**"
      ],
      "metadata": {
        "id": "bX1sWpdOZfrB"
      }
    },
    {
      "cell_type": "code",
      "source": [
        "from sklearn.model_selection import train_test_split\n",
        "training_size_list = [0.2, 0.4, 0.6, 0.8]\n",
        "\n",
        "def compare_naive_bayes_acc(x_train, y_train, x_test, y_test):\n",
        "  acc_list = []\n",
        " \n",
        "  for training_size in training_size_list:\n",
        "    part_x_train, part_x_test, part_y_train, part_y_test = \\\n",
        "      train_test_split(\n",
        "          x_train,\n",
        "          y_train,\n",
        "          train_size=training_size,\n",
        "          random_state=42,\n",
        "          shuffle=True\n",
        "        )\n",
        "    \n",
        "    model = MultinomialNB(best_alpha)\n",
        "    model.fit(part_x_train, part_y_train)\n",
        "\n",
        "    y_pred = model.predict(x_test)\n",
        "    acc = evaluate_acc(y_pred, y_test)\n",
        "    acc_list.append(acc)\n",
        "    print(\"Acc with training_size (%s) = %s\\n\" % (training_size, acc))\n",
        "  best_acc  = max(acc_list)\n",
        "  idx = acc_list.index(best_acc)\n",
        "\n",
        "  print(\"Best accuracy training_size with %s = %s\\n\" % (training_size_list[idx], best_acc))\n",
        "  return acc_list"
      ],
      "metadata": {
        "id": "A2srvLjsZe30"
      },
      "execution_count": 31,
      "outputs": []
    },
    {
      "cell_type": "code",
      "source": [
        "NB_accList_test1 = compare_naive_bayes_acc(xTrain_20newsReduced, yTrain_20newsReduced, xTest_20newsReduced, yTest_20newsReduced)\n",
        "# plot \n",
        "plt.plot(training_size_list, NB_accList_test1, label =\"Testing accuracy\")\n",
        "\n",
        "plt.xlabel('Training dataset size')\n",
        "plt.ylabel('Accuracy')\n",
        "plt.title(\"Naive Bayes Accuracy - Feature Reduction\")\n",
        "plt.legend()\n",
        "plt.figure()\n"
      ],
      "metadata": {
        "id": "8vqKq7K1dqiy",
        "colab": {
          "base_uri": "https://localhost:8080/",
          "height": 509
        },
        "outputId": "37538421-fc40-4a7f-edf5-893762337bc5"
      },
      "execution_count": 37,
      "outputs": [
        {
          "output_type": "stream",
          "name": "stdout",
          "text": [
            "Acc with training_size (0.2) = 0.5735528412108338\n",
            "\n",
            "Acc with training_size (0.4) = 0.6060807222517259\n",
            "\n",
            "Acc with training_size (0.6) = 0.627854487519915\n",
            "\n",
            "Acc with training_size (0.8) = 0.6380775358470526\n",
            "\n",
            "Best accuracy training_size with 0.8 = 0.6380775358470526\n",
            "\n"
          ]
        },
        {
          "output_type": "execute_result",
          "data": {
            "text/plain": [
              "<Figure size 432x288 with 0 Axes>"
            ]
          },
          "metadata": {},
          "execution_count": 37
        },
        {
          "output_type": "display_data",
          "data": {
            "image/png": "[encoded data removed]",
            "text/plain": [
              "<Figure size 432x288 with 1 Axes>"
            ]
          },
          "metadata": {
            "needs_background": "light"
          }
        },
        {
          "output_type": "display_data",
          "data": {
            "text/plain": [
              "<Figure size 432x288 with 0 Axes>"
            ]
          },
          "metadata": {}
        }
      ]
    },
    {
      "cell_type": "code",
      "source": [
        "NB_accList_test2 = compare_naive_bayes_acc(xTrain_20newsOriginal, yTrain_20newsOriginal, xTest_20newsOriginal, yTest_20newsOriginal)\n",
        "\n",
        "# plot \n",
        "plt.plot(training_size_list, NB_accList_test2, label =\"Test\")\n",
        "\n",
        "plt.xlabel('Training dataset size')\n",
        "plt.ylabel('Accuracy')\n",
        "plt.title(\"Naive Bayes Accuracy - Without Feature Reduction\")\n",
        "plt.legend()\n",
        "plt.figure()\n"
      ],
      "metadata": {
        "id": "SVU9wGOfd1pt",
        "colab": {
          "base_uri": "https://localhost:8080/",
          "height": 509
        },
        "outputId": "13547ee1-d4f6-4f2a-b0bb-8de712a09d25"
      },
      "execution_count": 41,
      "outputs": [
        {
          "output_type": "stream",
          "name": "stdout",
          "text": [
            "Acc with training_size (0.2) = 0.6161710037174721\n",
            "\n",
            "Acc with training_size (0.4) = 0.6603823685608072\n",
            "\n",
            "Acc with training_size (0.6) = 0.6818906001062135\n",
            "\n",
            "Acc with training_size (0.8) = 0.6889272437599575\n",
            "\n",
            "Best accuracy training_size with 0.8 = 0.6889272437599575\n",
            "\n"
          ]
        },
        {
          "output_type": "execute_result",
          "data": {
            "text/plain": [
              "<Figure size 432x288 with 0 Axes>"
            ]
          },
          "metadata": {},
          "execution_count": 41
        },
        {
          "output_type": "display_data",
          "data": {
            "image/png": "[encoded data removed]",
            "text/plain": [
              "<Figure size 432x288 with 1 Axes>"
            ]
          },
          "metadata": {
            "needs_background": "light"
          }
        },
        {
          "output_type": "display_data",
          "data": {
            "text/plain": [
              "<Figure size 432x288 with 0 Axes>"
            ]
          },
          "metadata": {}
        }
      ]
    },
    {
      "cell_type": "markdown",
      "source": [
        "#### **3.3.2 Logistic Regression**"
      ],
      "metadata": {
        "id": "1JXEExnrZqkB"
      }
    },
    {
      "cell_type": "code",
      "source": [
        "from sklearn.linear_model import LogisticRegression\n",
        "from sklearn.metrics import accuracy_score\n",
        "from sklearn.model_selection import train_test_split\n",
        "from sklearn.exceptions import ConvergenceWarning\n",
        "from sklearn.feature_extraction.text import CountVectorizer\n",
        "import warnings\n",
        "from prettytable import PrettyTable\n",
        "\n",
        "warnings.simplefilter(\"ignore\", category=ConvergenceWarning)"
      ],
      "metadata": {
        "id": "EYIgVgIXZxIS"
      },
      "execution_count": 42,
      "outputs": []
    },
    {
      "cell_type": "code",
      "source": [
        "training_size_list = [0.2, 0.4, 0.6, 0.8]\n",
        "def compare_log_reg_acc(x_train, y_train, x_test, y_test):\n",
        "  acc_list = []\n",
        "  \n",
        "  for training_size in training_size_list:\n",
        "    # Use percentage of training and testing data\n",
        "    part_x_train, part_x_test, part_y_train, part_y_test = \\\n",
        "      train_test_split(\n",
        "          x_train,\n",
        "          y_train,\n",
        "          train_size=training_size,\n",
        "          random_state=42,\n",
        "          shuffle=True\n",
        "        )\n",
        "\n",
        "    lr = LogisticRegression(multi_class = 'multinomial', solver = 'lbfgs', C=best_C, max_iter=550, n_jobs=-1)\n",
        "    lr.fit(part_x_train, part_y_train)\n",
        "    y_hat = lr.predict(x_test)\n",
        "\n",
        "    acc = evaluate_acc(y_test, y_hat)\n",
        "    print(\"Testing accuracy training_size %s = %s\\n\" % (training_size, acc))\n",
        "    acc_list.append(acc)\n",
        "\n",
        "  best_acc  = max(acc_list)\n",
        "  idx = acc_list.index(best_acc)\n",
        "\n",
        "  print(\"Best testing accuracy training_size with %s = %s\\n\" % (training_size_list[idx], best_acc))\n",
        "  return acc_list\n",
        "\n",
        "   "
      ],
      "metadata": {
        "id": "KJBskY-lZpGR"
      },
      "execution_count": 43,
      "outputs": []
    },
    {
      "cell_type": "code",
      "source": [
        "LR_accList_test1 = compare_log_reg_acc(xTrain_20newsReduced, yTrain_20newsReduced, xTest_20newsReduced, yTest_20newsReduced)\n",
        "# plot \n",
        "plt.plot(training_size_list, LR_accList_test1, label =\"Test\")\n",
        "\n",
        "plt.xlabel('Training dataset size')\n",
        "plt.ylabel('Accuracy')\n",
        "plt.title(\"Softmax Regression Accuracy - Feature Reduction\")\n",
        "plt.legend()\n",
        "plt.figure()\n"
      ],
      "metadata": {
        "id": "6ICdHhXmZ5TJ",
        "colab": {
          "base_uri": "https://localhost:8080/",
          "height": 509
        },
        "outputId": "673b9f31-afaf-4632-ebba-dcec3f0c77b9"
      },
      "execution_count": 46,
      "outputs": [
        {
          "output_type": "stream",
          "name": "stdout",
          "text": [
            "Testing accuracy training_size 0.2 = 0.5469994689325545\n",
            "\n",
            "Testing accuracy training_size 0.4 = 0.5811205523101434\n",
            "\n",
            "Testing accuracy training_size 0.6 = 0.6051513542219862\n",
            "\n",
            "Testing accuracy training_size 0.8 = 0.6127190653212958\n",
            "\n",
            "Best testing accuracy training_size with 0.8 = 0.6127190653212958\n",
            "\n"
          ]
        },
        {
          "output_type": "execute_result",
          "data": {
            "text/plain": [
              "<Figure size 432x288 with 0 Axes>"
            ]
          },
          "metadata": {},
          "execution_count": 46
        },
        {
          "output_type": "display_data",
          "data": {
            "image/png": "[encoded data removed]",
            "text/plain": [
              "<Figure size 432x288 with 1 Axes>"
            ]
          },
          "metadata": {
            "needs_background": "light"
          }
        },
        {
          "output_type": "display_data",
          "data": {
            "text/plain": [
              "<Figure size 432x288 with 0 Axes>"
            ]
          },
          "metadata": {}
        }
      ]
    },
    {
      "cell_type": "code",
      "source": [
        "LR_accList_test2 = compare_log_reg_acc(xTrain_20newsOriginal, yTrain_20newsOriginal, xTest_20newsOriginal, yTest_20newsOriginal)\n",
        "# plot \n",
        "plt.plot(training_size_list, LR_accList_test2, label =\"Test\")\n",
        "\n",
        "plt.xlabel('Training dataset size')\n",
        "plt.ylabel('Accuracy')\n",
        "plt.title(\"Softmax Regression Accuracy - Without Feature Reduction\")\n",
        "plt.legend()\n",
        "plt.figure()"
      ],
      "metadata": {
        "id": "mvN_0LvaeHX-",
        "colab": {
          "base_uri": "https://localhost:8080/",
          "height": 509
        },
        "outputId": "5fe89fc6-3bea-47d6-d921-02d454b644f1"
      },
      "execution_count": 47,
      "outputs": [
        {
          "output_type": "stream",
          "name": "stdout",
          "text": [
            "Testing accuracy training_size 0.2 = 0.6190918746680828\n",
            "\n",
            "Testing accuracy training_size 0.4 = 0.6455124800849708\n",
            "\n",
            "Testing accuracy training_size 0.6 = 0.661311736590547\n",
            "\n",
            "Testing accuracy training_size 0.8 = 0.6686139139670738\n",
            "\n",
            "Best testing accuracy training_size with 0.8 = 0.6686139139670738\n",
            "\n"
          ]
        },
        {
          "output_type": "execute_result",
          "data": {
            "text/plain": [
              "<Figure size 432x288 with 0 Axes>"
            ]
          },
          "metadata": {},
          "execution_count": 47
        },
        {
          "output_type": "display_data",
          "data": {
            "image/png": "[encoded data removed]",
            "text/plain": [
              "<Figure size 432x288 with 1 Axes>"
            ]
          },
          "metadata": {
            "needs_background": "light"
          }
        },
        {
          "output_type": "display_data",
          "data": {
            "text/plain": [
              "<Figure size 432x288 with 0 Axes>"
            ]
          },
          "metadata": {}
        }
      ]
    },
    {
      "cell_type": "markdown",
      "source": [
        "#### **3.3.3 Summary**"
      ],
      "metadata": {
        "id": "ANNphRVTeTa8"
      }
    },
    {
      "cell_type": "code",
      "source": [
        "from prettytable import PrettyTable\n",
        "resultTable = PrettyTable()\n",
        "resultTable.title = \"Performance of NB and LR models as functions of dataset size\"\n",
        "resultTable.field_names = [\" \", \"Dataset Size\", \"With Feature Reduction\", \"Without Feature Reduction\"]\n",
        "\n",
        "for i, (NB_FS, NB_WFS) in enumerate(zip(NB_accList_test1, NB_accList_test2)):\n",
        "  resultTable.add_row(['Multinomial Naive Bayes', training_size_list[i], \"{:.2f}%\".format(NB_FS*100), \"{:.2f}%\".format(NB_WFS*100)])\n",
        "\n",
        "resultTable.add_row(['', '', '', ''])\n",
        "\n",
        "for i, (LR_FS, LR_WFS) in enumerate(zip(LR_accList_test1, LR_accList_test2)):\n",
        "  resultTable.add_row(['Logistic Regression', training_size_list[i], \"{:.2f}%\".format(LR_FS*100), \"{:.2f}%\".format(LR_WFS*100)])\n",
        "\n",
        "print(resultTable)"
      ],
      "metadata": {
        "id": "wQw7NHP3eVD3",
        "colab": {
          "base_uri": "https://localhost:8080/"
        },
        "outputId": "0c70b403-d5f0-4a01-d30e-0ad644666664"
      },
      "execution_count": 49,
      "outputs": [
        {
          "output_type": "stream",
          "name": "stdout",
          "text": [
            "+---------------------------------------------------------------------------------------------+\n",
            "|                 Performance of NB and LR models as functions of dataset size                |\n",
            "+-------------------------+--------------+------------------------+---------------------------+\n",
            "|                         | Dataset Size | With Feature Reduction | Without Feature Reduction |\n",
            "+-------------------------+--------------+------------------------+---------------------------+\n",
            "| Multinomial Naive Bayes |     0.2      |         57.36%         |           61.62%          |\n",
            "| Multinomial Naive Bayes |     0.4      |         60.61%         |           66.04%          |\n",
            "| Multinomial Naive Bayes |     0.6      |         62.79%         |           68.19%          |\n",
            "| Multinomial Naive Bayes |     0.8      |         63.81%         |           68.89%          |\n",
            "|                         |              |                        |                           |\n",
            "|   Logistic Regression   |     0.2      |         54.70%         |           61.91%          |\n",
            "|   Logistic Regression   |     0.4      |         58.11%         |           64.55%          |\n",
            "|   Logistic Regression   |     0.6      |         60.52%         |           66.13%          |\n",
            "|   Logistic Regression   |     0.8      |         61.27%         |           66.86%          |\n",
            "+-------------------------+--------------+------------------------+---------------------------+\n"
          ]
        }
      ]
    },
    {
      "cell_type": "markdown",
      "source": [
        "### **3.4 Creative Experiment**"
      ],
      "metadata": {
        "id": "sHQyX6ezfkLu"
      }
    },
    {
      "cell_type": "markdown",
      "source": [
        "####**3.4.1 Count Vectorizer vs TF-IDF Vectorizer**"
      ],
      "metadata": {
        "id": "uZMYvHZrfndU"
      }
    },
    {
      "cell_type": "code",
      "source": [
        "from sklearn.feature_extraction.text import TfidfVectorizer\n",
        "tfid_vect = TfidfVectorizer(analyzer = \"word\", max_features=10000, min_df=3)\n",
        "xTrain = tfid_vect_twenty.fit_transform(twenty_train['text'])\n",
        "xTest = tfid_vect_twenty.transform(twenty_test['text'])\n",
        "yTrain = twenty_train.label\n",
        "yTest = twenty_test.label\n",
        "yTrain = yTrain\n",
        "yTest = yTest\n",
        "xTrain, xTest, yTrain, yTest = extract_features(xTrain, yTrain, xTest, yTest)\n",
        "nbmodel2 = MultinomialNB(alpha=best_alpha)\n",
        "lrmodel2 = grid.best_estimator_\n",
        "\n",
        "lrmodel2.fit(xTrain, yTrain)\n",
        "acc2 = evaluate_acc(lrmodel2.predict(xTrain),  yTrain)\n",
        "acc2test = evaluate_acc(lrmodel2.predict(xTest),  yTest)\n",
        "\n",
        "nbmodel2.fit(xTrain,  yTrain)\n",
        "acc3 = evaluate_acc(nbmodel2.predict(xTrain),  yTrain)\n",
        "acc3test = evaluate_acc(nbmodel2.predict(xTest),  yTest)\n",
        "\n",
        "print()\n",
        "print('Training accuracy LR with TF-IDF = ', acc2)\n",
        "print('Test accuracy LR with TF-IDF = ', acc2test)\n",
        "print('Traing NB with TF-IDF = ', acc3)\n",
        "print('Test accuracy NB with TF-IDF = ', acc3test)"
      ],
      "metadata": {
        "colab": {
          "base_uri": "https://localhost:8080/"
        },
        "id": "p4i2nhGFG9sa",
        "outputId": "4aeb0204-4132-4412-add6-5a521d0719a7"
      },
      "execution_count": 53,
      "outputs": [
        {
          "output_type": "stream",
          "name": "stdout",
          "text": [
            "[(0, 377), (1, 377), (2, 377), (3, 377), (4, 377), (5, 377), (6, 377), (7, 377), (8, 377), (9, 377), (10, 377), (11, 377), (12, 377), (13, 377), (14, 377), (15, 377), (16, 377), (17, 377), (18, 377), (19, 377)]\n",
            "New dataset shape:  (7540, 4379)\n",
            "Original amount of features:  20609\n",
            "Current amount of features:  4379\n",
            "Features reducted:  16230\n",
            "\n",
            "Training accuracy LR with TF-IDF =  1.0\n",
            "Test accuracy LR with TF-IDF =  0.6196229421136484\n",
            "Traing NB with TF-IDF =  0.986737400530504\n",
            "Test accuracy NB with TF-IDF =  0.6400690387679235\n"
          ]
        }
      ]
    },
    {
      "cell_type": "code",
      "source": [
        "cv = CountVectorizer(min_df = 3)\n",
        "cv.fit(twenty_train['text'])\n",
        "cv_train_data = cv.transform( twenty_train['text'])\n",
        "cv_test_data = cv.transform( twenty_test['text'])\n",
        "yTrain = twenty_train.label\n",
        "yTest = twenty_test.label\n",
        "xTrain, xTest, yTrain, yTest = extract_features(cv_train_data, yTrain, cv_test_data, yTest)\n",
        "nbmodel3 = MultinomialNB(alpha=best_alpha)\n",
        "lrmodel3 = grid.best_estimator_\n",
        "\n",
        "lrmodel3.fit(xTrain,  yTrain)\n",
        "acc3=evaluate_acc(lrmodel3.predict(xTrain),  yTrain)\n",
        "acc3test = evaluate_acc(lrmodel3.predict(xTest),  yTest)\n",
        "\n",
        "nbmodel3.fit(xTrain,  yTrain)\n",
        "acc4 = evaluate_acc(nbmodel3.predict(xTrain),  yTrain)\n",
        "acc4test = evaluate_acc(nbmodel3.predict(xTest),  yTest)\n",
        "\n",
        "print()\n",
        "print('Training accuracy LR with Count = ', acc3)\n",
        "print('Test accuracy LR with Count = ', acc3test)\n",
        "print('Traing NB with Count = ', acc4)\n",
        "print('Test accuracy NB with Count = ', acc4test)"
      ],
      "metadata": {
        "colab": {
          "base_uri": "https://localhost:8080/"
        },
        "id": "et-CnqjvIrQU",
        "outputId": "618804f5-79d3-4457-ed70-7d22e0380b94"
      },
      "execution_count": 56,
      "outputs": [
        {
          "output_type": "stream",
          "name": "stdout",
          "text": [
            "[(0, 377), (1, 377), (2, 377), (3, 377), (4, 377), (5, 377), (6, 377), (7, 377), (8, 377), (9, 377), (10, 377), (11, 377), (12, 377), (13, 377), (14, 377), (15, 377), (16, 377), (17, 377), (18, 377), (19, 377)]\n",
            "New dataset shape:  (7540, 5933)\n",
            "Original amount of features:  20832\n",
            "Current amount of features:  5933\n",
            "Features reducted:  14899\n",
            "\n",
            "Training accuracy LR with Count =  0.9972148541114059\n",
            "Test accuracy LR with Count =  0.4920339883165162\n",
            "Traing NB with Count =  0.9531830238726791\n",
            "Test accuracy NB with Count =  0.554567180031864\n"
          ]
        }
      ]
    },
    {
      "cell_type": "markdown",
      "source": [
        "####**3.4.2 The effect of n-grams on accuracy**"
      ],
      "metadata": {
        "id": "rWa_LEpMJjlN"
      }
    },
    {
      "cell_type": "code",
      "source": [
        "from sklearn.feature_extraction.text import TfidfVectorizer\n",
        "import matplotlib.pyplot as plt\n",
        "def n_grams(train, test):\n",
        "\n",
        "  nbTrain = []\n",
        "  nbTest = []\n",
        "\n",
        "  logTrain = []\n",
        "  logTest = []\n",
        "\n",
        "  df = [1, 2, 3, 4, 5, 6, 7]\n",
        "\n",
        "  for num in df:\n",
        "    tfid_vect_sentiment = TfidfVectorizer(analyzer = \"word\", max_features=10000, min_df=num)\n",
        "    xTrain_sentiment = tfid_vect_sentiment.fit_transform(train)\n",
        "\n",
        "    vocab_sentiment = tfid_vect_sentiment.vocabulary_\n",
        "    tfid_vect2_sentiment = TfidfVectorizer(vocabulary=vocab_sentiment)\n",
        "    xTest_sentiment = tfid_vect2_sentiment.fit_transform(test)\n",
        "\n",
        "    yTrain_sentiment = twenty_train.label\n",
        "    yTest_sentiment = twenty_test.label\n",
        "    xTrain_sentiment, xTest_sentiment, yTrain_sentiment, yTest_sentiment= extract_features(xTrain_sentiment, yTrain_sentiment, xTest_sentiment, yTest_sentiment)\n",
        "    nbmodel2 = MultinomialNB(alpha=best_alpha)\n",
        "    lrmodel2 = grid.best_estimator_\n",
        "\n",
        "    lrmodel2.fit(xTrain_sentiment, yTrain_sentiment)\n",
        "    acc2 = evaluate_acc(lrmodel2.predict(xTrain_sentiment),  yTrain_sentiment)\n",
        "    logTrain.append(acc2)\n",
        "    acc2test = evaluate_acc(lrmodel2.predict(xTest_sentiment),  yTest_sentiment)\n",
        "    logTest.append(acc2test)\n",
        "\n",
        "    nbmodel2.fit(xTrain_sentiment,  yTrain_sentiment)\n",
        "    acc3 = evaluate_acc(nbmodel2.predict(xTrain_sentiment),  yTrain_sentiment)\n",
        "    nbTrain.append(acc3)\n",
        "    acc3test = evaluate_acc(nbmodel2.predict(xTest_sentiment),  yTest_sentiment)\n",
        "    nbTest.append(acc3test)\n",
        "\n",
        "    print()\n",
        "    print('Training accuracy LR with TF-IDF = ', acc2)\n",
        "    print('Test accuracy LR with TF-IDF = ', acc2test)\n",
        "    print('Traing NB with TF-IDF = ', acc3)\n",
        "    print('Test accuracy NB with TF-IDF = ', acc3test)\n",
        "    print()\n",
        "\n",
        "  print(\"----------Naive Bayes-----------\")\n",
        "  plt.plot(df, nbTrain , '-', label='train')\n",
        "  plt.plot(df, nbTest , '-', label='test')\n",
        "  plt.legend()\n",
        "  plt.xlabel('n-grams number')\n",
        "  plt.ylabel('accuracy')\n",
        "  plt.show() \n",
        "\n",
        "  print(\"----------Logistic Regression-----------\")\n",
        "  plt.plot(df, logTrain , '-', label='train')\n",
        "  plt.plot(df, logTest , '-', label='test')\n",
        "  plt.legend()\n",
        "  plt.xlabel('n-grams number')\n",
        "  plt.ylabel('accuracy')\n",
        "  plt.show() "
      ],
      "metadata": {
        "id": "jkVJA0UoJrY-"
      },
      "execution_count": 60,
      "outputs": []
    },
    {
      "cell_type": "code",
      "source": [
        "train = twenty_train['text']\n",
        "test = twenty_test['text']\n",
        "n_grams(train, test)"
      ],
      "metadata": {
        "colab": {
          "base_uri": "https://localhost:8080/",
          "height": 1000
        },
        "id": "lhxyZExiJtwg",
        "outputId": "b4752feb-837a-40be-ccbd-a1669845e565"
      },
      "execution_count": 61,
      "outputs": [
        {
          "output_type": "stream",
          "name": "stdout",
          "text": [
            "[(0, 377), (1, 377), (2, 377), (3, 377), (4, 377), (5, 377), (6, 377), (7, 377), (8, 377), (9, 377), (10, 377), (11, 377), (12, 377), (13, 377), (14, 377), (15, 377), (16, 377), (17, 377), (18, 377), (19, 377)]\n",
            "New dataset shape:  (7540, 4049)\n",
            "Original amount of features:  10000\n",
            "Current amount of features:  4049\n",
            "Features reducted:  5951\n",
            "\n",
            "Training accuracy LR with TF-IDF =  1.0\n",
            "Test accuracy LR with TF-IDF =  0.6046202867764207\n",
            "Traing NB with TF-IDF =  0.98342175066313\n",
            "Test accuracy NB with TF-IDF =  0.6275889537971322\n",
            "\n",
            "[(0, 377), (1, 377), (2, 377), (3, 377), (4, 377), (5, 377), (6, 377), (7, 377), (8, 377), (9, 377), (10, 377), (11, 377), (12, 377), (13, 377), (14, 377), (15, 377), (16, 377), (17, 377), (18, 377), (19, 377)]\n",
            "New dataset shape:  (7540, 3991)\n",
            "Original amount of features:  10000\n",
            "Current amount of features:  3991\n",
            "Features reducted:  6009\n",
            "\n",
            "Training accuracy LR with TF-IDF =  1.0\n",
            "Test accuracy LR with TF-IDF =  0.6056824216675518\n",
            "Traing NB with TF-IDF =  0.9830238726790451\n",
            "Test accuracy NB with TF-IDF =  0.6299787573021773\n",
            "\n",
            "[(0, 377), (1, 377), (2, 377), (3, 377), (4, 377), (5, 377), (6, 377), (7, 377), (8, 377), (9, 377), (10, 377), (11, 377), (12, 377), (13, 377), (14, 377), (15, 377), (16, 377), (17, 377), (18, 377), (19, 377)]\n",
            "New dataset shape:  (7540, 3976)\n",
            "Original amount of features:  10000\n",
            "Current amount of features:  3976\n",
            "Features reducted:  6024\n",
            "\n",
            "Training accuracy LR with TF-IDF =  1.0\n",
            "Test accuracy LR with TF-IDF =  0.6078066914498141\n",
            "Traing NB with TF-IDF =  0.9824933687002653\n",
            "Test accuracy NB with TF-IDF =  0.6298459904407859\n",
            "\n",
            "[(0, 377), (1, 377), (2, 377), (3, 377), (4, 377), (5, 377), (6, 377), (7, 377), (8, 377), (9, 377), (10, 377), (11, 377), (12, 377), (13, 377), (14, 377), (15, 377), (16, 377), (17, 377), (18, 377), (19, 377)]\n",
            "New dataset shape:  (7540, 4003)\n",
            "Original amount of features:  10000\n",
            "Current amount of features:  4003\n",
            "Features reducted:  5997\n",
            "\n",
            "Training accuracy LR with TF-IDF =  1.0\n",
            "Test accuracy LR with TF-IDF =  0.6095326606479022\n",
            "Traing NB with TF-IDF =  0.9838196286472148\n",
            "Test accuracy NB with TF-IDF =  0.6302442910249602\n",
            "\n",
            "[(0, 377), (1, 377), (2, 377), (3, 377), (4, 377), (5, 377), (6, 377), (7, 377), (8, 377), (9, 377), (10, 377), (11, 377), (12, 377), (13, 377), (14, 377), (15, 377), (16, 377), (17, 377), (18, 377), (19, 377)]\n",
            "New dataset shape:  (7540, 3967)\n",
            "Original amount of features:  10000\n",
            "Current amount of features:  3967\n",
            "Features reducted:  6033\n",
            "\n",
            "Training accuracy LR with TF-IDF =  1.0\n",
            "Test accuracy LR with TF-IDF =  0.6103292618162507\n",
            "Traing NB with TF-IDF =  0.9824933687002653\n",
            "Test accuracy NB with TF-IDF =  0.6327668613913967\n",
            "\n",
            "[(0, 377), (1, 377), (2, 377), (3, 377), (4, 377), (5, 377), (6, 377), (7, 377), (8, 377), (9, 377), (10, 377), (11, 377), (12, 377), (13, 377), (14, 377), (15, 377), (16, 377), (17, 377), (18, 377), (19, 377)]\n",
            "New dataset shape:  (7540, 3993)\n",
            "Original amount of features:  10000\n",
            "Current amount of features:  3993\n",
            "Features reducted:  6007\n",
            "\n",
            "Training accuracy LR with TF-IDF =  1.0\n",
            "Test accuracy LR with TF-IDF =  0.604753053637812\n",
            "Traing NB with TF-IDF =  0.983554376657825\n",
            "Test accuracy NB with TF-IDF =  0.6273234200743495\n",
            "\n",
            "[(0, 377), (1, 377), (2, 377), (3, 377), (4, 377), (5, 377), (6, 377), (7, 377), (8, 377), (9, 377), (10, 377), (11, 377), (12, 377), (13, 377), (14, 377), (15, 377), (16, 377), (17, 377), (18, 377), (19, 377)]\n",
            "New dataset shape:  (7540, 4022)\n",
            "Original amount of features:  10000\n",
            "Current amount of features:  4022\n",
            "Features reducted:  5978\n",
            "\n",
            "Training accuracy LR with TF-IDF =  1.0\n",
            "Test accuracy LR with TF-IDF =  0.6103292618162507\n",
            "Traing NB with TF-IDF =  0.9850132625994695\n",
            "Test accuracy NB with TF-IDF =  0.6346255974508762\n",
            "\n",
            "----------Naive Bayes-----------\n"
          ]
        },
        {
          "output_type": "display_data",
          "data": {
            "image/png": "[encoded data removed]",
            "text/plain": [
              "<Figure size 432x288 with 1 Axes>"
            ]
          },
          "metadata": {
            "needs_background": "light"
          }
        },
        {
          "output_type": "stream",
          "name": "stdout",
          "text": [
            "----------Logistic Regression-----------\n"
          ]
        },
        {
          "output_type": "display_data",
          "data": {
            "image/png": "[encoded data removed]",
            "text/plain": [
              "<Figure size 432x288 with 1 Axes>"
            ]
          },
          "metadata": {
            "needs_background": "light"
          }
        }
      ]
    },
    {
      "cell_type": "markdown",
      "source": [
        "####**3.4.3 SVM**"
      ],
      "metadata": {
        "id": "ImPRdBSEKNbY"
      }
    },
    {
      "cell_type": "code",
      "source": [
        "tfid_vect = TfidfVectorizer(analyzer = \"word\", max_features=10000, min_df=3)\n",
        "xTrain = tfid_vect_twenty.fit_transform(twenty_train['text'])\n",
        "xTest = tfid_vect_twenty.transform(twenty_test['text'])\n",
        "yTrain = twenty_train.label\n",
        "yTest = twenty_test.label\n",
        "yTrain = yTrain\n",
        "yTest = yTest\n",
        "xTrain, xTest, yTrain, yTest = extract_features(xTrain, yTrain, xTest, yTest)"
      ],
      "metadata": {
        "colab": {
          "base_uri": "https://localhost:8080/"
        },
        "id": "sr5hYVmrKe1o",
        "outputId": "7e266260-5b60-436a-9e5f-e3694ef2d37d"
      },
      "execution_count": 65,
      "outputs": [
        {
          "output_type": "stream",
          "name": "stdout",
          "text": [
            "[(0, 377), (1, 377), (2, 377), (3, 377), (4, 377), (5, 377), (6, 377), (7, 377), (8, 377), (9, 377), (10, 377), (11, 377), (12, 377), (13, 377), (14, 377), (15, 377), (16, 377), (17, 377), (18, 377), (19, 377)]\n",
            "New dataset shape:  (7540, 4343)\n",
            "Original amount of features:  20609\n",
            "Current amount of features:  4343\n",
            "Features reducted:  16266\n"
          ]
        }
      ]
    },
    {
      "cell_type": "code",
      "source": [
        "from sklearn.svm import SVC\n",
        "\n",
        "svclassifier = SVC(kernel='linear')\n",
        "svclassifier.fit(xTrain, yTrain)\n",
        "y_pred = svclassifier.predict(xTest)\n",
        "acc1 = evaluate_acc(y_pred,  yTest)\n",
        "print(acc1)"
      ],
      "metadata": {
        "colab": {
          "base_uri": "https://localhost:8080/"
        },
        "id": "vEoNsdCoKQBO",
        "outputId": "61b7b2a5-3938-4932-d225-2daa617553b5"
      },
      "execution_count": 66,
      "outputs": [
        {
          "output_type": "stream",
          "name": "stdout",
          "text": [
            "0.5848380244291025\n"
          ]
        }
      ]
    },
    {
      "cell_type": "code",
      "source": [
        "svclassifier = SVC(kernel='poly')\n",
        "svclassifier.fit(xTrain, yTrain)\n",
        "y_pred = svclassifier.predict(xTest)\n",
        "acc2 = evaluate_acc(y_pred,  yTest)\n",
        "print(acc2)"
      ],
      "metadata": {
        "colab": {
          "base_uri": "https://localhost:8080/"
        },
        "id": "5VfaKtDPKRzB",
        "outputId": "b990f698-4e51-4559-a17d-16f74ab77779"
      },
      "execution_count": 67,
      "outputs": [
        {
          "output_type": "stream",
          "name": "stdout",
          "text": [
            "0.31664896441848117\n"
          ]
        }
      ]
    },
    {
      "cell_type": "code",
      "source": [
        "svclassifier = SVC(kernel='rbf')\n",
        "svclassifier.fit(xTrain, yTrain)\n",
        "y_pred = svclassifier.predict(xTest)\n",
        "acc3 = evaluate_acc(y_pred,  yTest)\n",
        "print(acc3)"
      ],
      "metadata": {
        "colab": {
          "base_uri": "https://localhost:8080/"
        },
        "id": "OnZgKweGKT30",
        "outputId": "360094c0-25e1-40ef-b47a-8a7550bf5fdd"
      },
      "execution_count": 68,
      "outputs": [
        {
          "output_type": "stream",
          "name": "stdout",
          "text": [
            "0.5639936271906533\n"
          ]
        }
      ]
    }
  ]
}